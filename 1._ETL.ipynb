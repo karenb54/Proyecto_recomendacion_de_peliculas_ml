{
 "cells": [
  {
   "cell_type": "markdown",
   "metadata": {},
   "source": [
    "# Extraccion y transformacion de los datasets"
   ]
  },
  {
   "cell_type": "markdown",
   "metadata": {},
   "source": [
    "### 1. Extraccion de los datos en dataframes"
   ]
  },
  {
   "cell_type": "code",
   "execution_count": 7,
   "metadata": {},
   "outputs": [],
   "source": [
    "# Importar las librerias correspondientes\n",
    "import pandas as pd\n",
    "import ast\n",
    "import json\n",
    "import numpy as np\n",
    "\n",
    "# Extraer los datos del dataset\n",
    "movies_df = pd.read_csv('Datasets/movies_dataset.csv', low_memory=False)\n",
    "credits_df = pd.read_csv('Datasets/credits.csv', low_memory=False)\n",
    "\n",
    "# Realizar el cambio de csv a parquet\n",
    "movies_df.to_parquet('Datasets/movies_dataset_parquet') \n",
    "credits_df.to_parquet('Datasets/credits_dataset_parquet')\n",
    "\n",
    "# Extraer los datos del dataset en parquet\n",
    "movies_df_parquet = pd.read_parquet('Datasets/movies_dataset_parquet')\n",
    "credits_df_parquet = pd.read_parquet('Datasets/credits_dataset_parquet')\n"
   ]
  },
  {
   "cell_type": "code",
   "execution_count": 8,
   "metadata": {},
   "outputs": [
    {
     "name": "stdout",
     "output_type": "stream",
     "text": [
      "<class 'pandas.core.frame.DataFrame'>\n",
      "RangeIndex: 45466 entries, 0 to 45465\n",
      "Data columns (total 24 columns):\n",
      " #   Column                 Non-Null Count  Dtype  \n",
      "---  ------                 --------------  -----  \n",
      " 0   adult                  45466 non-null  object \n",
      " 1   belongs_to_collection  4494 non-null   object \n",
      " 2   budget                 45466 non-null  object \n",
      " 3   genres                 45466 non-null  object \n",
      " 4   homepage               7782 non-null   object \n",
      " 5   id                     45466 non-null  object \n",
      " 6   imdb_id                45449 non-null  object \n",
      " 7   original_language      45455 non-null  object \n",
      " 8   original_title         45466 non-null  object \n",
      " 9   overview               44512 non-null  object \n",
      " 10  popularity             45461 non-null  object \n",
      " 11  poster_path            45080 non-null  object \n",
      " 12  production_companies   45463 non-null  object \n",
      " 13  production_countries   45463 non-null  object \n",
      " 14  release_date           45379 non-null  object \n",
      " 15  revenue                45460 non-null  float64\n",
      " 16  runtime                45203 non-null  float64\n",
      " 17  spoken_languages       45460 non-null  object \n",
      " 18  status                 45379 non-null  object \n",
      " 19  tagline                20412 non-null  object \n",
      " 20  title                  45460 non-null  object \n",
      " 21  video                  45460 non-null  object \n",
      " 22  vote_average           45460 non-null  float64\n",
      " 23  vote_count             45460 non-null  float64\n",
      "dtypes: float64(4), object(20)\n",
      "memory usage: 8.3+ MB\n",
      "None\n"
     ]
    }
   ],
   "source": [
    "# observacion de datos del dataframe movies_df_parquet\n",
    "print(movies_df_parquet.info())"
   ]
  },
  {
   "cell_type": "code",
   "execution_count": 9,
   "metadata": {},
   "outputs": [
    {
     "name": "stdout",
     "output_type": "stream",
     "text": [
      "                                                cast  \\\n",
      "0  [{'cast_id': 14, 'character': 'Woody (voice)',...   \n",
      "1  [{'cast_id': 1, 'character': 'Alan Parrish', '...   \n",
      "2  [{'cast_id': 2, 'character': 'Max Goldman', 'c...   \n",
      "3  [{'cast_id': 1, 'character': \"Savannah 'Vannah...   \n",
      "4  [{'cast_id': 1, 'character': 'George Banks', '...   \n",
      "\n",
      "                                                crew     id  \n",
      "0  [{'credit_id': '52fe4284c3a36847f8024f49', 'de...    862  \n",
      "1  [{'credit_id': '52fe44bfc3a36847f80a7cd1', 'de...   8844  \n",
      "2  [{'credit_id': '52fe466a9251416c75077a89', 'de...  15602  \n",
      "3  [{'credit_id': '52fe44779251416c91011acb', 'de...  31357  \n",
      "4  [{'credit_id': '52fe44959251416c75039ed7', 'de...  11862  \n"
     ]
    }
   ],
   "source": [
    "# observacion de datos del dataframe credits_df_parquet\n",
    "print(credits_df_parquet.head())        \n"
   ]
  },
  {
   "cell_type": "markdown",
   "metadata": {},
   "source": [
    "### 2. Eliminacion de columnas no utiles"
   ]
  },
  {
   "cell_type": "code",
   "execution_count": 10,
   "metadata": {},
   "outputs": [
    {
     "name": "stdout",
     "output_type": "stream",
     "text": [
      "<class 'pandas.core.frame.DataFrame'>\n",
      "RangeIndex: 45466 entries, 0 to 45465\n",
      "Data columns (total 18 columns):\n",
      " #   Column                 Non-Null Count  Dtype  \n",
      "---  ------                 --------------  -----  \n",
      " 0   belongs_to_collection  4494 non-null   object \n",
      " 1   budget                 45466 non-null  object \n",
      " 2   genres                 45466 non-null  object \n",
      " 3   id                     45466 non-null  object \n",
      " 4   original_language      45455 non-null  object \n",
      " 5   overview               44512 non-null  object \n",
      " 6   popularity             45461 non-null  object \n",
      " 7   production_companies   45463 non-null  object \n",
      " 8   production_countries   45463 non-null  object \n",
      " 9   release_date           45379 non-null  object \n",
      " 10  revenue                45460 non-null  float64\n",
      " 11  runtime                45203 non-null  float64\n",
      " 12  spoken_languages       45460 non-null  object \n",
      " 13  status                 45379 non-null  object \n",
      " 14  tagline                20412 non-null  object \n",
      " 15  title                  45460 non-null  object \n",
      " 16  vote_average           45460 non-null  float64\n",
      " 17  vote_count             45460 non-null  float64\n",
      "dtypes: float64(4), object(14)\n",
      "memory usage: 6.2+ MB\n"
     ]
    }
   ],
   "source": [
    "# Eliminar las columnas\n",
    "movies_df_parquet = movies_df_parquet.drop(columns=['adult','homepage','imdb_id','poster_path','original_title','video'])\n",
    "\n",
    "# Guardar el DataFrame modificado en un nuevo archivo\n",
    "movies_df_parquet.to_parquet('Datasets/movies_dataset_parquet', index=False)  \n",
    "\n",
    "# Comprobar la eliminacion exitosa de las columnas\n",
    "movies_df_parquet.info()"
   ]
  },
  {
   "cell_type": "markdown",
   "metadata": {},
   "source": [
    "### 3. Eliminacion o modificacion de datos nulos"
   ]
  },
  {
   "cell_type": "code",
   "execution_count": 11,
   "metadata": {},
   "outputs": [],
   "source": [
    "# Rellenar los valores nulos de las columnas Revenue y budget por el numero cero (0)\n",
    "\n",
    "movies_df_parquet['revenue'] = movies_df_parquet['revenue'].fillna(0)\n",
    "movies_df_parquet['budget'] = movies_df_parquet['budget'].fillna(0)\n",
    "\n",
    "# Eliminar las filas con valores nulos de la columna release_date\n",
    "movies_df_parquet = movies_df_parquet.dropna(subset=['release_date'])\n"
   ]
  },
  {
   "cell_type": "code",
   "execution_count": 12,
   "metadata": {},
   "outputs": [
    {
     "name": "stdout",
     "output_type": "stream",
     "text": [
      "0\n",
      "0\n",
      "0\n"
     ]
    }
   ],
   "source": [
    "# comprobacion de la limpieza de datos nulos\n",
    "\n",
    "print(movies_df_parquet['release_date'].isnull().sum())\n",
    "print(movies_df_parquet['revenue'].isnull().sum())\n",
    "print(movies_df_parquet['budget'].isnull().sum())"
   ]
  },
  {
   "cell_type": "markdown",
   "metadata": {},
   "source": [
    "### 4. Limpieza de columnas con valores tipo Fecha"
   ]
  },
  {
   "cell_type": "code",
   "execution_count": 13,
   "metadata": {},
   "outputs": [
    {
     "name": "stdout",
     "output_type": "stream",
     "text": [
      "  release_date  release_year\n",
      "0   1995-10-30        1995.0\n",
      "1   1995-12-15        1995.0\n",
      "2   1995-12-22        1995.0\n",
      "3   1995-12-22        1995.0\n",
      "4   1995-02-10        1995.0\n",
      "<class 'pandas.core.frame.DataFrame'>\n",
      "Index: 45379 entries, 0 to 45465\n",
      "Data columns (total 19 columns):\n",
      " #   Column                 Non-Null Count  Dtype         \n",
      "---  ------                 --------------  -----         \n",
      " 0   belongs_to_collection  4491 non-null   object        \n",
      " 1   budget                 45379 non-null  object        \n",
      " 2   genres                 45379 non-null  object        \n",
      " 3   id                     45379 non-null  object        \n",
      " 4   original_language      45368 non-null  object        \n",
      " 5   overview               44438 non-null  object        \n",
      " 6   popularity             45377 non-null  object        \n",
      " 7   production_companies   45379 non-null  object        \n",
      " 8   production_countries   45379 non-null  object        \n",
      " 9   release_date           45376 non-null  datetime64[ns]\n",
      " 10  revenue                45379 non-null  float64       \n",
      " 11  runtime                45130 non-null  float64       \n",
      " 12  spoken_languages       45376 non-null  object        \n",
      " 13  status                 45296 non-null  object        \n",
      " 14  tagline                20398 non-null  object        \n",
      " 15  title                  45376 non-null  object        \n",
      " 16  vote_average           45376 non-null  float64       \n",
      " 17  vote_count             45376 non-null  float64       \n",
      " 18  release_year           45376 non-null  float64       \n",
      "dtypes: datetime64[ns](1), float64(5), object(13)\n",
      "memory usage: 6.9+ MB\n",
      "None\n"
     ]
    }
   ],
   "source": [
    "# Ordenamiento de las fechas de la columna release_date en un formato AAAA-mm-dd\n",
    "movies_df_parquet['release_date'] = pd.to_datetime(movies_df_parquet['release_date'], format ='%Y-%m-%d', errors= 'coerce')\n",
    "\n",
    "# Creacion de una columna llamada release_year tomando el año de la fecha de estreno \n",
    "\n",
    "movies_df_parquet['release_year'] = movies_df_parquet['release_date'].dt.year\n",
    "movies_df_parquet.to_parquet('Datasets/movies_dataset_parquet', index=False)\n",
    "\n",
    "\n",
    "#comprobar los cambios y agregaciones correspondientes\n",
    "\n",
    "print(movies_df_parquet[['release_date', 'release_year']].head())\n",
    "print(movies_df_parquet.info())"
   ]
  },
  {
   "cell_type": "markdown",
   "metadata": {},
   "source": [
    "### 5. Creacion de columnas calculadas"
   ]
  },
  {
   "cell_type": "code",
   "execution_count": 14,
   "metadata": {},
   "outputs": [
    {
     "name": "stdout",
     "output_type": "stream",
     "text": [
      "       revenue      budget     return\n",
      "0  373554033.0  30000000.0  12.451801\n",
      "1  262797249.0  65000000.0   4.043035\n",
      "2          0.0         0.0   0.000000\n",
      "3   81452156.0  16000000.0   5.090760\n",
      "4   76578911.0         0.0   0.000000\n",
      "<class 'pandas.core.frame.DataFrame'>\n",
      "Index: 45379 entries, 0 to 45465\n",
      "Data columns (total 20 columns):\n",
      " #   Column                 Non-Null Count  Dtype         \n",
      "---  ------                 --------------  -----         \n",
      " 0   belongs_to_collection  4491 non-null   object        \n",
      " 1   budget                 45376 non-null  float64       \n",
      " 2   genres                 45379 non-null  object        \n",
      " 3   id                     45379 non-null  object        \n",
      " 4   original_language      45368 non-null  object        \n",
      " 5   overview               44438 non-null  object        \n",
      " 6   popularity             45377 non-null  object        \n",
      " 7   production_companies   45379 non-null  object        \n",
      " 8   production_countries   45379 non-null  object        \n",
      " 9   release_date           45376 non-null  datetime64[ns]\n",
      " 10  revenue                45379 non-null  float64       \n",
      " 11  runtime                45130 non-null  float64       \n",
      " 12  spoken_languages       45376 non-null  object        \n",
      " 13  status                 45296 non-null  object        \n",
      " 14  tagline                20398 non-null  object        \n",
      " 15  title                  45376 non-null  object        \n",
      " 16  vote_average           45376 non-null  float64       \n",
      " 17  vote_count             45376 non-null  float64       \n",
      " 18  release_year           45376 non-null  float64       \n",
      " 19  return                 45379 non-null  float64       \n",
      "dtypes: datetime64[ns](1), float64(7), object(12)\n",
      "memory usage: 7.3+ MB\n",
      "None\n"
     ]
    }
   ],
   "source": [
    "# Asegurar que los datos de las columnas revenue y budget sean numericos\n",
    "\n",
    "movies_df_parquet['revenue'] = pd.to_numeric(movies_df_parquet['revenue'], errors='coerce')\n",
    "movies_df_parquet['budget'] = pd.to_numeric(movies_df_parquet['budget'], errors='coerce')\n",
    "\n",
    "# Creacion de la columna 'return' la cual va a calcular el retorno de la inversion entre las columnas 'revenue' y 'budget' usando numpy\n",
    "\n",
    "movies_df_parquet['return'] = np.where(\n",
    "    # condicion\n",
    "    movies_df_parquet['budget'] > 0,\n",
    "    # valor si la condicion es True\n",
    "    movies_df_parquet['revenue']/movies_df_parquet['budget'],\n",
    "    # valor si la condicion es False\n",
    "    0\n",
    ")\n",
    "\n",
    "# guardar los datos en el dataset y comprobar los cambios y agregaciones correspondientes\n",
    "\n",
    "movies_df_parquet.to_parquet('Datasets/movies_dataset_parquet', index=False)\n",
    "print(movies_df_parquet [['revenue', 'budget', 'return']].head())\n",
    "print(movies_df_parquet .info())"
   ]
  },
  {
   "cell_type": "markdown",
   "metadata": {},
   "source": [
    "### 6. Desanidado de Columnas del dataset movies"
   ]
  },
  {
   "cell_type": "code",
   "execution_count": 15,
   "metadata": {},
   "outputs": [
    {
     "data": {
      "text/plain": [
       "array([\"{'id': 10194, 'name': 'Toy Story Collection', 'poster_path': '/7G9915LfUQ2lVfwMEEhDsn3kT4B.jpg', 'backdrop_path': '/9FBwqcd9IRruEDUrTdcaafOMKUq.jpg'}\",\n",
       "       None,\n",
       "       \"{'id': 119050, 'name': 'Grumpy Old Men Collection', 'poster_path': '/nLvUdqgPgm3F85NMCii9gVFUcet.jpg', 'backdrop_path': '/hypTnLot2z8wpFS7qwsQHW1uV8u.jpg'}\",\n",
       "       ...,\n",
       "       \"{'id': 148603, 'name': 'Ducobu Collection', 'poster_path': '/rd7AWZUy2QFPIblNWToVmdfXQcA.jpg', 'backdrop_path': '/7mzKmoIrvGapvsSbAVlX4HtCnFj.jpg'}\",\n",
       "       \"{'id': 152918, 'name': 'Mister Blot Collection', 'poster_path': '/44PYEwwjGts8pAob59RHd6zlkKc.jpg', 'backdrop_path': '/5uoPsNiFpUYNamSGqE8okN27VRK.jpg'}\",\n",
       "       \"{'id': 200641, 'name': 'Red Lotus Collection', 'poster_path': '/yf9Eod9ANXyHTzDpAxz9ezgvlL4.jpg', 'backdrop_path': '/3fhHbLeO3DqdHvgHg5szs399eBb.jpg'}\"],\n",
       "      dtype=object)"
      ]
     },
     "execution_count": 15,
     "metadata": {},
     "output_type": "execute_result"
    }
   ],
   "source": [
    "# Confirmar los tipos de datos que puedo encontrar dentro de la columna belongs_to_collection\n",
    "movies_df_parquet ['belongs_to_collection'].unique()"
   ]
  },
  {
   "cell_type": "code",
   "execution_count": 16,
   "metadata": {},
   "outputs": [],
   "source": [
    "# Realizar una función para desanidar los diccionarios de la columna belongs_to_collection\n",
    "\n",
    "def desanidar_belongs_to_collection(columna):\n",
    "    \"\"\"\n",
    "    Desanida la columna 'belongs_to_collection' del DataFrame movies_df_parquet_modificado, extrayendo los valores\n",
    "    de 'id' y 'name' de la columna 'belongs_to_collection' y creando nuevas columnas 'id_belongs_to_collection' y \n",
    "    'name_belongs_to_collection'.\n",
    "\n",
    "    Parametros:\n",
    "        columna: la columna 'belongs_to_collection' del DataFrame que contiene datos en formato diccionario.\n",
    "\n",
    "    Retorna:\n",
    "        Un DataFrame modificado con dos nuevas columnas:\n",
    "            * 'id_belongs_to_collection': El id de la colección a la que pertenece la película.\n",
    "            * 'name_belongs_to_collection': El nombre de la colección a la que pertenece la película.\n",
    "    \"\"\"\n",
    "\n",
    "    if pd.isna(columna) or not isinstance(columna, str): \n",
    "        return None, None\n",
    "    try:\n",
    "        # Intentar convertir el string en un diccionario\n",
    "\n",
    "        columna_dict = ast.literal_eval(columna)\n",
    "\n",
    "        # Asegurarse de que sea un diccionario antes de extraer los valores\n",
    "\n",
    "        if isinstance(columna_dict, dict):\n",
    "            return columna_dict.get('id', None), columna_dict.get('name', None)\n",
    "        else:\n",
    "            return None, None\n",
    "        \n",
    "    # tener en cuenta los errores que pueden ocurrir \n",
    "\n",
    "    except (ValueError, SyntaxError):\n",
    "        return None, None\n",
    "\n",
    "# Aplicar la función para extraer 'id' y 'name'\n",
    "movies_df_parquet ['id_belongs_to_collection'], movies_df_parquet ['name_belongs_to_collection'] = zip(*movies_df_parquet ['belongs_to_collection'].apply(desanidar_belongs_to_collection))\n"
   ]
  },
  {
   "cell_type": "code",
   "execution_count": 17,
   "metadata": {},
   "outputs": [
    {
     "name": "stdout",
     "output_type": "stream",
     "text": [
      "   id_belongs_to_collection      name_belongs_to_collection\n",
      "0                   10194.0            Toy Story Collection\n",
      "1                       NaN                            None\n",
      "2                  119050.0       Grumpy Old Men Collection\n",
      "3                       NaN                            None\n",
      "4                   96871.0  Father of the Bride Collection\n",
      "<class 'pandas.core.frame.DataFrame'>\n",
      "Index: 45379 entries, 0 to 45465\n",
      "Data columns (total 22 columns):\n",
      " #   Column                      Non-Null Count  Dtype         \n",
      "---  ------                      --------------  -----         \n",
      " 0   belongs_to_collection       4491 non-null   object        \n",
      " 1   budget                      45376 non-null  float64       \n",
      " 2   genres                      45379 non-null  object        \n",
      " 3   id                          45379 non-null  object        \n",
      " 4   original_language           45368 non-null  object        \n",
      " 5   overview                    44438 non-null  object        \n",
      " 6   popularity                  45377 non-null  object        \n",
      " 7   production_companies        45379 non-null  object        \n",
      " 8   production_countries        45379 non-null  object        \n",
      " 9   release_date                45376 non-null  datetime64[ns]\n",
      " 10  revenue                     45379 non-null  float64       \n",
      " 11  runtime                     45130 non-null  float64       \n",
      " 12  spoken_languages            45376 non-null  object        \n",
      " 13  status                      45296 non-null  object        \n",
      " 14  tagline                     20398 non-null  object        \n",
      " 15  title                       45376 non-null  object        \n",
      " 16  vote_average                45376 non-null  float64       \n",
      " 17  vote_count                  45376 non-null  float64       \n",
      " 18  release_year                45376 non-null  float64       \n",
      " 19  return                      45379 non-null  float64       \n",
      " 20  id_belongs_to_collection    4488 non-null   float64       \n",
      " 21  name_belongs_to_collection  4488 non-null   object        \n",
      "dtypes: datetime64[ns](1), float64(8), object(13)\n",
      "memory usage: 8.0+ MB\n",
      "None\n"
     ]
    }
   ],
   "source": [
    "# Verificar la existencia y correcto guardado de las nuevas columnas\n",
    "\n",
    "print(movies_df_parquet [['id_belongs_to_collection', 'name_belongs_to_collection']].head())\n",
    "print(movies_df_parquet .info())"
   ]
  },
  {
   "cell_type": "code",
   "execution_count": 18,
   "metadata": {},
   "outputs": [
    {
     "name": "stdout",
     "output_type": "stream",
     "text": [
      "[\"[{'name': 'Pixar Animation Studios', 'id': 3}]\"\n",
      " \"[{'name': 'TriStar Pictures', 'id': 559}, {'name': 'Teitler Film', 'id': 2550}, {'name': 'Interscope Communications', 'id': 10201}]\"\n",
      " \"[{'name': 'Warner Bros.', 'id': 6194}, {'name': 'Lancaster Gate', 'id': 19464}]\"\n",
      " ...\n",
      " \"[{'name': 'Westdeutscher Rundfunk (WDR)', 'id': 7025}, {'name': 'Working Title Films', 'id': 10163}, {'name': '20th Century Fox Television', 'id': 16323}, {'name': 'CanWest Global Communications', 'id': 38978}]\"\n",
      " \"[{'name': 'Sine Olivia', 'id': 19653}]\"\n",
      " \"[{'name': 'Yermoliev', 'id': 88753}]\"]\n"
     ]
    }
   ],
   "source": [
    "# Confirmar los tipos de datos que puedo encontrar dentro de la columna production_companies\n",
    "print(movies_df_parquet ['production_companies'].unique())\n",
    "\n"
   ]
  },
  {
   "cell_type": "code",
   "execution_count": 19,
   "metadata": {},
   "outputs": [],
   "source": [
    "# Realizar una función para desanidar los diccionarios de la columna production_companies\n",
    "\n",
    "def desanidar_production_companies(columna):\n",
    "    \"\"\"\n",
    "    Desanida la columna 'production_companies', extrayendo los valores de 'id' y 'name' y creando\n",
    "    nuevas columnas 'id_production_companies' y 'name_production_companies'.\n",
    "\n",
    "    Parametros:\n",
    "        columna: La columna 'production_companies' del DataFrame que contiene datos en formato lista de diccionarios.\n",
    "\n",
    "    Retorna:\n",
    "        Tuplas con 'id_production_companies' y 'name_production_companies'.\n",
    "    \"\"\"\n",
    "    if pd.isna(columna) or not isinstance(columna, str):\n",
    "        return None, None\n",
    "    \n",
    "    try:\n",
    "        columna_list = ast.literal_eval(columna)\n",
    "        if isinstance(columna_list, list) and len(columna_list) > 0:\n",
    "            return columna_list[0].get('id', None), columna_list[0].get('name', None)\n",
    "        else:\n",
    "            return None, None\n",
    "    except (ValueError, SyntaxError):\n",
    "        return None, None\n",
    "\n",
    "# Aplicar la función para extraer las tuplas\n",
    "movies_df_parquet ['id_production_companies'], movies_df_parquet ['name_production_companies'] = zip(*movies_df_parquet ['production_companies'].apply(desanidar_production_companies))\n"
   ]
  },
  {
   "cell_type": "code",
   "execution_count": 20,
   "metadata": {},
   "outputs": [
    {
     "name": "stdout",
     "output_type": "stream",
     "text": [
      "   id_production_companies               name_production_companies\n",
      "0                      3.0                 Pixar Animation Studios\n",
      "1                    559.0                        TriStar Pictures\n",
      "2                   6194.0                            Warner Bros.\n",
      "3                    306.0  Twentieth Century Fox Film Corporation\n",
      "4                   5842.0                   Sandollar Productions\n",
      "<class 'pandas.core.frame.DataFrame'>\n",
      "Index: 45379 entries, 0 to 45465\n",
      "Data columns (total 24 columns):\n",
      " #   Column                      Non-Null Count  Dtype         \n",
      "---  ------                      --------------  -----         \n",
      " 0   belongs_to_collection       4491 non-null   object        \n",
      " 1   budget                      45376 non-null  float64       \n",
      " 2   genres                      45379 non-null  object        \n",
      " 3   id                          45379 non-null  object        \n",
      " 4   original_language           45368 non-null  object        \n",
      " 5   overview                    44438 non-null  object        \n",
      " 6   popularity                  45377 non-null  object        \n",
      " 7   production_companies        45379 non-null  object        \n",
      " 8   production_countries        45379 non-null  object        \n",
      " 9   release_date                45376 non-null  datetime64[ns]\n",
      " 10  revenue                     45379 non-null  float64       \n",
      " 11  runtime                     45130 non-null  float64       \n",
      " 12  spoken_languages            45376 non-null  object        \n",
      " 13  status                      45296 non-null  object        \n",
      " 14  tagline                     20398 non-null  object        \n",
      " 15  title                       45376 non-null  object        \n",
      " 16  vote_average                45376 non-null  float64       \n",
      " 17  vote_count                  45376 non-null  float64       \n",
      " 18  release_year                45376 non-null  float64       \n",
      " 19  return                      45379 non-null  float64       \n",
      " 20  id_belongs_to_collection    4488 non-null   float64       \n",
      " 21  name_belongs_to_collection  4488 non-null   object        \n",
      " 22  id_production_companies     33580 non-null  float64       \n",
      " 23  name_production_companies   33580 non-null  object        \n",
      "dtypes: datetime64[ns](1), float64(9), object(14)\n",
      "memory usage: 8.7+ MB\n",
      "None\n"
     ]
    }
   ],
   "source": [
    "# Verificar la existencia y correcto guardado de las nuevas columnas\n",
    "\n",
    "print(movies_df_parquet [['id_production_companies', 'name_production_companies']].head())\n",
    "print(movies_df_parquet .info())"
   ]
  },
  {
   "cell_type": "code",
   "execution_count": 21,
   "metadata": {},
   "outputs": [
    {
     "name": "stdout",
     "output_type": "stream",
     "text": [
      "[\"[{'iso_639_1': 'en', 'name': 'English'}]\"\n",
      " \"[{'iso_639_1': 'en', 'name': 'English'}, {'iso_639_1': 'fr', 'name': 'Français'}]\"\n",
      " \"[{'iso_639_1': 'en', 'name': 'English'}, {'iso_639_1': 'es', 'name': 'Español'}]\"\n",
      " ...\n",
      " \"[{'iso_639_1': 'sv', 'name': 'svenska'}, {'iso_639_1': 'de', 'name': 'Deutsch'}]\"\n",
      " \"[{'iso_639_1': 'ar', 'name': 'العربية'}, {'iso_639_1': 'pl', 'name': 'Polski'}]\"\n",
      " \"[{'iso_639_1': 'ff', 'name': 'Fulfulde'}, {'iso_639_1': 'en', 'name': 'English'}]\"]\n"
     ]
    }
   ],
   "source": [
    "# Confirmar los tipos de datos que puedo encontrar dentro de la columna spoken_languages\n",
    "print(movies_df_parquet ['spoken_languages'].unique())"
   ]
  },
  {
   "cell_type": "code",
   "execution_count": 22,
   "metadata": {},
   "outputs": [],
   "source": [
    "# Realizar una función para desanidar los diccionarios de la columna spoken_languages\n",
    "\n",
    "def desanidar_spoken_languages(columna):\n",
    "    \"\"\"\n",
    "    Desanida la columna 'spoken_languages', extrayendo los valores de 'iso_639_1' y 'name' y creando\n",
    "    nuevas columnas 'iso_poken_language' y 'name_spoken_language'.\n",
    "\n",
    "    Parametros:\n",
    "        columna (pd.Series): Columna del DataFrame que contiene datos en formato lista de diccionarios.\n",
    "\n",
    "    Retorna:\n",
    "        Tuplas con 'iso_poken_language' y 'name_spoken_language'.\n",
    "    \"\"\"\n",
    "    if pd.isna(columna) or not isinstance(columna, str):\n",
    "        return None, None\n",
    "    \n",
    "    try:\n",
    "        columna_list = ast.literal_eval(columna)\n",
    "        if isinstance(columna_list, list) and len(columna_list) > 0:\n",
    "            return columna_list[0].get('iso_639_1', None), columna_list[0].get('name', None)\n",
    "        else:\n",
    "            return None, None\n",
    "    except (ValueError, SyntaxError):\n",
    "        return None, None\n",
    "\n",
    "# Aplicar la función\n",
    "movies_df_parquet ['iso_poken_language'], movies_df_parquet ['name_spoken_language'] = zip(*movies_df_parquet ['spoken_languages'].apply(desanidar_spoken_languages))"
   ]
  },
  {
   "cell_type": "code",
   "execution_count": 23,
   "metadata": {},
   "outputs": [
    {
     "name": "stdout",
     "output_type": "stream",
     "text": [
      "  iso_poken_language name_spoken_language\n",
      "0                 en              English\n",
      "1                 en              English\n",
      "2                 en              English\n",
      "3                 en              English\n",
      "4                 en              English\n",
      "<class 'pandas.core.frame.DataFrame'>\n",
      "Index: 45379 entries, 0 to 45465\n",
      "Data columns (total 26 columns):\n",
      " #   Column                      Non-Null Count  Dtype         \n",
      "---  ------                      --------------  -----         \n",
      " 0   belongs_to_collection       4491 non-null   object        \n",
      " 1   budget                      45376 non-null  float64       \n",
      " 2   genres                      45379 non-null  object        \n",
      " 3   id                          45379 non-null  object        \n",
      " 4   original_language           45368 non-null  object        \n",
      " 5   overview                    44438 non-null  object        \n",
      " 6   popularity                  45377 non-null  object        \n",
      " 7   production_companies        45379 non-null  object        \n",
      " 8   production_countries        45379 non-null  object        \n",
      " 9   release_date                45376 non-null  datetime64[ns]\n",
      " 10  revenue                     45379 non-null  float64       \n",
      " 11  runtime                     45130 non-null  float64       \n",
      " 12  spoken_languages            45376 non-null  object        \n",
      " 13  status                      45296 non-null  object        \n",
      " 14  tagline                     20398 non-null  object        \n",
      " 15  title                       45376 non-null  object        \n",
      " 16  vote_average                45376 non-null  float64       \n",
      " 17  vote_count                  45376 non-null  float64       \n",
      " 18  release_year                45376 non-null  float64       \n",
      " 19  return                      45379 non-null  float64       \n",
      " 20  id_belongs_to_collection    4488 non-null   float64       \n",
      " 21  name_belongs_to_collection  4488 non-null   object        \n",
      " 22  id_production_companies     33580 non-null  float64       \n",
      " 23  name_production_companies   33580 non-null  object        \n",
      " 24  iso_poken_language          41608 non-null  object        \n",
      " 25  name_spoken_language        41608 non-null  object        \n",
      "dtypes: datetime64[ns](1), float64(9), object(16)\n",
      "memory usage: 9.3+ MB\n",
      "None\n"
     ]
    }
   ],
   "source": [
    "# Verificar la existencia y correcto guardado de las nuevas columnas\n",
    "print(movies_df_parquet [['iso_poken_language', 'name_spoken_language']].head())\n",
    "print(movies_df_parquet .info())"
   ]
  },
  {
   "cell_type": "code",
   "execution_count": 24,
   "metadata": {},
   "outputs": [
    {
     "name": "stdout",
     "output_type": "stream",
     "text": [
      "[\"[{'iso_3166_1': 'US', 'name': 'United States of America'}]\"\n",
      " \"[{'iso_3166_1': 'DE', 'name': 'Germany'}, {'iso_3166_1': 'US', 'name': 'United States of America'}]\"\n",
      " \"[{'iso_3166_1': 'GB', 'name': 'United Kingdom'}, {'iso_3166_1': 'US', 'name': 'United States of America'}]\"\n",
      " ...\n",
      " \"[{'iso_3166_1': 'PL', 'name': 'Poland'}, {'iso_3166_1': 'CZ', 'name': 'Czech Republic'}, {'iso_3166_1': 'SK', 'name': 'Slovakia'}]\"\n",
      " \"[{'iso_3166_1': 'CU', 'name': 'Cuba'}, {'iso_3166_1': 'DE', 'name': 'Germany'}, {'iso_3166_1': 'ES', 'name': 'Spain'}]\"\n",
      " \"[{'iso_3166_1': 'EG', 'name': 'Egypt'}, {'iso_3166_1': 'IT', 'name': 'Italy'}, {'iso_3166_1': 'US', 'name': 'United States of America'}]\"]\n"
     ]
    }
   ],
   "source": [
    "# Confirmar los tipos de datos que puedo encontrar dentro de la columna production_countries\n",
    "print(movies_df_parquet ['production_countries'].unique())"
   ]
  },
  {
   "cell_type": "code",
   "execution_count": 25,
   "metadata": {},
   "outputs": [],
   "source": [
    "# Crear una función para desanidar los diccionarios de la columna production_countries\n",
    "\n",
    "def desanidar_production_countries(columna):\n",
    "    \"\"\"\n",
    "    Desanida la columna 'production_countries', extrayendo los valores de 'iso_3166_1' y 'name' y creando\n",
    "    nuevas columnas 'iso_production_countries' y 'name_production_countries'.\n",
    "\n",
    "    Parametros:\n",
    "        columna (pd.Series): Columna del DataFrame que contiene datos en formato lista de diccionarios.\n",
    "\n",
    "    Retorna:\n",
    "        Tuplas con 'iso_country' y 'name_country'.\n",
    "    \"\"\"\n",
    "    if pd.isna(columna) or not isinstance(columna, str):\n",
    "        return None, None\n",
    "    \n",
    "    try:\n",
    "        columna_list = ast.literal_eval(columna)\n",
    "        if isinstance(columna_list, list) and len(columna_list) > 0:\n",
    "            return columna_list[0].get('iso_3166_1', None), columna_list[0].get('name', None)\n",
    "        else:\n",
    "            return None, None\n",
    "    except (ValueError, SyntaxError):\n",
    "        return None, None\n",
    "\n",
    "# Aplicar la función\n",
    "movies_df_parquet ['iso_production_countries'], movies_df_parquet ['name_production_countries'] = zip(*movies_df_parquet ['production_countries'].apply(desanidar_production_countries))"
   ]
  },
  {
   "cell_type": "code",
   "execution_count": 26,
   "metadata": {},
   "outputs": [
    {
     "name": "stdout",
     "output_type": "stream",
     "text": [
      "  iso_production_countries name_production_countries\n",
      "0                       US  United States of America\n",
      "1                       US  United States of America\n",
      "2                       US  United States of America\n",
      "3                       US  United States of America\n",
      "4                       US  United States of America\n",
      "<class 'pandas.core.frame.DataFrame'>\n",
      "Index: 45379 entries, 0 to 45465\n",
      "Data columns (total 28 columns):\n",
      " #   Column                      Non-Null Count  Dtype         \n",
      "---  ------                      --------------  -----         \n",
      " 0   belongs_to_collection       4491 non-null   object        \n",
      " 1   budget                      45376 non-null  float64       \n",
      " 2   genres                      45379 non-null  object        \n",
      " 3   id                          45379 non-null  object        \n",
      " 4   original_language           45368 non-null  object        \n",
      " 5   overview                    44438 non-null  object        \n",
      " 6   popularity                  45377 non-null  object        \n",
      " 7   production_companies        45379 non-null  object        \n",
      " 8   production_countries        45379 non-null  object        \n",
      " 9   release_date                45376 non-null  datetime64[ns]\n",
      " 10  revenue                     45379 non-null  float64       \n",
      " 11  runtime                     45130 non-null  float64       \n",
      " 12  spoken_languages            45376 non-null  object        \n",
      " 13  status                      45296 non-null  object        \n",
      " 14  tagline                     20398 non-null  object        \n",
      " 15  title                       45376 non-null  object        \n",
      " 16  vote_average                45376 non-null  float64       \n",
      " 17  vote_count                  45376 non-null  float64       \n",
      " 18  release_year                45376 non-null  float64       \n",
      " 19  return                      45379 non-null  float64       \n",
      " 20  id_belongs_to_collection    4488 non-null   float64       \n",
      " 21  name_belongs_to_collection  4488 non-null   object        \n",
      " 22  id_production_companies     33580 non-null  float64       \n",
      " 23  name_production_companies   33580 non-null  object        \n",
      " 24  iso_poken_language          41608 non-null  object        \n",
      " 25  name_spoken_language        41608 non-null  object        \n",
      " 26  iso_production_countries    39165 non-null  object        \n",
      " 27  name_production_countries   39165 non-null  object        \n",
      "dtypes: datetime64[ns](1), float64(9), object(18)\n",
      "memory usage: 10.0+ MB\n",
      "None\n"
     ]
    }
   ],
   "source": [
    "# Verificar la existencia y correcto guardado de las nuevas columnas\n",
    "print(movies_df_parquet [['iso_production_countries', 'name_production_countries']].head())\n",
    "print(movies_df_parquet .info())\n",
    "\n"
   ]
  },
  {
   "cell_type": "code",
   "execution_count": 27,
   "metadata": {},
   "outputs": [
    {
     "name": "stdout",
     "output_type": "stream",
     "text": [
      "[\"[{'id': 16, 'name': 'Animation'}, {'id': 35, 'name': 'Comedy'}, {'id': 10751, 'name': 'Family'}]\"\n",
      " \"[{'id': 12, 'name': 'Adventure'}, {'id': 14, 'name': 'Fantasy'}, {'id': 10751, 'name': 'Family'}]\"\n",
      " \"[{'id': 10749, 'name': 'Romance'}, {'id': 35, 'name': 'Comedy'}]\" ...\n",
      " \"[{'id': 80, 'name': 'Crime'}, {'id': 35, 'name': 'Comedy'}, {'id': 28, 'name': 'Action'}, {'id': 10751, 'name': 'Family'}]\"\n",
      " \"[{'id': 28, 'name': 'Action'}, {'id': 9648, 'name': 'Mystery'}, {'id': 53, 'name': 'Thriller'}, {'id': 27, 'name': 'Horror'}]\"\n",
      " \"[{'id': 10751, 'name': 'Family'}, {'id': 16, 'name': 'Animation'}, {'id': 10749, 'name': 'Romance'}, {'id': 35, 'name': 'Comedy'}]\"]\n"
     ]
    }
   ],
   "source": [
    "# Confirmar los tipos de datos que puedo encontrar dentro de la columna genres\n",
    "print(movies_df_parquet ['genres'].unique())"
   ]
  },
  {
   "cell_type": "code",
   "execution_count": 28,
   "metadata": {},
   "outputs": [],
   "source": [
    "# Crear una función para desanidar los diccionarios de la columna genres\n",
    "def desanidar_genres(columna):\n",
    "    \"\"\"\n",
    "    Desanida la columna 'genres', extrayendo el primer valor de 'id' y 'name' y creando\n",
    "    nuevas columnas 'id_genre' y 'name_genre'.\n",
    "\n",
    "    Parametros:\n",
    "        columna (pd.Series): Columna del DataFrame que contiene datos en formato lista de diccionarios.\n",
    "\n",
    "    Retorna:\n",
    "        Tuplas con 'id_genre' y 'name_genre'.\n",
    "    \"\"\"\n",
    "    if pd.isna(columna) or not isinstance(columna, str):\n",
    "        return None, None\n",
    "    \n",
    "    try:\n",
    "        columna_list = ast.literal_eval(columna)\n",
    "        if isinstance(columna_list, list) and len(columna_list) > 0:\n",
    "            return columna_list[0].get('id', None), columna_list[0].get('name', None)\n",
    "        else:\n",
    "            return None, None\n",
    "    except (ValueError, SyntaxError):\n",
    "        return None, None\n",
    "\n",
    "# Aplicar la función\n",
    "movies_df_parquet ['id_genre'], movies_df_parquet ['name_genre'] = zip(*movies_df_parquet ['genres'].apply(desanidar_genres))"
   ]
  },
  {
   "cell_type": "code",
   "execution_count": 29,
   "metadata": {},
   "outputs": [
    {
     "name": "stdout",
     "output_type": "stream",
     "text": [
      "  iso_production_countries name_production_countries\n",
      "0                       US  United States of America\n",
      "1                       US  United States of America\n",
      "2                       US  United States of America\n",
      "3                       US  United States of America\n",
      "4                       US  United States of America\n",
      "<class 'pandas.core.frame.DataFrame'>\n",
      "Index: 45379 entries, 0 to 45465\n",
      "Data columns (total 30 columns):\n",
      " #   Column                      Non-Null Count  Dtype         \n",
      "---  ------                      --------------  -----         \n",
      " 0   belongs_to_collection       4491 non-null   object        \n",
      " 1   budget                      45376 non-null  float64       \n",
      " 2   genres                      45379 non-null  object        \n",
      " 3   id                          45379 non-null  object        \n",
      " 4   original_language           45368 non-null  object        \n",
      " 5   overview                    44438 non-null  object        \n",
      " 6   popularity                  45377 non-null  object        \n",
      " 7   production_companies        45379 non-null  object        \n",
      " 8   production_countries        45379 non-null  object        \n",
      " 9   release_date                45376 non-null  datetime64[ns]\n",
      " 10  revenue                     45379 non-null  float64       \n",
      " 11  runtime                     45130 non-null  float64       \n",
      " 12  spoken_languages            45376 non-null  object        \n",
      " 13  status                      45296 non-null  object        \n",
      " 14  tagline                     20398 non-null  object        \n",
      " 15  title                       45376 non-null  object        \n",
      " 16  vote_average                45376 non-null  float64       \n",
      " 17  vote_count                  45376 non-null  float64       \n",
      " 18  release_year                45376 non-null  float64       \n",
      " 19  return                      45379 non-null  float64       \n",
      " 20  id_belongs_to_collection    4488 non-null   float64       \n",
      " 21  name_belongs_to_collection  4488 non-null   object        \n",
      " 22  id_production_companies     33580 non-null  float64       \n",
      " 23  name_production_companies   33580 non-null  object        \n",
      " 24  iso_poken_language          41608 non-null  object        \n",
      " 25  name_spoken_language        41608 non-null  object        \n",
      " 26  iso_production_countries    39165 non-null  object        \n",
      " 27  name_production_countries   39165 non-null  object        \n",
      " 28  id_genre                    42995 non-null  float64       \n",
      " 29  name_genre                  42995 non-null  object        \n",
      "dtypes: datetime64[ns](1), float64(10), object(19)\n",
      "memory usage: 10.7+ MB\n",
      "None\n"
     ]
    }
   ],
   "source": [
    "# Verificar la existencia de las nuevas columnas\n",
    "print(movies_df_parquet [['iso_production_countries', 'name_production_countries']].head())\n",
    "print(movies_df_parquet .info())\n"
   ]
  },
  {
   "cell_type": "markdown",
   "metadata": {},
   "source": [
    "### 7. Eliminacion de las columnas desanidadas"
   ]
  },
  {
   "cell_type": "code",
   "execution_count": 30,
   "metadata": {},
   "outputs": [
    {
     "name": "stdout",
     "output_type": "stream",
     "text": [
      "<class 'pandas.core.frame.DataFrame'>\n",
      "Index: 45379 entries, 0 to 45465\n",
      "Data columns (total 25 columns):\n",
      " #   Column                      Non-Null Count  Dtype         \n",
      "---  ------                      --------------  -----         \n",
      " 0   budget                      45376 non-null  float64       \n",
      " 1   id                          45379 non-null  object        \n",
      " 2   original_language           45368 non-null  object        \n",
      " 3   overview                    44438 non-null  object        \n",
      " 4   popularity                  45377 non-null  object        \n",
      " 5   release_date                45376 non-null  datetime64[ns]\n",
      " 6   revenue                     45379 non-null  float64       \n",
      " 7   runtime                     45130 non-null  float64       \n",
      " 8   status                      45296 non-null  object        \n",
      " 9   tagline                     20398 non-null  object        \n",
      " 10  title                       45376 non-null  object        \n",
      " 11  vote_average                45376 non-null  float64       \n",
      " 12  vote_count                  45376 non-null  float64       \n",
      " 13  release_year                45376 non-null  float64       \n",
      " 14  return                      45379 non-null  float64       \n",
      " 15  id_belongs_to_collection    4488 non-null   float64       \n",
      " 16  name_belongs_to_collection  4488 non-null   object        \n",
      " 17  id_production_companies     33580 non-null  float64       \n",
      " 18  name_production_companies   33580 non-null  object        \n",
      " 19  iso_poken_language          41608 non-null  object        \n",
      " 20  name_spoken_language        41608 non-null  object        \n",
      " 21  iso_production_countries    39165 non-null  object        \n",
      " 22  name_production_countries   39165 non-null  object        \n",
      " 23  id_genre                    42995 non-null  float64       \n",
      " 24  name_genre                  42995 non-null  object        \n",
      "dtypes: datetime64[ns](1), float64(10), object(14)\n",
      "memory usage: 9.0+ MB\n",
      "None\n"
     ]
    }
   ],
   "source": [
    "\n",
    "# # Eliminar las columnas desanidadas\n",
    "movies_df_parquet = movies_df_parquet.drop(columns=['belongs_to_collection','production_companies','production_countries','spoken_languages','genres'])\n",
    "\n",
    "# Guardar el dataframe en su respectivo dataset\n",
    "movies_df_parquet .to_parquet('Datasets/movies_dataset_parquet', index=False) \n",
    "\n",
    "# Verificar la eliminacion exitosa\n",
    "print(movies_df_parquet .info())"
   ]
  },
  {
   "cell_type": "markdown",
   "metadata": {},
   "source": [
    "### 8. Desanidado de Columnas del dataset credits"
   ]
  },
  {
   "cell_type": "code",
   "execution_count": 31,
   "metadata": {},
   "outputs": [
    {
     "name": "stdout",
     "output_type": "stream",
     "text": [
      "<class 'pandas.core.frame.DataFrame'>\n",
      "RangeIndex: 45476 entries, 0 to 45475\n",
      "Data columns (total 3 columns):\n",
      " #   Column  Non-Null Count  Dtype \n",
      "---  ------  --------------  ----- \n",
      " 0   cast    45476 non-null  object\n",
      " 1   crew    45476 non-null  object\n",
      " 2   id      45476 non-null  int64 \n",
      "dtypes: int64(1), object(2)\n",
      "memory usage: 1.0+ MB\n",
      "None\n"
     ]
    }
   ],
   "source": [
    "# Revisar las columnas y tipo de datos\n",
    "print(credits_df_parquet.info())\n"
   ]
  },
  {
   "cell_type": "code",
   "execution_count": 32,
   "metadata": {},
   "outputs": [
    {
     "name": "stdout",
     "output_type": "stream",
     "text": [
      "[\"[{'cast_id': 14, 'character': 'Woody (voice)', 'credit_id': '52fe4284c3a36847f8024f95', 'gender': 2, 'id': 31, 'name': 'Tom Hanks', 'order': 0, 'profile_path': '/pQFoyx7rp09CJTAb932F2g8Nlho.jpg'}, {'cast_id': 15, 'character': 'Buzz Lightyear (voice)', 'credit_id': '52fe4284c3a36847f8024f99', 'gender': 2, 'id': 12898, 'name': 'Tim Allen', 'order': 1, 'profile_path': '/uX2xVf6pMmPepxnvFWyBtjexzgY.jpg'}, {'cast_id': 16, 'character': 'Mr. Potato Head (voice)', 'credit_id': '52fe4284c3a36847f8024f9d', 'gender': 2, 'id': 7167, 'name': 'Don Rickles', 'order': 2, 'profile_path': '/h5BcaDMPRVLHLDzbQavec4xfSdt.jpg'}, {'cast_id': 17, 'character': 'Slinky Dog (voice)', 'credit_id': '52fe4284c3a36847f8024fa1', 'gender': 2, 'id': 12899, 'name': 'Jim Varney', 'order': 3, 'profile_path': '/eIo2jVVXYgjDtaHoF19Ll9vtW7h.jpg'}, {'cast_id': 18, 'character': 'Rex (voice)', 'credit_id': '52fe4284c3a36847f8024fa5', 'gender': 2, 'id': 12900, 'name': 'Wallace Shawn', 'order': 4, 'profile_path': '/oGE6JqPP2xH4tNORKNqxbNPYi7u.jpg'}, {'cast_id': 19, 'character': 'Hamm (voice)', 'credit_id': '52fe4284c3a36847f8024fa9', 'gender': 2, 'id': 7907, 'name': 'John Ratzenberger', 'order': 5, 'profile_path': '/yGechiKWL6TJDfVE2KPSJYqdMsY.jpg'}, {'cast_id': 20, 'character': 'Bo Peep (voice)', 'credit_id': '52fe4284c3a36847f8024fad', 'gender': 1, 'id': 8873, 'name': 'Annie Potts', 'order': 6, 'profile_path': '/eryXT84RL41jHSJcMy4kS3u9y6w.jpg'}, {'cast_id': 26, 'character': 'Andy (voice)', 'credit_id': '52fe4284c3a36847f8024fc1', 'gender': 0, 'id': 1116442, 'name': 'John Morris', 'order': 7, 'profile_path': '/vYGyvK4LzeaUCoNSHtsuqJUY15M.jpg'}, {'cast_id': 22, 'character': 'Sid (voice)', 'credit_id': '52fe4284c3a36847f8024fb1', 'gender': 2, 'id': 12901, 'name': 'Erik von Detten', 'order': 8, 'profile_path': '/twnF1ZaJ1FUNUuo6xLXwcxjayBE.jpg'}, {'cast_id': 23, 'character': 'Mrs. Davis (voice)', 'credit_id': '52fe4284c3a36847f8024fb5', 'gender': 1, 'id': 12133, 'name': 'Laurie Metcalf', 'order': 9, 'profile_path': '/unMMIT60eoBM2sN2nyR7EZ2BvvD.jpg'}, {'cast_id': 24, 'character': 'Sergeant (voice)', 'credit_id': '52fe4284c3a36847f8024fb9', 'gender': 2, 'id': 8655, 'name': 'R. Lee Ermey', 'order': 10, 'profile_path': '/r8GBqFBjypLUP9VVqDqfZ7wYbSs.jpg'}, {'cast_id': 25, 'character': 'Hannah (voice)', 'credit_id': '52fe4284c3a36847f8024fbd', 'gender': 1, 'id': 12903, 'name': 'Sarah Freeman', 'order': 11, 'profile_path': None}, {'cast_id': 27, 'character': 'TV Announcer (voice)', 'credit_id': '52fe4284c3a36847f8024fc5', 'gender': 2, 'id': 37221, 'name': 'Penn Jillette', 'order': 12, 'profile_path': '/zmAaXUdx12NRsssgHbk1T31j2x9.jpg'}]\"\n",
      " \"[{'cast_id': 1, 'character': 'Alan Parrish', 'credit_id': '52fe44bfc3a36847f80a7c73', 'gender': 2, 'id': 2157, 'name': 'Robin Williams', 'order': 0, 'profile_path': '/sojtJyIV3lkUeThD7A2oHNm8183.jpg'}, {'cast_id': 8, 'character': 'Samuel Alan Parrish / Van Pelt', 'credit_id': '52fe44bfc3a36847f80a7c99', 'gender': 2, 'id': 8537, 'name': 'Jonathan Hyde', 'order': 1, 'profile_path': '/7il5D76vx6QVRVlpVvBPEC40MBi.jpg'}, {'cast_id': 2, 'character': 'Judy Sheperd', 'credit_id': '52fe44bfc3a36847f80a7c77', 'gender': 1, 'id': 205, 'name': 'Kirsten Dunst', 'order': 2, 'profile_path': '/wBXvh6PJd0IUVNpvatPC1kzuHtm.jpg'}, {'cast_id': 24, 'character': 'Peter Shepherd', 'credit_id': '52fe44c0c3a36847f80a7ce7', 'gender': 0, 'id': 145151, 'name': 'Bradley Pierce', 'order': 3, 'profile_path': '/j6iW0vVA23GQniAPSYI6mi4hiEW.jpg'}, {'cast_id': 10, 'character': 'Sarah Whittle', 'credit_id': '52fe44bfc3a36847f80a7c9d', 'gender': 1, 'id': 5149, 'name': 'Bonnie Hunt', 'order': 4, 'profile_path': '/7spiVQwmr8siw5QCcvvdRG3c7Lf.jpg'}, {'cast_id': 25, 'character': 'Nora Shepherd', 'credit_id': '52fe44c0c3a36847f80a7ceb', 'gender': 1, 'id': 10739, 'name': 'Bebe Neuwirth', 'order': 5, 'profile_path': '/xm58rpMRVDHS0IGttw1pTlqGwkN.jpg'}, {'cast_id': 26, 'character': 'Carl Bentley', 'credit_id': '52fe44c0c3a36847f80a7cef', 'gender': 2, 'id': 58563, 'name': 'David Alan Grier', 'order': 6, 'profile_path': '/5tkt3qRZTco4sz604aTIarQ0m8W.jpg'}, {'cast_id': 11, 'character': 'Carol Anne Parrish', 'credit_id': '52fe44bfc3a36847f80a7ca1', 'gender': 1, 'id': 1276, 'name': 'Patricia Clarkson', 'order': 7, 'profile_path': '/10ZSyaUqzUlKTd60HmeiGhlytZG.jpg'}, {'cast_id': 14, 'character': 'Alan Parrish (young)', 'credit_id': '52fe44bfc3a36847f80a7cad', 'gender': 0, 'id': 46530, 'name': 'Adam Hann-Byrd', 'order': 8, 'profile_path': '/hEoqDqtMO91hYWD5iDrDesnLDlt.jpg'}, {'cast_id': 13, 'character': 'Sarah Whittle (young)', 'credit_id': '52fe44bfc3a36847f80a7ca9', 'gender': 1, 'id': 56523, 'name': 'Laura Bell Bundy', 'order': 9, 'profile_path': '/8tAVDBRoZPjKfCbBDyh4iK9JNEp.jpg'}, {'cast_id': 31, 'character': 'Exterminator', 'credit_id': '52fe44c0c3a36847f80a7cff', 'gender': 2, 'id': 51551, 'name': 'James Handy', 'order': 10, 'profile_path': '/vm0WQmuP8jEGgFTd3VCcJe7zpUi.jpg'}, {'cast_id': 12, 'character': 'Mrs. Thomas the Realtor', 'credit_id': '52fe44bfc3a36847f80a7ca5', 'gender': 1, 'id': 56522, 'name': 'Gillian Barber', 'order': 11, 'profile_path': '/qoqPX15J5jh6Sy0A9JvvRJIuw64.jpg'}, {'cast_id': 28, 'character': 'Benjamin', 'credit_id': '52fe44c0c3a36847f80a7cf3', 'gender': 2, 'id': 1000304, 'name': 'Brandon Obray', 'order': 12, 'profile_path': None}, {'cast_id': 29, 'character': 'Caleb', 'credit_id': '52fe44c0c3a36847f80a7cf7', 'gender': 0, 'id': 188949, 'name': 'Cyrus Thiedeke', 'order': 13, 'profile_path': None}, {'cast_id': 30, 'character': 'Billy Jessup', 'credit_id': '52fe44c0c3a36847f80a7cfb', 'gender': 0, 'id': 1076551, 'name': 'Gary Joseph Thorup', 'order': 14, 'profile_path': None}, {'cast_id': 32, 'character': 'Cop', 'credit_id': '5588053fc3a36838530063f5', 'gender': 0, 'id': 1480246, 'name': 'Leonard Zola', 'order': 15, 'profile_path': None}, {'cast_id': 33, 'character': 'Bum', 'credit_id': '55935687925141645a002097', 'gender': 2, 'id': 25024, 'name': 'Lloyd Berry', 'order': 16, 'profile_path': '/s7SVCOtvcuQ9wRQPZfUdahb5x88.jpg'}, {'cast_id': 34, 'character': 'Jim Shepherd', 'credit_id': '559356d09251415df8002cb7', 'gender': 2, 'id': 27110, 'name': 'Malcolm Stewart', 'order': 17, 'profile_path': '/l2vgzkLR7GRr8ugjZCILA0OiliI.jpg'}, {'cast_id': 35, 'character': 'Martha Shepherd', 'credit_id': '55935730925141645a0020ad', 'gender': 0, 'id': 53715, 'name': 'Annabel Kershaw', 'order': 18, 'profile_path': '/1VqbvAohBwFhETZtDe76JXQcxKm.jpg'}, {'cast_id': 36, 'character': 'Gun Salesman', 'credit_id': '5593576992514167fd000610', 'gender': 2, 'id': 1379424, 'name': 'Darryl Henriques', 'order': 19, 'profile_path': '/7QMHooY9ewNQlE24WKAOdwW0evU.jpg'}, {'cast_id': 37, 'character': 'Paramedic', 'credit_id': '559357ae92514152de002f42', 'gender': 0, 'id': 1235504, 'name': 'Robyn Driscoll', 'order': 20, 'profile_path': None}, {'cast_id': 50, 'character': 'Paramedic', 'credit_id': '5657803b925141018f00a5dc', 'gender': 2, 'id': 25389, 'name': 'Peter Bryant', 'order': 21, 'profile_path': '/fkcx9Tnp25UC5HlI2eW3nGvumsZ.jpg'}, {'cast_id': 39, 'character': 'Girl', 'credit_id': '559358e292514152de002f63', 'gender': 0, 'id': 1483449, 'name': 'Sarah Gilson', 'order': 22, 'profile_path': None}, {'cast_id': 40, 'character': 'Girl', 'credit_id': '5593590d92514152db002df3', 'gender': 0, 'id': 1483450, 'name': 'Florica Vlad', 'order': 23, 'profile_path': None}, {'cast_id': 41, 'character': 'Baker', 'credit_id': '55935946c3a36869d1001b4d', 'gender': 0, 'id': 1483451, 'name': 'June Lion', 'order': 24, 'profile_path': None}, {'cast_id': 42, 'character': 'Pianist', 'credit_id': '5593597692514167fd000644', 'gender': 0, 'id': 1483452, 'name': 'Brenda Lockmuller', 'order': 25, 'profile_path': None}]\"\n",
      " \"[{'cast_id': 2, 'character': 'Max Goldman', 'credit_id': '52fe466a9251416c75077a8d', 'gender': 2, 'id': 6837, 'name': 'Walter Matthau', 'order': 0, 'profile_path': '/xJVkvprOnzP5Zdh5y63y8HHniDZ.jpg'}, {'cast_id': 3, 'character': 'John Gustafson', 'credit_id': '52fe466a9251416c75077a91', 'gender': 2, 'id': 3151, 'name': 'Jack Lemmon', 'order': 1, 'profile_path': '/chZmNRYMtqkiDlatprGDH4BzGqG.jpg'}, {'cast_id': 4, 'character': 'Ariel Gustafson', 'credit_id': '52fe466a9251416c75077a95', 'gender': 1, 'id': 13567, 'name': 'Ann-Margret', 'order': 2, 'profile_path': '/jx5lTaJ5VXZHYB52gaOTAZ9STZk.jpg'}, {'cast_id': 5, 'character': 'Maria Sophia Coletta Ragetti', 'credit_id': '52fe466a9251416c75077a99', 'gender': 1, 'id': 16757, 'name': 'Sophia Loren', 'order': 3, 'profile_path': '/emKLhbji1c7BjcA2DdbWf0EP9zH.jpg'}, {'cast_id': 6, 'character': 'Melanie Gustafson', 'credit_id': '52fe466a9251416c75077a9d', 'gender': 1, 'id': 589, 'name': 'Daryl Hannah', 'order': 4, 'profile_path': '/4LLmp6AQdlj6ueGCRbVRSGvvFSt.jpg'}, {'cast_id': 9, 'character': 'Grandpa Gustafson', 'credit_id': '53e5fcc2c3a3684430000d65', 'gender': 2, 'id': 16523, 'name': 'Burgess Meredith', 'order': 5, 'profile_path': '/lm98oKloU33Q7QDIIMSyc4Pr2jA.jpg'}, {'cast_id': 10, 'character': 'Jacob Goldman', 'credit_id': '53e5fcd4c3a3684433000e1a', 'gender': 2, 'id': 7166, 'name': 'Kevin Pollak', 'order': 6, 'profile_path': '/kwu2T8CDnThZTzE88uiSgJ5eHXf.jpg'}]\"\n",
      " ...\n",
      " '[{\\'cast_id\\': 1002, \\'character\\': \\'Sister Angela\\', \\'credit_id\\': \\'52fe4af1c3a36847f81e9b1f\\', \\'gender\\': 1, \\'id\\': 1043186, \\'name\\': \\'Angel Aquino\\', \\'order\\': 0, \\'profile_path\\': \\'/aZLCxPbokn0EX1cNXxF9UCaA8gP.jpg\\'}, {\\'cast_id\\': 1008, \\'character\\': \\'Homer\\', \\'credit_id\\': \\'559eb4ecc3a368081d002158\\', \\'gender\\': 0, \\'id\\': 111636, \\'name\\': \\'Perry Dizon\\', \\'order\\': 1, \\'profile_path\\': None}, {\\'cast_id\\': 1007, \\'character\\': \\'Crazy Woman/Virgin\\', \\'credit_id\\': \\'559eb4d3c3a3680820001dbe\\', \\'gender\\': 0, \\'id\\': 1204271, \\'name\\': \\'Hazel Orencio\\', \\'order\\': 2, \\'profile_path\\': \\'/jvAauEKA2N5Lb164SxqupNDAJ2X.jpg\\'}, {\\'cast_id\\': 1005, \\'character\\': \\'Amang Tiburcio\\', \\'credit_id\\': \\'52fe4af1c3a36847f81e9b2b\\', \\'gender\\': 2, \\'id\\': 278923, \\'name\\': \\'Joel Torre\\', \\'order\\': 3, \\'profile_path\\': \\'/5PP5K8EgMhcRA3n1IfRhfcxDS5M.jpg\\'}, {\\'cast_id\\': 1015, \\'character\\': \\'Ex-convict/Dindo\\', \\'credit_id\\': \\'593ab9f5c3a36822f800d5af\\', \\'gender\\': 0, \\'id\\': 1042953, \\'name\\': \\'Bart Guingona\\', \\'order\\': 4, \\'profile_path\\': \\'/fj2d05jly713XeV9eRis2VBUAjo.jpg\\'}, {\\'cast_id\\': 1004, \\'character\\': \\'Philosopher\\', \\'credit_id\\': \\'52fe4af1c3a36847f81e9b27\\', \\'gender\\': 0, \\'id\\': 575774, \\'name\\': \\'Soliman Cruz \\', \\'order\\': 5, \\'profile_path\\': \\'/kPQMcYBcO2pCIPulc7VC16YFovE.jpg\\'}, {\\'cast_id\\': 1014, \\'character\\': \\'Photographer\\', \\'credit_id\\': \\'58fb45b992514163e300cc58\\', \\'gender\\': 0, \\'id\\': 1184497, \\'name\\': \\'Roeder\\', \\'order\\': 6, \\'profile_path\\': None}, {\\'cast_id\\': 1003, \\'character\\': \\'Ana/Call Center Woman\\', \\'credit_id\\': \\'52fe4af1c3a36847f81e9b23\\', \\'gender\\': 0, \\'id\\': 462483, \\'name\\': \\'Angeli Bayani\\', \\'order\\': 7, \\'profile_path\\': \\'/kFCD2eDPj5LKGxauPF2rchlP74h.jpg\\'}, {\\'cast_id\\': 1016, \\'character\\': \\'Filmmaker/Butcher\\', \\'credit_id\\': \\'593abab49251411ef800e348\\', \\'gender\\': 0, \\'id\\': 1728582, \\'name\\': \\'Dante Perez\\', \\'order\\': 8, \\'profile_path\\': None}, {\\'cast_id\\': 1006, \\'character\\': \\'Poet of the Rain\\', \\'credit_id\\': \\'559eb4ca9251412dac001e20\\', \\'gender\\': 0, \\'id\\': 1485780, \\'name\\': \\'Betty Uy-Regala\\', \\'order\\': 9, \\'profile_path\\': None}, {\\'cast_id\\': 1013, \\'character\\': \"Homer\\'s mother\", \\'credit_id\\': \\'58fb45a4925141643c00c6ee\\', \\'gender\\': 0, \\'id\\': 1801183, \\'name\\': \\'Modesta\\', \\'order\\': 10, \\'profile_path\\': None}]'\n",
      " \"[{'cast_id': 6, 'character': 'Emily Shaw', 'credit_id': '52fe4776c3a368484e0c83a3', 'gender': 1, 'id': 23764, 'name': 'Erika Eleniak', 'order': 0, 'profile_path': '/7ZdUGY78qpB2MkTzAQvYEYzncwN.jpg'}, {'cast_id': 7, 'character': 'Det. Mark Winston', 'credit_id': '52fe4776c3a368484e0c83a7', 'gender': 2, 'id': 2059, 'name': 'Adam Baldwin', 'order': 1, 'profile_path': '/vhZ8AD36h09mBLuyIXboglRLgIu.jpg'}, {'cast_id': 8, 'character': 'Jayne Ferré', 'credit_id': '52fe4776c3a368484e0c83ab', 'gender': 1, 'id': 46277, 'name': 'Julie du Page', 'order': 2, 'profile_path': '/gBLzn3Z2S7Hx7A0stZBi7mk9fpD.jpg'}, {'cast_id': 10, 'character': 'Alex Tyler', 'credit_id': '52fe4776c3a368484e0c83b3', 'gender': 2, 'id': 1736, 'name': 'James Remar', 'order': 3, 'profile_path': '/AeSuQlBclvWqztlpkf9nIhvvhsc.jpg'}, {'cast_id': 11, 'character': 'Tony', 'credit_id': '52fe4776c3a368484e0c83b7', 'gender': 2, 'id': 58646, 'name': 'Damian Chapa', 'order': 4, 'profile_path': '/e00LyDBIhDOFWgwfSU0wCTLL4ax.jpg'}, {'cast_id': 12, 'character': 'Frank Bianci', 'credit_id': '57ed0c259251410c5b00eccb', 'gender': 2, 'id': 54649, 'name': 'Louis Mandylor', 'order': 5, 'profile_path': '/4DCfloJ8CDsvchaKE0KdYW07obz.jpg'}, {'cast_id': 13, 'character': 'Detective Stan', 'credit_id': '57ed0e5bc3a3685e36007370', 'gender': 2, 'id': 55270, 'name': 'Tom Wright', 'order': 6, 'profile_path': '/AlBgY9VySrLBhVsOJXtUXuflOGG.jpg'}, {'cast_id': 9, 'character': 'Kerry Shaw', 'credit_id': '52fe4776c3a368484e0c83af', 'gender': 2, 'id': 169498, 'name': 'Jeremy Lelliott', 'order': 7, 'profile_path': None}, {'cast_id': 14, 'character': 'Peter Quinn', 'credit_id': '57ed0e70c3a3683a990059d4', 'gender': 2, 'id': 51656, 'name': 'James Quattrochi', 'order': 8, 'profile_path': None}, {'cast_id': 15, 'character': 'Boyd', 'credit_id': '57ed0e829251416b58006a75', 'gender': 0, 'id': 1177500, 'name': 'Jason Widener', 'order': 9, 'profile_path': None}, {'cast_id': 16, 'character': 'Sammy Benetto', 'credit_id': '57ed0e90c3a3687dcf005d12', 'gender': 2, 'id': 154762, 'name': 'Joe Sabatino', 'order': 10, 'profile_path': None}, {'cast_id': 17, 'character': 'Steve', 'credit_id': '57ed0f43c3a3683a85005278', 'gender': 2, 'id': 93930, 'name': 'Kiko Ellsworth', 'order': 11, 'profile_path': '/NIHqhiMtAboquWPg5hCu5o1Bax.jpg'}, {'cast_id': 18, 'character': 'Fred', 'credit_id': '57ed0f4ec3a36839f700532b', 'gender': 2, 'id': 81690, 'name': 'Don Swayze', 'order': 12, 'profile_path': '/2JmY7WUmuyvwflKST6nLH7pyd5e.jpg'}, {'cast_id': 19, 'character': 'Artie, Hitman #1', 'credit_id': '57ed0f5ac3a36839f7005330', 'gender': 2, 'id': 37822, 'name': 'Peter Dobson', 'order': 13, 'profile_path': '/3laM5gryWnG2tfjE2jt0UuPTFlp.jpg'}, {'cast_id': 20, 'character': 'Doorman', 'credit_id': '57ed10149251416b58006b06', 'gender': 0, 'id': 1686379, 'name': 'Darrell Dubovsky', 'order': 14, 'profile_path': None}]\"\n",
      " \"[{'cast_id': 2, 'character': '', 'credit_id': '52fe4ea59251416c7515d7d5', 'gender': 2, 'id': 544742, 'name': 'Iwan Mosschuchin', 'order': 0, 'profile_path': None}, {'cast_id': 3, 'character': '', 'credit_id': '52fe4ea59251416c7515d7d9', 'gender': 1, 'id': 1090923, 'name': 'Nathalie Lissenko', 'order': 1, 'profile_path': None}, {'cast_id': 4, 'character': '', 'credit_id': '52fe4ea59251416c7515d7dd', 'gender': 2, 'id': 1136422, 'name': 'Pavel Pavlov', 'order': 2, 'profile_path': None}, {'cast_id': 5, 'character': '', 'credit_id': '52fe4ea59251416c7515d7e1', 'gender': 0, 'id': 1261758, 'name': 'Aleksandr Chabrov', 'order': 3, 'profile_path': None}, {'cast_id': 6, 'character': '', 'credit_id': '52fe4ea59251416c7515d7e5', 'gender': 1, 'id': 29199, 'name': 'Vera Orlova', 'order': 4, 'profile_path': '/n1NXVGNzNxtqsMWxLT1h8GO8Kpi.jpg'}]\"]\n"
     ]
    }
   ],
   "source": [
    "# Confirmar los tipos de datos que puedo encontrar dentro de la columna cast\n",
    "print(credits_df_parquet['cast'].unique())"
   ]
  },
  {
   "cell_type": "code",
   "execution_count": 33,
   "metadata": {},
   "outputs": [],
   "source": [
    "# Realizar una funcion para desanidar la columna cast\n",
    "\n",
    "def desanidar_columna_cast(columna):\n",
    "    \"\"\"\n",
    "    Desanida la columna 'cast' del DataFrame 'credits_df_parquet', que contiene información en listas de diccionarios.\n",
    "    La función extrae los valores de 'id', 'name', 'character', 'gender', y 'profile_path' de la primera entrada en la lista \n",
    "    de cada fila y crea nuevas columnas en el DataFrame con estos valores.\n",
    "\n",
    "    Parámetros:\n",
    "        columna: Una columna del DataFrame que tiene una lista de diccionarios.\n",
    "\n",
    "    Retorna:\n",
    "        Una tupla con los valores extraídos: cast_id, character, credit_id, gender, id, name y order.\n",
    "    \"\"\"\n",
    "    if pd.isna(columna) or not isinstance(columna, str):\n",
    "        return None, None, None, None, None, None, None\n",
    "\n",
    "    try:\n",
    "        lista_dicts = ast.literal_eval(columna)\n",
    "\n",
    "        if isinstance(lista_dicts, list) and lista_dicts and isinstance(lista_dicts[0], dict):\n",
    "            # Extraer los primeros valores de la lista para simplificar\n",
    "            first_entry = lista_dicts[0]\n",
    "            return (\n",
    "                first_entry.get('cast_id', None),\n",
    "                first_entry.get('character', None),\n",
    "                first_entry.get('credit_id', None),\n",
    "                first_entry.get('gender', None),\n",
    "                first_entry.get('id', None),\n",
    "                first_entry.get('name', None),\n",
    "                first_entry.get('order', None),\n",
    "            )\n",
    "        else:\n",
    "            return None, None, None, None, None, None, None\n",
    "    except (ValueError, SyntaxError):\n",
    "        return None, None, None, None, None, None, None\n",
    "\n",
    "# Aplicar la función para extraer 'cast_id', 'character', 'credit_id', 'gender', 'id', 'name' y 'order' de 'cast'\n",
    "credits_df_parquet[['cast_id', 'cast_character', 'cast_credit_id', 'cast_gender', 'cast_id_actor', 'cast_name_actor', 'cast_order_credit']] = credits_df_parquet['cast'].apply(desanidar_columna_cast).apply(pd.Series)\n",
    "\n",
    "\n"
   ]
  },
  {
   "cell_type": "code",
   "execution_count": 34,
   "metadata": {},
   "outputs": [
    {
     "name": "stdout",
     "output_type": "stream",
     "text": [
      "   cast_id             cast_character            cast_credit_id  cast_gender  \\\n",
      "0     14.0              Woody (voice)  52fe4284c3a36847f8024f95          2.0   \n",
      "1      1.0               Alan Parrish  52fe44bfc3a36847f80a7c73          2.0   \n",
      "2      2.0                Max Goldman  52fe466a9251416c75077a8d          2.0   \n",
      "3      1.0  Savannah 'Vannah' Jackson  52fe44779251416c91011aad          1.0   \n",
      "4      1.0               George Banks  52fe44959251416c75039eb9          2.0   \n",
      "\n",
      "   cast_id_actor  cast_name_actor  cast_order_credit  \n",
      "0           31.0        Tom Hanks                0.0  \n",
      "1         2157.0   Robin Williams                0.0  \n",
      "2         6837.0   Walter Matthau                0.0  \n",
      "3         8851.0  Whitney Houston                0.0  \n",
      "4        67773.0     Steve Martin                0.0  \n",
      "<class 'pandas.core.frame.DataFrame'>\n",
      "RangeIndex: 45476 entries, 0 to 45475\n",
      "Data columns (total 10 columns):\n",
      " #   Column             Non-Null Count  Dtype  \n",
      "---  ------             --------------  -----  \n",
      " 0   cast               45476 non-null  object \n",
      " 1   crew               45476 non-null  object \n",
      " 2   id                 45476 non-null  int64  \n",
      " 3   cast_id            43058 non-null  float64\n",
      " 4   cast_character     43058 non-null  object \n",
      " 5   cast_credit_id     43058 non-null  object \n",
      " 6   cast_gender        43058 non-null  float64\n",
      " 7   cast_id_actor      43058 non-null  float64\n",
      " 8   cast_name_actor    43058 non-null  object \n",
      " 9   cast_order_credit  43058 non-null  float64\n",
      "dtypes: float64(4), int64(1), object(5)\n",
      "memory usage: 3.5+ MB\n",
      "None\n"
     ]
    }
   ],
   "source": [
    "# Verificar la existencia de las nuevas columnas\n",
    "print(credits_df_parquet[['cast_id', 'cast_character', 'cast_credit_id', 'cast_gender', 'cast_id_actor', 'cast_name_actor', 'cast_order_credit']].head())\n",
    "print(credits_df_parquet.info())"
   ]
  },
  {
   "cell_type": "code",
   "execution_count": 35,
   "metadata": {},
   "outputs": [
    {
     "name": "stdout",
     "output_type": "stream",
     "text": [
      "['[{\\'credit_id\\': \\'52fe4284c3a36847f8024f49\\', \\'department\\': \\'Directing\\', \\'gender\\': 2, \\'id\\': 7879, \\'job\\': \\'Director\\', \\'name\\': \\'John Lasseter\\', \\'profile_path\\': \\'/7EdqiNbr4FRjIhKHyPPdFfEEEFG.jpg\\'}, {\\'credit_id\\': \\'52fe4284c3a36847f8024f4f\\', \\'department\\': \\'Writing\\', \\'gender\\': 2, \\'id\\': 12891, \\'job\\': \\'Screenplay\\', \\'name\\': \\'Joss Whedon\\', \\'profile_path\\': \\'/dTiVsuaTVTeGmvkhcyJvKp2A5kr.jpg\\'}, {\\'credit_id\\': \\'52fe4284c3a36847f8024f55\\', \\'department\\': \\'Writing\\', \\'gender\\': 2, \\'id\\': 7, \\'job\\': \\'Screenplay\\', \\'name\\': \\'Andrew Stanton\\', \\'profile_path\\': \\'/pvQWsu0qc8JFQhMVJkTHuexUAa1.jpg\\'}, {\\'credit_id\\': \\'52fe4284c3a36847f8024f5b\\', \\'department\\': \\'Writing\\', \\'gender\\': 2, \\'id\\': 12892, \\'job\\': \\'Screenplay\\', \\'name\\': \\'Joel Cohen\\', \\'profile_path\\': \\'/dAubAiZcvKFbboWlj7oXOkZnTSu.jpg\\'}, {\\'credit_id\\': \\'52fe4284c3a36847f8024f61\\', \\'department\\': \\'Writing\\', \\'gender\\': 0, \\'id\\': 12893, \\'job\\': \\'Screenplay\\', \\'name\\': \\'Alec Sokolow\\', \\'profile_path\\': \\'/v79vlRYi94BZUQnkkyznbGUZLjT.jpg\\'}, {\\'credit_id\\': \\'52fe4284c3a36847f8024f67\\', \\'department\\': \\'Production\\', \\'gender\\': 1, \\'id\\': 12894, \\'job\\': \\'Producer\\', \\'name\\': \\'Bonnie Arnold\\', \\'profile_path\\': None}, {\\'credit_id\\': \\'52fe4284c3a36847f8024f6d\\', \\'department\\': \\'Production\\', \\'gender\\': 0, \\'id\\': 12895, \\'job\\': \\'Executive Producer\\', \\'name\\': \\'Ed Catmull\\', \\'profile_path\\': None}, {\\'credit_id\\': \\'52fe4284c3a36847f8024f73\\', \\'department\\': \\'Production\\', \\'gender\\': 2, \\'id\\': 12896, \\'job\\': \\'Producer\\', \\'name\\': \\'Ralph Guggenheim\\', \\'profile_path\\': None}, {\\'credit_id\\': \\'52fe4284c3a36847f8024f79\\', \\'department\\': \\'Production\\', \\'gender\\': 2, \\'id\\': 12897, \\'job\\': \\'Executive Producer\\', \\'name\\': \\'Steve Jobs\\', \\'profile_path\\': \\'/mOMP3SwD5qWQSR0ldCIByd3guTV.jpg\\'}, {\\'credit_id\\': \\'52fe4284c3a36847f8024f8b\\', \\'department\\': \\'Editing\\', \\'gender\\': 2, \\'id\\': 8, \\'job\\': \\'Editor\\', \\'name\\': \\'Lee Unkrich\\', \\'profile_path\\': \\'/bdTCCXjgOV3YyaNmLGYGOxFQMOc.jpg\\'}, {\\'credit_id\\': \\'52fe4284c3a36847f8024f91\\', \\'department\\': \\'Art\\', \\'gender\\': 2, \\'id\\': 7883, \\'job\\': \\'Art Direction\\', \\'name\\': \\'Ralph Eggleston\\', \\'profile_path\\': \\'/uUfcGKDsKO1aROMpXRs67Hn6RvR.jpg\\'}, {\\'credit_id\\': \\'598331bf925141421201044b\\', \\'department\\': \\'Editing\\', \\'gender\\': 2, \\'id\\': 1168870, \\'job\\': \\'Editor\\', \\'name\\': \\'Robert Gordon\\', \\'profile_path\\': None}, {\\'credit_id\\': \\'5892168cc3a36809660095f9\\', \\'department\\': \\'Sound\\', \\'gender\\': 0, \\'id\\': 1552883, \\'job\\': \\'Foley Editor\\', \\'name\\': \\'Mary Helen Leasman\\', \\'profile_path\\': None}, {\\'credit_id\\': \\'5531824d9251415289000945\\', \\'department\\': \\'Visual Effects\\', \\'gender\\': 0, \\'id\\': 1453514, \\'job\\': \\'Animation\\', \\'name\\': \\'Kim Blanchette\\', \\'profile_path\\': None}, {\\'credit_id\\': \\'589215969251412dcb009bf6\\', \\'department\\': \\'Sound\\', \\'gender\\': 0, \\'id\\': 1414182, \\'job\\': \\'ADR Editor\\', \\'name\\': \\'Marilyn McCoppen\\', \\'profile_path\\': None}, {\\'credit_id\\': \\'589217099251412dc500a018\\', \\'department\\': \\'Sound\\', \\'gender\\': 2, \\'id\\': 7885, \\'job\\': \\'Orchestrator\\', \\'name\\': \\'Randy Newman\\', \\'profile_path\\': \\'/w0JzfoiM25nrnxYOzosPHRq6mlE.jpg\\'}, {\\'credit_id\\': \\'5693e6b29251417b0e0000e3\\', \\'department\\': \\'Editing\\', \\'gender\\': 0, \\'id\\': 1429549, \\'job\\': \\'Color Timer\\', \\'name\\': \\'Dale E. Grahn\\', \\'profile_path\\': None}, {\\'credit_id\\': \\'572e2522c3a36869e6001a9c\\', \\'department\\': \\'Visual Effects\\', \\'gender\\': 0, \\'id\\': 7949, \\'job\\': \\'CG Painter\\', \\'name\\': \\'Robin Cooper\\', \\'profile_path\\': None}, {\\'credit_id\\': \\'574f12309251415ca1000012\\', \\'department\\': \\'Writing\\', \\'gender\\': 2, \\'id\\': 7879, \\'job\\': \\'Original Story\\', \\'name\\': \\'John Lasseter\\', \\'profile_path\\': \\'/7EdqiNbr4FRjIhKHyPPdFfEEEFG.jpg\\'}, {\\'credit_id\\': \\'574f1240c3a3682e7300001c\\', \\'department\\': \\'Writing\\', \\'gender\\': 2, \\'id\\': 12890, \\'job\\': \\'Original Story\\', \\'name\\': \\'Pete Docter\\', \\'profile_path\\': \\'/r6ngPgnReA3RHmKjmSoVsc6Awjp.jpg\\'}, {\\'credit_id\\': \\'574f12519251415c92000015\\', \\'department\\': \\'Writing\\', \\'gender\\': 0, \\'id\\': 7911, \\'job\\': \\'Original Story\\', \\'name\\': \\'Joe Ranft\\', \\'profile_path\\': \\'/f1BoWC2JbCcfP1e5hKfGsxkHzVU.jpg\\'}, {\\'credit_id\\': \\'574f12cec3a3682e82000022\\', \\'department\\': \\'Crew\\', \\'gender\\': 0, \\'id\\': 1629419, \\'job\\': \\'Post Production Supervisor\\', \\'name\\': \\'Patsy Bouge\\', \\'profile_path\\': None}, {\\'credit_id\\': \\'574f14f19251415ca1000082\\', \\'department\\': \\'Art\\', \\'gender\\': 0, \\'id\\': 7961, \\'job\\': \\'Sculptor\\', \\'name\\': \\'Norm DeCarlo\\', \\'profile_path\\': None}, {\\'credit_id\\': \\'5751ae4bc3a3683772002b7f\\', \\'department\\': \\'Visual Effects\\', \\'gender\\': 2, \\'id\\': 12905, \\'job\\': \\'Animation Director\\', \\'name\\': \\'Ash Brannon\\', \\'profile_path\\': \\'/6ueWgPEEBHvS3De2BHYQnYjRTig.jpg\\'}, {\\'credit_id\\': \\'5891edbe9251412dc5007cd6\\', \\'department\\': \\'Sound\\', \\'gender\\': 2, \\'id\\': 7885, \\'job\\': \\'Music\\', \\'name\\': \\'Randy Newman\\', \\'profile_path\\': \\'/w0JzfoiM25nrnxYOzosPHRq6mlE.jpg\\'}, {\\'credit_id\\': \\'589213d39251412dc8009832\\', \\'department\\': \\'Directing\\', \\'gender\\': 0, \\'id\\': 1748707, \\'job\\': \\'Layout\\', \\'name\\': \\'Roman Figun\\', \\'profile_path\\': None}, {\\'credit_id\\': \\'5892173dc3a3680968009351\\', \\'department\\': \\'Sound\\', \\'gender\\': 2, \\'id\\': 4949, \\'job\\': \\'Orchestrator\\', \\'name\\': \\'Don Davis\\', \\'profile_path\\': None}, {\\'credit_id\\': \\'589217cec3a3686b0a0052ba\\', \\'department\\': \\'Sound\\', \\'gender\\': 0, \\'id\\': 1372885, \\'job\\': \\'Music Editor\\', \\'name\\': \\'James Flamberg\\', \\'profile_path\\': None}, {\\'credit_id\\': \\'58921831c3a3686348004a64\\', \\'department\\': \\'Editing\\', \\'gender\\': 0, \\'id\\': 1739962, \\'job\\': \\'Negative Cutter\\', \\'name\\': \\'Mary Beth Smith\\', \\'profile_path\\': None}, {\\'credit_id\\': \\'58921838c3a36809700096c0\\', \\'department\\': \\'Editing\\', \\'gender\\': 0, \\'id\\': 1748513, \\'job\\': \\'Negative Cutter\\', \\'name\\': \\'Rick Mackay\\', \\'profile_path\\': None}, {\\'credit_id\\': \\'589218429251412dd1009d1b\\', \\'department\\': \\'Art\\', \\'gender\\': 0, \\'id\\': 1458006, \\'job\\': \\'Title Designer\\', \\'name\\': \\'Susan Bradley\\', \\'profile_path\\': None}, {\\'credit_id\\': \\'5891ed99c3a3680966007670\\', \\'department\\': \\'Crew\\', \\'gender\\': 0, \\'id\\': 1748557, \\'job\\': \\'Supervising Technical Director\\', \\'name\\': \\'William Reeves\\', \\'profile_path\\': None}, {\\'credit_id\\': \\'5891edcec3a3686b0a002eb2\\', \\'department\\': \\'Sound\\', \\'gender\\': 2, \\'id\\': 7885, \\'job\\': \\'Songs\\', \\'name\\': \\'Randy Newman\\', \\'profile_path\\': \\'/w0JzfoiM25nrnxYOzosPHRq6mlE.jpg\\'}, {\\'credit_id\\': \\'5891edf9c3a36809700075e6\\', \\'department\\': \\'Writing\\', \\'gender\\': 2, \\'id\\': 7, \\'job\\': \\'Original Story\\', \\'name\\': \\'Andrew Stanton\\', \\'profile_path\\': \\'/pvQWsu0qc8JFQhMVJkTHuexUAa1.jpg\\'}, {\\'credit_id\\': \\'58920f0b9251412dd7009104\\', \\'department\\': \\'Crew\\', \\'gender\\': 2, \\'id\\': 12890, \\'job\\': \\'Supervising Animator\\', \\'name\\': \\'Pete Docter\\', \\'profile_path\\': \\'/r6ngPgnReA3RHmKjmSoVsc6Awjp.jpg\\'}, {\\'credit_id\\': \\'58920f1fc3a3680977009021\\', \\'department\\': \\'Sound\\', \\'gender\\': 2, \\'id\\': 2216, \\'job\\': \\'Sound Designer\\', \\'name\\': \\'Gary Rydstrom\\', \\'profile_path\\': \\'/jZpr1nVfO7lldWI0YtmP1FGw7Rj.jpg\\'}, {\\'credit_id\\': \\'58920f389251412dd700912d\\', \\'department\\': \\'Production\\', \\'gender\\': 0, \\'id\\': 12909, \\'job\\': \\'Production Supervisor\\', \\'name\\': \\'Karen Robert Jackson\\', \\'profile_path\\': None}, {\\'credit_id\\': \\'58920fbd9251412dcb00969c\\', \\'department\\': \\'Crew\\', \\'gender\\': 0, \\'id\\': 953331, \\'job\\': \\'Executive Music Producer\\', \\'name\\': \\'Chris Montan\\', \\'profile_path\\': None}, {\\'credit_id\\': \\'589210069251412dd7009219\\', \\'department\\': \\'Visual Effects\\', \\'gender\\': 0, \\'id\\': 7893, \\'job\\': \\'Animation Director\\', \\'name\\': \\'Rich Quade\\', \\'profile_path\\': None}, {\\'credit_id\\': \\'589210329251412dcd00943b\\', \\'department\\': \\'Visual Effects\\', \\'gender\\': 0, \\'id\\': 8025, \\'job\\': \\'Animation\\', \\'name\\': \\'Michael Berenstein\\', \\'profile_path\\': None}, {\\'credit_id\\': \\'5892103bc3a368096a009180\\', \\'department\\': \\'Visual Effects\\', \\'gender\\': 0, \\'id\\': 78009, \\'job\\': \\'Animation\\', \\'name\\': \\'Colin Brady\\', \\'profile_path\\': None}, {\\'credit_id\\': \\'5892105dc3a3680968008db2\\', \\'department\\': \\'Visual Effects\\', \\'gender\\': 0, \\'id\\': 1748682, \\'job\\': \\'Animation\\', \\'name\\': \\'Davey Crockett Feiten\\', \\'profile_path\\': None}, {\\'credit_id\\': \\'589210669251412dcd009466\\', \\'department\\': \\'Visual Effects\\', \\'gender\\': 0, \\'id\\': 1454030, \\'job\\': \\'Animation\\', \\'name\\': \\'Angie Glocka\\', \\'profile_path\\': None}, {\\'credit_id\\': \\'5892107c9251412dd1009613\\', \\'department\\': \\'Visual Effects\\', \\'gender\\': 0, \\'id\\': 1748683, \\'job\\': \\'Animation\\', \\'name\\': \\'Rex Grignon\\', \\'profile_path\\': None}, {\\'credit_id\\': \\'5892108ac3a3680973008d3f\\', \\'department\\': \\'Visual Effects\\', \\'gender\\': 0, \\'id\\': 1748684, \\'job\\': \\'Animation\\', \\'name\\': \\'Tom K. Gurney\\', \\'profile_path\\': None}, {\\'credit_id\\': \\'58921093c3a3686348004477\\', \\'department\\': \\'Visual Effects\\', \\'gender\\': 2, \\'id\\': 8029, \\'job\\': \\'Animation\\', \\'name\\': \\'Jimmy Hayward\\', \\'profile_path\\': \\'/lTDRpudEY7BDwTefXbXzMlmb0ui.jpg\\'}, {\\'credit_id\\': \\'5892109b9251412dcd0094b0\\', \\'department\\': \\'Visual Effects\\', \\'gender\\': 0, \\'id\\': 1426773, \\'job\\': \\'Animation\\', \\'name\\': \\'Hal T. Hickel\\', \\'profile_path\\': None}, {\\'credit_id\\': \\'589210a29251412dc5009a29\\', \\'department\\': \\'Visual Effects\\', \\'gender\\': 0, \\'id\\': 8035, \\'job\\': \\'Animation\\', \\'name\\': \\'Karen Kiser\\', \\'profile_path\\': None}, {\\'credit_id\\': \\'589210ccc3a3680977009191\\', \\'department\\': \\'Visual Effects\\', \\'gender\\': 0, \\'id\\': 1748688, \\'job\\': \\'Animation\\', \\'name\\': \\'Anthony B. LaMolinara\\', \\'profile_path\\': None}, {\\'credit_id\\': \\'589210d7c3a3686b0a004c1f\\', \\'department\\': \\'Visual Effects\\', \\'gender\\': 0, \\'id\\': 587314, \\'job\\': \\'Animation\\', \\'name\\': \\'Guionne Leroy\\', \\'profile_path\\': None}, {\\'credit_id\\': \\'589210e1c3a36809770091a7\\', \\'department\\': \\'Visual Effects\\', \\'gender\\': 2, \\'id\\': 7918, \\'job\\': \\'Animation\\', \\'name\\': \\'Bud Luckey\\', \\'profile_path\\': \\'/pcCh7G19FKMNijmPQg1PMH1btic.jpg\\'}, {\\'credit_id\\': \\'589210ee9251412dc200978a\\', \\'department\\': \\'Visual Effects\\', \\'gender\\': 0, \\'id\\': 1748689, \\'job\\': \\'Animation\\', \\'name\\': \\'Les Major\\', \\'profile_path\\': None}, {\\'credit_id\\': \\'589210fa9251412dc8009595\\', \\'department\\': \\'Visual Effects\\', \\'gender\\': 2, \\'id\\': 7892, \\'job\\': \\'Animation\\', \\'name\\': \\'Glenn McQueen\\', \\'profile_path\\': None}, {\\'credit_id\\': \\'589211029251412dc8009598\\', \\'department\\': \\'Visual Effects\\', \\'gender\\': 0, \\'id\\': 555795, \\'job\\': \\'Animation\\', \\'name\\': \\'Mark Oftedal\\', \\'profile_path\\': None}, {\\'credit_id\\': \\'5892110b9251412dc800959d\\', \\'department\\': \\'Visual Effects\\', \\'gender\\': 2, \\'id\\': 7882, \\'job\\': \\'Animation\\', \\'name\\': \\'Jeff Pidgeon\\', \\'profile_path\\': \\'/yLddkg5HcgbJg00cS13GVBnP0HY.jpg\\'}, {\\'credit_id\\': \\'58921113c3a36863480044e4\\', \\'department\\': \\'Visual Effects\\', \\'gender\\': 0, \\'id\\': 8017, \\'job\\': \\'Animation\\', \\'name\\': \\'Jeff Pratt\\', \\'profile_path\\': None}, {\\'credit_id\\': \\'5892111c9251412dcb0097e9\\', \\'department\\': \\'Visual Effects\\', \\'gender\\': 0, \\'id\\': 1184140, \\'job\\': \\'Animation\\', \\'name\\': \\'Steve Rabatich\\', \\'profile_path\\': None}, {\\'credit_id\\': \\'58921123c3a36809700090f6\\', \\'department\\': \\'Visual Effects\\', \\'gender\\': 0, \\'id\\': 8049, \\'job\\': \\'Animation\\', \\'name\\': \\'Roger Rose\\', \\'profile_path\\': None}, {\\'credit_id\\': \\'5892112b9251412dcb0097fb\\', \\'department\\': \\'Visual Effects\\', \\'gender\\': 0, \\'id\\': 1509559, \\'job\\': \\'Animation\\', \\'name\\': \\'Steve Segal\\', \\'profile_path\\': None}, {\\'credit_id\\': \\'589211349251412dc80095c3\\', \\'department\\': \\'Visual Effects\\', \\'gender\\': 0, \\'id\\': 1748691, \\'job\\': \\'Animation\\', \\'name\\': \\'Doug Sheppeck\\', \\'profile_path\\': None}, {\\'credit_id\\': \\'5892113cc3a3680970009106\\', \\'department\\': \\'Visual Effects\\', \\'gender\\': 0, \\'id\\': 8050, \\'job\\': \\'Animation\\', \\'name\\': \\'Alan Sperling\\', \\'profile_path\\': None}, {\\'credit_id\\': \\'58921148c3a3686b0a004c99\\', \\'department\\': \\'Visual Effects\\', \\'gender\\': 0, \\'id\\': 8010, \\'job\\': \\'Animation\\', \\'name\\': \\'Doug Sweetland\\', \\'profile_path\\': None}, {\\'credit_id\\': \\'58921150c3a3680966009125\\', \\'department\\': \\'Visual Effects\\', \\'gender\\': 0, \\'id\\': 8044, \\'job\\': \\'Animation\\', \\'name\\': \\'David Tart\\', \\'profile_path\\': None}, {\\'credit_id\\': \\'589211629251412dc5009b00\\', \\'department\\': \\'Visual Effects\\', \\'gender\\': 0, \\'id\\': 1454034, \\'job\\': \\'Animation\\', \\'name\\': \\'Ken Willard\\', \\'profile_path\\': None}, {\\'credit_id\\': \\'589211c1c3a3686b0a004d28\\', \\'department\\': \\'Visual Effects\\', \\'gender\\': 0, \\'id\\': 7887, \\'job\\': \\'Visual Effects Supervisor\\', \\'name\\': \\'Thomas Porter\\', \\'profile_path\\': None}, {\\'credit_id\\': \\'589211d4c3a3680968008ed9\\', \\'department\\': \\'Visual Effects\\', \\'gender\\': 0, \\'id\\': 1406878, \\'job\\': \\'Visual Effects\\', \\'name\\': \\'Mark Thomas Henne\\', \\'profile_path\\': None}, {\\'credit_id\\': \\'589211f59251412dd4008e65\\', \\'department\\': \\'Visual Effects\\', \\'gender\\': 0, \\'id\\': 1748698, \\'job\\': \\'Visual Effects\\', \\'name\\': \\'Oren Jacob\\', \\'profile_path\\': None}, {\\'credit_id\\': \\'58921242c3a368096a00939b\\', \\'department\\': \\'Visual Effects\\', \\'gender\\': 0, \\'id\\': 1748699, \\'job\\': \\'Visual Effects\\', \\'name\\': \\'Darwyn Peachey\\', \\'profile_path\\': None}, {\\'credit_id\\': \\'5892124b9251412dc5009bd2\\', \\'department\\': \\'Visual Effects\\', \\'gender\\': 0, \\'id\\': 1748701, \\'job\\': \\'Visual Effects\\', \\'name\\': \\'Mitch Prater\\', \\'profile_path\\': None}, {\\'credit_id\\': \\'58921264c3a3686b0a004dbf\\', \\'department\\': \\'Visual Effects\\', \\'gender\\': 0, \\'id\\': 1748703, \\'job\\': \\'Visual Effects\\', \\'name\\': \\'Brian M. Rosen\\', \\'profile_path\\': None}, {\\'credit_id\\': \\'589212709251412dcd009676\\', \\'department\\': \\'Lighting\\', \\'gender\\': 1, \\'id\\': 12912, \\'job\\': \\'Lighting Supervisor\\', \\'name\\': \\'Sharon Calahan\\', \\'profile_path\\': None}, {\\'credit_id\\': \\'5892127fc3a3686b0a004de5\\', \\'department\\': \\'Lighting\\', \\'gender\\': 0, \\'id\\': 7899, \\'job\\': \\'Lighting Supervisor\\', \\'name\\': \\'Galyn Susman\\', \\'profile_path\\': None}, {\\'credit_id\\': \\'589212cdc3a3680970009268\\', \\'department\\': \\'Visual Effects\\', \\'gender\\': 0, \\'id\\': 12915, \\'job\\': \\'CG Painter\\', \\'name\\': \\'William Cone\\', \\'profile_path\\': None}, {\\'credit_id\\': \\'5892130f9251412dc8009791\\', \\'department\\': \\'Art\\', \\'gender\\': 0, \\'id\\': 1748705, \\'job\\': \\'Sculptor\\', \\'name\\': \\'Shelley Daniels Lekven\\', \\'profile_path\\': None}, {\\'credit_id\\': \\'5892131c9251412dd4008f4c\\', \\'department\\': \\'Visual Effects\\', \\'gender\\': 2, \\'id\\': 7889, \\'job\\': \\'Character Designer\\', \\'name\\': \\'Bob Pauley\\', \\'profile_path\\': None}, {\\'credit_id\\': \\'589213249251412dd100987b\\', \\'department\\': \\'Visual Effects\\', \\'gender\\': 2, \\'id\\': 7918, \\'job\\': \\'Character Designer\\', \\'name\\': \\'Bud Luckey\\', \\'profile_path\\': \\'/pcCh7G19FKMNijmPQg1PMH1btic.jpg\\'}, {\\'credit_id\\': \\'5892132b9251412dc80097b1\\', \\'department\\': \\'Visual Effects\\', \\'gender\\': 2, \\'id\\': 7, \\'job\\': \\'Character Designer\\', \\'name\\': \\'Andrew Stanton\\', \\'profile_path\\': \\'/pvQWsu0qc8JFQhMVJkTHuexUAa1.jpg\\'}, {\\'credit_id\\': \\'58921332c3a368634800467b\\', \\'department\\': \\'Visual Effects\\', \\'gender\\': 0, \\'id\\': 12915, \\'job\\': \\'Character Designer\\', \\'name\\': \\'William Cone\\', \\'profile_path\\': None}, {\\'credit_id\\': \\'5892135f9251412dd4008f90\\', \\'department\\': \\'Visual Effects\\', \\'gender\\': 0, \\'id\\': 1748706, \\'job\\': \\'Character Designer\\', \\'name\\': \\'Steve Johnson\\', \\'profile_path\\': None}, {\\'credit_id\\': \\'58921384c3a3680973008fd4\\', \\'department\\': \\'Visual Effects\\', \\'gender\\': 0, \\'id\\': 1176752, \\'job\\': \\'Character Designer\\', \\'name\\': \\'Dan Haskett\\', \\'profile_path\\': None}, {\\'credit_id\\': \\'5892138e9251412dc20099fc\\', \\'department\\': \\'Visual Effects\\', \\'gender\\': 0, \\'id\\': 1088034, \\'job\\': \\'Character Designer\\', \\'name\\': \\'Tom Holloway\\', \\'profile_path\\': \\'/a0r0T2usTBpgMI5aZbRBDW1fTl8.jpg\\'}, {\\'credit_id\\': \\'58921395c3a368097700942f\\', \\'department\\': \\'Visual Effects\\', \\'gender\\': 0, \\'id\\': 1447465, \\'job\\': \\'Character Designer\\', \\'name\\': \\'Jean Gillmore\\', \\'profile_path\\': None}, {\\'credit_id\\': \\'589213e2c3a3680973009026\\', \\'department\\': \\'Directing\\', \\'gender\\': 0, \\'id\\': 1748709, \\'job\\': \\'Layout\\', \\'name\\': \\'Desirée Mourad\\', \\'profile_path\\': None}, {\\'credit_id\\': \\'589214099251412dc5009d57\\', \\'department\\': \\'Art\\', \\'gender\\': 0, \\'id\\': 1748710, \\'job\\': \\'Set Dresser\\', \\'name\\': \"Kelly O\\'Connell\", \\'profile_path\\': None}, {\\'credit_id\\': \\'58921411c3a3686b0a004f70\\', \\'department\\': \\'Art\\', \\'gender\\': 0, \\'id\\': 1443471, \\'job\\': \\'Set Dresser\\', \\'name\\': \\'Sonoko Konishi\\', \\'profile_path\\': None}, {\\'credit_id\\': \\'58921434c3a368096a00956e\\', \\'department\\': \\'Art\\', \\'gender\\': 0, \\'id\\': 1748711, \\'job\\': \\'Set Dresser\\', \\'name\\': \\'Ann M. Rockwell\\', \\'profile_path\\': None}, {\\'credit_id\\': \\'5892144ac3a36809680090de\\', \\'department\\': \\'Editing\\', \\'gender\\': 0, \\'id\\': 1748712, \\'job\\': \\'Editorial Manager\\', \\'name\\': \\'Julie M. McDonald\\', \\'profile_path\\': None}, {\\'credit_id\\': \\'58921479c3a368096800910f\\', \\'department\\': \\'Editing\\', \\'gender\\': 0, \\'id\\': 1589729, \\'job\\': \\'Assistant Editor\\', \\'name\\': \\'Robin Lee\\', \\'profile_path\\': None}, {\\'credit_id\\': \\'5892148b9251412dd10099cc\\', \\'department\\': \\'Editing\\', \\'gender\\': 0, \\'id\\': 1748716, \\'job\\': \\'Assistant Editor\\', \\'name\\': \\'Tom Freeman\\', \\'profile_path\\': None}, {\\'credit_id\\': \\'589214959251412dcb009b1f\\', \\'department\\': \\'Editing\\', \\'gender\\': 0, \\'id\\': 1748717, \\'job\\': \\'Assistant Editor\\', \\'name\\': \\'Ada Cochavi\\', \\'profile_path\\': None}, {\\'credit_id\\': \\'5892149ec3a3686348004798\\', \\'department\\': \\'Editing\\', \\'gender\\': 0, \\'id\\': 1336438, \\'job\\': \\'Assistant Editor\\', \\'name\\': \\'Dana Mulligan\\', \\'profile_path\\': None}, {\\'credit_id\\': \\'589214adc3a368096a0095db\\', \\'department\\': \\'Editing\\', \\'gender\\': 0, \\'id\\': 1748718, \\'job\\': \\'Editorial Coordinator\\', \\'name\\': \\'Deirdre Morrison\\', \\'profile_path\\': None}, {\\'credit_id\\': \\'589214c7c3a368097700952b\\', \\'department\\': \\'Production\\', \\'gender\\': 0, \\'id\\': 1748719, \\'job\\': \\'Production Coordinator\\', \\'name\\': \\'Lori Lombardo\\', \\'profile_path\\': None}, {\\'credit_id\\': \\'589214cec3a368096a009603\\', \\'department\\': \\'Production\\', \\'gender\\': 0, \\'id\\': 1748720, \\'job\\': \\'Production Coordinator\\', \\'name\\': \\'Ellen Devine\\', \\'profile_path\\': None}, {\\'credit_id\\': \\'589214e39251412dc8009904\\', \\'department\\': \\'Crew\\', \\'gender\\': 0, \\'id\\': 1468014, \\'job\\': \\'Unit Publicist\\', \\'name\\': \\'Lauren Beth Strogoff\\', \\'profile_path\\': None}, {\\'credit_id\\': \\'58921544c3a3686b0a00507d\\', \\'department\\': \\'Sound\\', \\'gender\\': 2, \\'id\\': 2216, \\'job\\': \\'Sound Re-Recording Mixer\\', \\'name\\': \\'Gary Rydstrom\\', \\'profile_path\\': \\'/jZpr1nVfO7lldWI0YtmP1FGw7Rj.jpg\\'}, {\\'credit_id\\': \\'5892154c9251412dd1009a56\\', \\'department\\': \\'Sound\\', \\'gender\\': 0, \\'id\\': 1425978, \\'job\\': \\'Sound Re-Recording Mixer\\', \\'name\\': \\'Gary Summers\\', \\'profile_path\\': None}, {\\'credit_id\\': \\'58921555c3a36809680091bd\\', \\'department\\': \\'Sound\\', \\'gender\\': 2, \\'id\\': 8276, \\'job\\': \\'Supervising Sound Editor\\', \\'name\\': \\'Tim Holland\\', \\'profile_path\\': None}, {\\'credit_id\\': \\'589215c39251412dcb009c12\\', \\'department\\': \\'Sound\\', \\'gender\\': 0, \\'id\\': 7069, \\'job\\': \\'Sound Effects Editor\\', \\'name\\': \\'Pat Jackson\\', \\'profile_path\\': None}, {\\'credit_id\\': \\'58921698c3a368096a009788\\', \\'department\\': \\'Crew\\', \\'gender\\': 2, \\'id\\': 15894, \\'job\\': \\'Sound Design Assistant\\', \\'name\\': \\'Tom Myers\\', \\'profile_path\\': None}, {\\'credit_id\\': \\'589216a89251412dc2009ca4\\', \\'department\\': \\'Sound\\', \\'gender\\': 0, \\'id\\': 1414177, \\'job\\': \\'Assistant Sound Editor\\', \\'name\\': \\'J.R. Grubbs\\', \\'profile_path\\': None}, {\\'credit_id\\': \\'589216c19251412dc2009cb9\\', \\'department\\': \\'Sound\\', \\'gender\\': 1, \\'id\\': 1748724, \\'job\\': \\'Assistant Sound Editor\\', \\'name\\': \\'Susan Sanford\\', \\'profile_path\\': None}, {\\'credit_id\\': \\'589216ccc3a3680973009274\\', \\'department\\': \\'Sound\\', \\'gender\\': 0, \\'id\\': 1748725, \\'job\\': \\'Assistant Sound Editor\\', \\'name\\': \\'Susan Popovic\\', \\'profile_path\\': None}, {\\'credit_id\\': \\'589216d79251412dc8009aa0\\', \\'department\\': \\'Sound\\', \\'gender\\': 0, \\'id\\': 8067, \\'job\\': \\'Assistant Sound Editor\\', \\'name\\': \\'Dan Engstrom\\', \\'profile_path\\': None}, {\\'credit_id\\': \\'589216e49251412dcd009a4f\\', \\'department\\': \\'Production\\', \\'gender\\': 1, \\'id\\': 7902, \\'job\\': \\'Casting Consultant\\', \\'name\\': \\'Ruth Lambert\\', \\'profile_path\\': None}, {\\'credit_id\\': \\'589216f39251412dc2009cf3\\', \\'department\\': \\'Production\\', \\'gender\\': 0, \\'id\\': 84493, \\'job\\': \\'ADR Voice Casting\\', \\'name\\': \\'Mickie McGowan\\', \\'profile_path\\': \\'/k7TjJBfINsg8vLQxJwos6XObAD6.jpg\\'}]'\n",
      " \"[{'credit_id': '52fe44bfc3a36847f80a7cd1', 'department': 'Production', 'gender': 2, 'id': 511, 'job': 'Executive Producer', 'name': 'Larry J. Franco', 'profile_path': None}, {'credit_id': '52fe44bfc3a36847f80a7c89', 'department': 'Writing', 'gender': 2, 'id': 876, 'job': 'Screenplay', 'name': 'Jonathan Hensleigh', 'profile_path': '/l1c4UFD3g0HVWj5f0CxXAvMAGiT.jpg'}, {'credit_id': '52fe44bfc3a36847f80a7cdd', 'department': 'Sound', 'gender': 2, 'id': 1729, 'job': 'Original Music Composer', 'name': 'James Horner', 'profile_path': '/oLOtXxXsYk8X4qq0ud4xVypXudi.jpg'}, {'credit_id': '52fe44bfc3a36847f80a7c7d', 'department': 'Directing', 'gender': 2, 'id': 4945, 'job': 'Director', 'name': 'Joe Johnston', 'profile_path': '/fok4jaO62v5IP6hkpaaAcXuw2H.jpg'}, {'credit_id': '52fe44bfc3a36847f80a7cd7', 'department': 'Editing', 'gender': 2, 'id': 4951, 'job': 'Editor', 'name': 'Robert Dalva', 'profile_path': None}, {'credit_id': '573523bec3a368025100062c', 'department': 'Production', 'gender': 0, 'id': 4952, 'job': 'Casting', 'name': 'Nancy Foy', 'profile_path': '/blCkmS4dqNsbPGuQfozHE6wgWBw.jpg'}, {'credit_id': '5722a924c3a3682d1e000b41', 'department': 'Visual Effects', 'gender': 0, 'id': 8023, 'job': 'Animation Supervisor', 'name': 'Kyle Balda', 'profile_path': '/jR8iAP6uC0V42KbUG87qBIUO3Hj.jpg'}, {'credit_id': '52fe44c0c3a36847f80a7ce3', 'department': 'Art', 'gender': 2, 'id': 9967, 'job': 'Production Design', 'name': 'James D. Bissell', 'profile_path': None}, {'credit_id': '52fe44bfc3a36847f80a7cb9', 'department': 'Production', 'gender': 2, 'id': 9184, 'job': 'Producer', 'name': 'Scott Kroopf', 'profile_path': None}, {'credit_id': '52fe44bfc3a36847f80a7ccb', 'department': 'Production', 'gender': 2, 'id': 9196, 'job': 'Executive Producer', 'name': 'Ted Field', 'profile_path': '/qmB7sZcgRUq7mRFBSTlSsVXh7sH.jpg'}, {'credit_id': '52fe44bfc3a36847f80a7cc5', 'department': 'Production', 'gender': 2, 'id': 18389, 'job': 'Executive Producer', 'name': 'Robert W. Cort', 'profile_path': None}, {'credit_id': '52fe44bfc3a36847f80a7cbf', 'department': 'Camera', 'gender': 2, 'id': 11371, 'job': 'Director of Photography', 'name': 'Thomas E. Ackerman', 'profile_path': '/xFDbxk53icM1ofL4iCIwB4GkUxN.jpg'}, {'credit_id': '52fe44bfc3a36847f80a7c83', 'department': 'Writing', 'gender': 2, 'id': 42356, 'job': 'Novel', 'name': 'Chris van Allsburg', 'profile_path': None}, {'credit_id': '52fe44bfc3a36847f80a7cb3', 'department': 'Production', 'gender': 2, 'id': 42357, 'job': 'Producer', 'name': 'William Teitler', 'profile_path': None}, {'credit_id': '52fe44bfc3a36847f80a7c8f', 'department': 'Writing', 'gender': 2, 'id': 56520, 'job': 'Screenplay', 'name': 'Greg Taylor', 'profile_path': None}, {'credit_id': '52fe44bfc3a36847f80a7c95', 'department': 'Writing', 'gender': 2, 'id': 56521, 'job': 'Screenplay', 'name': 'Jim Strain', 'profile_path': None}]\"\n",
      " \"[{'credit_id': '52fe466a9251416c75077a89', 'department': 'Directing', 'gender': 2, 'id': 26502, 'job': 'Director', 'name': 'Howard Deutch', 'profile_path': '/68Vae1HkU1NxQZ6KEmuxIpno7c9.jpg'}, {'credit_id': '52fe466b9251416c75077aa3', 'department': 'Writing', 'gender': 2, 'id': 16837, 'job': 'Characters', 'name': 'Mark Steven Johnson', 'profile_path': '/6trChNn3o2bi4i2ipgMEAytwmZp.jpg'}, {'credit_id': '52fe466b9251416c75077aa9', 'department': 'Writing', 'gender': 2, 'id': 16837, 'job': 'Writer', 'name': 'Mark Steven Johnson', 'profile_path': '/6trChNn3o2bi4i2ipgMEAytwmZp.jpg'}, {'credit_id': '5675eb4b92514179dd003933', 'department': 'Crew', 'gender': 2, 'id': 1551320, 'job': 'Sound Recordist', 'name': 'Jack Keller', 'profile_path': None}]\"\n",
      " ...\n",
      " \"[{'credit_id': '52fe4776c3a368484e0c8387', 'department': 'Directing', 'gender': 2, 'id': 67753, 'job': 'Director', 'name': 'Mark L. Lester', 'profile_path': None}, {'credit_id': '52fe4776c3a368484e0c838d', 'department': 'Writing', 'gender': 2, 'id': 19713, 'job': 'Screenplay', 'name': 'C. Courtney Joyner', 'profile_path': None}, {'credit_id': '52fe4776c3a368484e0c8393', 'department': 'Writing', 'gender': 2, 'id': 549355, 'job': 'Screenplay', 'name': 'Jeffrey Goldenberg', 'profile_path': '/cX9qmOSujqnjIqDVS1jlNSpWLHx.jpg'}, {'credit_id': '52fe4776c3a368484e0c8399', 'department': 'Sound', 'gender': 0, 'id': 549356, 'job': 'Original Music Composer', 'name': 'Richard McHugh', 'profile_path': None}, {'credit_id': '52fe4776c3a368484e0c839f', 'department': 'Camera', 'gender': 2, 'id': 58818, 'job': 'Director of Photography', 'name': 'João Fernandes', 'profile_path': None}]\"\n",
      " \"[{'credit_id': '533bccebc3a36844cf0011a7', 'department': 'Directing', 'gender': 0, 'id': 1085341, 'job': 'Director', 'name': 'Yakov Protazanov', 'profile_path': '/yyjbGdCs2ZN6IlZNCfmBWyuRDlt.jpg'}, {'credit_id': '58ebbc26925141281908aa0a', 'department': 'Production', 'gender': 2, 'id': 1195656, 'job': 'Producer', 'name': 'Joseph N. Ermolieff', 'profile_path': None}]\"\n",
      " \"[{'credit_id': '593e676c92514105b702e68e', 'department': 'Directing', 'gender': 0, 'id': 1344495, 'job': 'Director', 'name': 'Daisy Asquith', 'profile_path': None}]\"]\n"
     ]
    }
   ],
   "source": [
    "# Confirmar los tipos de datos que puedo encontrar dentro de la columna cast\n",
    "print(credits_df_parquet['crew'].unique())"
   ]
  },
  {
   "cell_type": "code",
   "execution_count": 36,
   "metadata": {},
   "outputs": [],
   "source": [
    "# Realizar una funcion para desanidar la columna crew\n",
    "\n",
    "def desanidar_columna_crew(columna):\n",
    "    \"\"\"\n",
    "    Desanida la columna 'crew' del DataFrame 'credits_df_parquet', que contiene información en listas de diccionarios.\n",
    "    La función extrae los valores de 'credit_id', 'department', 'gender', 'id', 'job', 'name', y 'profile_path' \n",
    "    de la primera entrada en la lista de cada fila y crea nuevas columnas en el DataFrame con estos valores.\n",
    "\n",
    "    Parámetros:\n",
    "        columna: Una columna del DataFrame que tiene una lista de diccionarios.\n",
    "\n",
    "    Retorna:\n",
    "        Una tupla con los valores extraídos: credit_id, department, gender, id, job, name y profile_path.\n",
    "    \"\"\"\n",
    "    if pd.isna(columna) or not isinstance(columna, str):\n",
    "        return None, None, None, None, None, None, None\n",
    "\n",
    "    try:\n",
    "        lista_dicts = ast.literal_eval(columna)\n",
    "\n",
    "        if isinstance(lista_dicts, list) and lista_dicts and isinstance(lista_dicts[0], dict):\n",
    "            # Extraer los primeros valores de la lista para simplificar\n",
    "            first_entry = lista_dicts[0]\n",
    "            return (\n",
    "                first_entry.get('credit_id', None),\n",
    "                first_entry.get('department', None),\n",
    "                first_entry.get('gender', None),\n",
    "                first_entry.get('id', None),\n",
    "                first_entry.get('job', None),\n",
    "                first_entry.get('name', None),\n",
    "                first_entry.get('profile_path', None),\n",
    "            )\n",
    "        else:\n",
    "            return None, None, None, None, None, None, None\n",
    "    except (ValueError, SyntaxError):\n",
    "        return None, None, None, None, None, None, None\n",
    "\n",
    "# Aplicar la función para extraer 'credit_id', 'department', 'gender', 'id', 'job', 'name' y 'profile_path' de 'crew'\n",
    "credits_df_parquet[['crew_credit_id', 'crew_department', 'crew_gender', 'crew_id_member', 'crew_job', 'crew_name_member', 'crew_profile_path_member']] = credits_df_parquet['crew'].apply(desanidar_columna_crew).apply(pd.Series)\n",
    "\n"
   ]
  },
  {
   "cell_type": "code",
   "execution_count": 37,
   "metadata": {},
   "outputs": [
    {
     "name": "stdout",
     "output_type": "stream",
     "text": [
      "             crew_credit_id crew_department  crew_gender  crew_id_member  \\\n",
      "0  52fe4284c3a36847f8024f49       Directing          2.0          7879.0   \n",
      "1  52fe44bfc3a36847f80a7cd1      Production          2.0           511.0   \n",
      "2  52fe466a9251416c75077a89       Directing          2.0         26502.0   \n",
      "3  52fe44779251416c91011acb       Directing          2.0          2178.0   \n",
      "4  52fe44959251416c75039ed7           Sound          2.0            37.0   \n",
      "\n",
      "                  crew_job crew_name_member          crew_profile_path_member  \n",
      "0                 Director    John Lasseter  /7EdqiNbr4FRjIhKHyPPdFfEEEFG.jpg  \n",
      "1       Executive Producer  Larry J. Franco                              None  \n",
      "2                 Director    Howard Deutch  /68Vae1HkU1NxQZ6KEmuxIpno7c9.jpg  \n",
      "3                 Director  Forest Whitaker  /4pMQkelS5lK661m9Kz3oIxLYiyS.jpg  \n",
      "4  Original Music Composer   Alan Silvestri  /chEsfnDEtRmv1bfOaNAoVEzhCc6.jpg  \n",
      "<class 'pandas.core.frame.DataFrame'>\n",
      "RangeIndex: 45476 entries, 0 to 45475\n",
      "Data columns (total 17 columns):\n",
      " #   Column                    Non-Null Count  Dtype  \n",
      "---  ------                    --------------  -----  \n",
      " 0   cast                      45476 non-null  object \n",
      " 1   crew                      45476 non-null  object \n",
      " 2   id                        45476 non-null  int64  \n",
      " 3   cast_id                   43058 non-null  float64\n",
      " 4   cast_character            43058 non-null  object \n",
      " 5   cast_credit_id            43058 non-null  object \n",
      " 6   cast_gender               43058 non-null  float64\n",
      " 7   cast_id_actor             43058 non-null  float64\n",
      " 8   cast_name_actor           43058 non-null  object \n",
      " 9   cast_order_credit         43058 non-null  float64\n",
      " 10  crew_credit_id            44705 non-null  object \n",
      " 11  crew_department           44705 non-null  object \n",
      " 12  crew_gender               44705 non-null  float64\n",
      " 13  crew_id_member            44705 non-null  float64\n",
      " 14  crew_job                  44705 non-null  object \n",
      " 15  crew_name_member          44705 non-null  object \n",
      " 16  crew_profile_path_member  21465 non-null  object \n",
      "dtypes: float64(6), int64(1), object(10)\n",
      "memory usage: 5.9+ MB\n",
      "None\n"
     ]
    }
   ],
   "source": [
    "# Verificar las primeras filas con las nuevas columnas\n",
    "\n",
    "print(credits_df_parquet[['crew_credit_id', 'crew_department', 'crew_gender', 'crew_id_member', 'crew_job', 'crew_name_member', 'crew_profile_path_member']].head())\n",
    "print(credits_df_parquet.info())"
   ]
  },
  {
   "cell_type": "code",
   "execution_count": 38,
   "metadata": {},
   "outputs": [
    {
     "name": "stdout",
     "output_type": "stream",
     "text": [
      "<class 'pandas.core.frame.DataFrame'>\n",
      "RangeIndex: 45476 entries, 0 to 45475\n",
      "Data columns (total 15 columns):\n",
      " #   Column                    Non-Null Count  Dtype  \n",
      "---  ------                    --------------  -----  \n",
      " 0   id                        45476 non-null  int64  \n",
      " 1   cast_id                   43058 non-null  float64\n",
      " 2   cast_character            43058 non-null  object \n",
      " 3   cast_credit_id            43058 non-null  object \n",
      " 4   cast_gender               43058 non-null  float64\n",
      " 5   cast_id_actor             43058 non-null  float64\n",
      " 6   cast_name_actor           43058 non-null  object \n",
      " 7   cast_order_credit         43058 non-null  float64\n",
      " 8   crew_credit_id            44705 non-null  object \n",
      " 9   crew_department           44705 non-null  object \n",
      " 10  crew_gender               44705 non-null  float64\n",
      " 11  crew_id_member            44705 non-null  float64\n",
      " 12  crew_job                  44705 non-null  object \n",
      " 13  crew_name_member          44705 non-null  object \n",
      " 14  crew_profile_path_member  21465 non-null  object \n",
      "dtypes: float64(6), int64(1), object(8)\n",
      "memory usage: 5.2+ MB\n",
      "None\n"
     ]
    }
   ],
   "source": [
    "\n",
    "# Eliminar las columnas desanidadas\n",
    "credits_df_parquet = credits_df_parquet.drop(columns=['cast','crew'])\n",
    "\n",
    "# Guardar el dataframe en su respectivo dataset\n",
    "credits_df_parquet.to_parquet('Datasets/credits_dataset_parquet', index=False)\n",
    "\n",
    "# Verificar la eliminacion exitosa\n",
    "print(credits_df_parquet.info())"
   ]
  },
  {
   "cell_type": "code",
   "execution_count": 39,
   "metadata": {},
   "outputs": [],
   "source": [
    "# Cambiar el nombre de la columna\n",
    "credits_df_parquet.rename(columns={'id': 'id_credits'}, inplace=True)\n",
    "# Guardar el dataframe en su respectivo dataset\n",
    "credits_df_parquet.to_parquet('Datasets/credits_dataset_parquet', index=False)\n",
    "# Cambiar el nombre de la columna\n",
    "movies_df_parquet.rename(columns={'id': 'id_movies'}, inplace=True)\n",
    "# Guardar el dataframe en su respectivo dataset\n",
    "movies_df_parquet.to_parquet('Datasets/movies_dataset_parquet', index=False) \n",
    "\n"
   ]
  }
 ],
 "metadata": {
  "kernelspec": {
   "display_name": "Python 3",
   "language": "python",
   "name": "python3"
  },
  "language_info": {
   "codemirror_mode": {
    "name": "ipython",
    "version": 3
   },
   "file_extension": ".py",
   "mimetype": "text/x-python",
   "name": "python",
   "nbconvert_exporter": "python",
   "pygments_lexer": "ipython3",
   "version": "3.12.2"
  }
 },
 "nbformat": 4,
 "nbformat_minor": 2
}
