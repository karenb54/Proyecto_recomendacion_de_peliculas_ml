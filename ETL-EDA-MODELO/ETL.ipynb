{
 "cells": [
  {
   "cell_type": "markdown",
   "metadata": {},
   "source": [
    "# Extraccion y transformacion de los datasets"
   ]
  },
  {
   "cell_type": "markdown",
   "metadata": {},
   "source": [
    "### 1. Extraccion de los datos en dataframes"
   ]
  },
  {
   "cell_type": "code",
   "execution_count": 7,
   "metadata": {},
   "outputs": [],
   "source": [
    "# Importo las librerias correspondientes\n",
    "import pandas as pd\n",
    "import ast\n",
    "import json\n",
    "import numpy as np\n",
    "\n",
    "# Extraigo los datos del dataset\n",
    "movies_df = pd.read_csv('../Datasets/movies_dataset.csv', low_memory=False)\n",
    "credits_df = pd.read_csv('../Datasets/credits.csv', low_memory=False)\n",
    "\n",
    "# Realizo el cambio de csv a parquet\n",
    "movies_df.to_parquet('../Datasets/movies_dataset_parquet') \n",
    "credits_df.to_parquet('../Datasets/credits_dataset_parquet')\n",
    "\n",
    "# Extraigo los datos del dataset en parquet\n",
    "movies_df_parquet = pd.read_parquet('../Datasets/movies_dataset_parquet')\n",
    "credits_df_parquet = pd.read_parquet('../Datasets/credits_dataset_parquet')\n"
   ]
  },
  {
   "cell_type": "code",
   "execution_count": 8,
   "metadata": {},
   "outputs": [
    {
     "name": "stdout",
     "output_type": "stream",
     "text": [
      "<class 'pandas.core.frame.DataFrame'>\n",
      "RangeIndex: 45466 entries, 0 to 45465\n",
      "Data columns (total 24 columns):\n",
      " #   Column                 Non-Null Count  Dtype  \n",
      "---  ------                 --------------  -----  \n",
      " 0   adult                  45466 non-null  object \n",
      " 1   belongs_to_collection  4494 non-null   object \n",
      " 2   budget                 45466 non-null  object \n",
      " 3   genres                 45466 non-null  object \n",
      " 4   homepage               7782 non-null   object \n",
      " 5   id                     45466 non-null  object \n",
      " 6   imdb_id                45449 non-null  object \n",
      " 7   original_language      45455 non-null  object \n",
      " 8   original_title         45466 non-null  object \n",
      " 9   overview               44512 non-null  object \n",
      " 10  popularity             45461 non-null  object \n",
      " 11  poster_path            45080 non-null  object \n",
      " 12  production_companies   45463 non-null  object \n",
      " 13  production_countries   45463 non-null  object \n",
      " 14  release_date           45379 non-null  object \n",
      " 15  revenue                45460 non-null  float64\n",
      " 16  runtime                45203 non-null  float64\n",
      " 17  spoken_languages       45460 non-null  object \n",
      " 18  status                 45379 non-null  object \n",
      " 19  tagline                20412 non-null  object \n",
      " 20  title                  45460 non-null  object \n",
      " 21  video                  45460 non-null  object \n",
      " 22  vote_average           45460 non-null  float64\n",
      " 23  vote_count             45460 non-null  float64\n",
      "dtypes: float64(4), object(20)\n",
      "memory usage: 8.3+ MB\n",
      "None\n"
     ]
    }
   ],
   "source": [
    "# Observo las columnas del dataframe movies_df_parquet\n",
    "print(movies_df_parquet.info())"
   ]
  },
  {
   "cell_type": "code",
   "execution_count": 9,
   "metadata": {},
   "outputs": [
    {
     "name": "stdout",
     "output_type": "stream",
     "text": [
      "   adult                              belongs_to_collection    budget  \\\n",
      "0  False  {'id': 10194, 'name': 'Toy Story Collection', ...  30000000   \n",
      "\n",
      "                                              genres  \\\n",
      "0  [{'id': 16, 'name': 'Animation'}, {'id': 35, '...   \n",
      "\n",
      "                               homepage   id    imdb_id original_language  \\\n",
      "0  http://toystory.disney.com/toy-story  862  tt0114709                en   \n",
      "\n",
      "  original_title                                           overview  ...  \\\n",
      "0      Toy Story  Led by Woody, Andy's toys live happily in his ...  ...   \n",
      "\n",
      "  release_date      revenue runtime                          spoken_languages  \\\n",
      "0   1995-10-30  373554033.0    81.0  [{'iso_639_1': 'en', 'name': 'English'}]   \n",
      "\n",
      "     status  tagline      title  video vote_average vote_count  \n",
      "0  Released     None  Toy Story  False          7.7     5415.0  \n",
      "\n",
      "[1 rows x 24 columns]\n"
     ]
    }
   ],
   "source": [
    "# Observo los datos del dataframe movies_df_parquet\n",
    "print(movies_df_parquet.head(1))"
   ]
  },
  {
   "cell_type": "code",
   "execution_count": 10,
   "metadata": {},
   "outputs": [
    {
     "name": "stdout",
     "output_type": "stream",
     "text": [
      "                                                cast  \\\n",
      "0  [{'cast_id': 14, 'character': 'Woody (voice)',...   \n",
      "\n",
      "                                                crew   id  \n",
      "0  [{'credit_id': '52fe4284c3a36847f8024f49', 'de...  862  \n"
     ]
    }
   ],
   "source": [
    "# observo los datos del dataframe credits_df_parquet\n",
    "print(credits_df_parquet.head(1))        \n"
   ]
  },
  {
   "cell_type": "code",
   "execution_count": 11,
   "metadata": {},
   "outputs": [
    {
     "name": "stdout",
     "output_type": "stream",
     "text": [
      "<class 'pandas.core.frame.DataFrame'>\n",
      "RangeIndex: 45476 entries, 0 to 45475\n",
      "Data columns (total 3 columns):\n",
      " #   Column  Non-Null Count  Dtype \n",
      "---  ------  --------------  ----- \n",
      " 0   cast    45476 non-null  object\n",
      " 1   crew    45476 non-null  object\n",
      " 2   id      45476 non-null  int64 \n",
      "dtypes: int64(1), object(2)\n",
      "memory usage: 1.0+ MB\n",
      "None\n"
     ]
    }
   ],
   "source": [
    "# observo las columnas del dataframe credits_df_parquet\n",
    "print(credits_df_parquet.info())"
   ]
  },
  {
   "cell_type": "markdown",
   "metadata": {},
   "source": [
    "### 2. Eliminacion de columnas no utiles"
   ]
  },
  {
   "cell_type": "code",
   "execution_count": 12,
   "metadata": {},
   "outputs": [
    {
     "name": "stdout",
     "output_type": "stream",
     "text": [
      "<class 'pandas.core.frame.DataFrame'>\n",
      "RangeIndex: 45466 entries, 0 to 45465\n",
      "Data columns (total 18 columns):\n",
      " #   Column                 Non-Null Count  Dtype  \n",
      "---  ------                 --------------  -----  \n",
      " 0   belongs_to_collection  4494 non-null   object \n",
      " 1   budget                 45466 non-null  object \n",
      " 2   genres                 45466 non-null  object \n",
      " 3   id                     45466 non-null  object \n",
      " 4   original_language      45455 non-null  object \n",
      " 5   overview               44512 non-null  object \n",
      " 6   popularity             45461 non-null  object \n",
      " 7   production_companies   45463 non-null  object \n",
      " 8   production_countries   45463 non-null  object \n",
      " 9   release_date           45379 non-null  object \n",
      " 10  revenue                45460 non-null  float64\n",
      " 11  runtime                45203 non-null  float64\n",
      " 12  spoken_languages       45460 non-null  object \n",
      " 13  status                 45379 non-null  object \n",
      " 14  tagline                20412 non-null  object \n",
      " 15  title                  45460 non-null  object \n",
      " 16  vote_average           45460 non-null  float64\n",
      " 17  vote_count             45460 non-null  float64\n",
      "dtypes: float64(4), object(14)\n",
      "memory usage: 6.2+ MB\n"
     ]
    }
   ],
   "source": [
    "# Elimino las columnas que no son utiles\n",
    "movies_df_parquet = movies_df_parquet.drop(columns=['adult','homepage','imdb_id','poster_path','original_title','video'])\n",
    "\n",
    "# Compruebo que se hayan eliminado de manera correcta las columnas\n",
    "movies_df_parquet.info()"
   ]
  },
  {
   "cell_type": "markdown",
   "metadata": {},
   "source": [
    "### 3. Limpieza de columnas con valores tipo Fecha"
   ]
  },
  {
   "cell_type": "code",
   "execution_count": 13,
   "metadata": {},
   "outputs": [
    {
     "name": "stdout",
     "output_type": "stream",
     "text": [
      "  release_date  release_year\n",
      "0   1995-10-30        1995.0\n",
      "1   1995-12-15        1995.0\n",
      "2   1995-12-22        1995.0\n",
      "3   1995-12-22        1995.0\n",
      "4   1995-02-10        1995.0\n",
      "<class 'pandas.core.frame.DataFrame'>\n",
      "RangeIndex: 45466 entries, 0 to 45465\n",
      "Data columns (total 19 columns):\n",
      " #   Column                 Non-Null Count  Dtype         \n",
      "---  ------                 --------------  -----         \n",
      " 0   belongs_to_collection  4494 non-null   object        \n",
      " 1   budget                 45466 non-null  object        \n",
      " 2   genres                 45466 non-null  object        \n",
      " 3   id                     45466 non-null  object        \n",
      " 4   original_language      45455 non-null  object        \n",
      " 5   overview               44512 non-null  object        \n",
      " 6   popularity             45461 non-null  object        \n",
      " 7   production_companies   45463 non-null  object        \n",
      " 8   production_countries   45463 non-null  object        \n",
      " 9   release_date           45376 non-null  datetime64[ns]\n",
      " 10  revenue                45460 non-null  float64       \n",
      " 11  runtime                45203 non-null  float64       \n",
      " 12  spoken_languages       45460 non-null  object        \n",
      " 13  status                 45379 non-null  object        \n",
      " 14  tagline                20412 non-null  object        \n",
      " 15  title                  45460 non-null  object        \n",
      " 16  vote_average           45460 non-null  float64       \n",
      " 17  vote_count             45460 non-null  float64       \n",
      " 18  release_year           45376 non-null  float64       \n",
      "dtypes: datetime64[ns](1), float64(5), object(13)\n",
      "memory usage: 6.6+ MB\n",
      "None\n"
     ]
    }
   ],
   "source": [
    "# Ordeno las fechas de la columna release_date en un formato AAAA-mm-dd\n",
    "movies_df_parquet['release_date'] = pd.to_datetime(movies_df_parquet['release_date'], format ='%Y-%m-%d', errors= 'coerce')\n",
    "\n",
    "# Creo una columna llamada release_year tomando el año de la fecha de estreno \n",
    "\n",
    "movies_df_parquet['release_year'] = movies_df_parquet['release_date'].dt.year\n",
    "\n",
    "#compruebo los cambios y las agregaciones correspondientes\n",
    "\n",
    "print(movies_df_parquet[['release_date', 'release_year']].head())\n",
    "print(movies_df_parquet.info())"
   ]
  },
  {
   "cell_type": "markdown",
   "metadata": {},
   "source": [
    "### 4. Eliminacion o modificacion de datos nulos"
   ]
  },
  {
   "cell_type": "code",
   "execution_count": 14,
   "metadata": {},
   "outputs": [],
   "source": [
    "# Modifico los valores nulos del dataframe movies_df_parquet\n",
    "\n",
    "movies_df_parquet['revenue'] = movies_df_parquet['revenue'].fillna(0)\n",
    "movies_df_parquet['budget'] = movies_df_parquet['budget'].fillna(0)\n",
    "\n",
    "\n",
    "# Elimino las filas con valores nulos de la columna release_date\n",
    "movies_df_parquet = movies_df_parquet.dropna(subset=['release_date'])\n"
   ]
  },
  {
   "cell_type": "code",
   "execution_count": 15,
   "metadata": {},
   "outputs": [
    {
     "data": {
      "text/plain": [
       "belongs_to_collection    40888\n",
       "budget                       0\n",
       "genres                       0\n",
       "id                           0\n",
       "original_language           11\n",
       "overview                   941\n",
       "popularity                   0\n",
       "production_companies         0\n",
       "production_countries         0\n",
       "release_date                 0\n",
       "revenue                      0\n",
       "runtime                    246\n",
       "spoken_languages             0\n",
       "status                      80\n",
       "tagline                  24978\n",
       "title                        0\n",
       "vote_average                 0\n",
       "vote_count                   0\n",
       "release_year                 0\n",
       "dtype: int64"
      ]
     },
     "execution_count": 15,
     "metadata": {},
     "output_type": "execute_result"
    }
   ],
   "source": [
    "# compruebo la limpieza de datos nulos\n",
    "\n",
    "movies_df_parquet.isnull().sum()"
   ]
  },
  {
   "cell_type": "markdown",
   "metadata": {},
   "source": [
    "### 5. Creacion de columnas calculadas"
   ]
  },
  {
   "cell_type": "code",
   "execution_count": 16,
   "metadata": {},
   "outputs": [
    {
     "name": "stdout",
     "output_type": "stream",
     "text": [
      "       revenue    budget     return\n",
      "0  373554033.0  30000000  12.451801\n",
      "1  262797249.0  65000000   4.043035\n",
      "2          0.0         0   0.000000\n",
      "3   81452156.0  16000000   5.090760\n",
      "4   76578911.0         0   0.000000\n",
      "<class 'pandas.core.frame.DataFrame'>\n",
      "Index: 45376 entries, 0 to 45465\n",
      "Data columns (total 20 columns):\n",
      " #   Column                 Non-Null Count  Dtype         \n",
      "---  ------                 --------------  -----         \n",
      " 0   belongs_to_collection  4488 non-null   object        \n",
      " 1   budget                 45376 non-null  int64         \n",
      " 2   genres                 45376 non-null  object        \n",
      " 3   id                     45376 non-null  object        \n",
      " 4   original_language      45365 non-null  object        \n",
      " 5   overview               44435 non-null  object        \n",
      " 6   popularity             45376 non-null  object        \n",
      " 7   production_companies   45376 non-null  object        \n",
      " 8   production_countries   45376 non-null  object        \n",
      " 9   release_date           45376 non-null  datetime64[ns]\n",
      " 10  revenue                45376 non-null  float64       \n",
      " 11  runtime                45130 non-null  float64       \n",
      " 12  spoken_languages       45376 non-null  object        \n",
      " 13  status                 45296 non-null  object        \n",
      " 14  tagline                20398 non-null  object        \n",
      " 15  title                  45376 non-null  object        \n",
      " 16  vote_average           45376 non-null  float64       \n",
      " 17  vote_count             45376 non-null  float64       \n",
      " 18  release_year           45376 non-null  float64       \n",
      " 19  return                 45376 non-null  float64       \n",
      "dtypes: datetime64[ns](1), float64(6), int64(1), object(12)\n",
      "memory usage: 7.3+ MB\n",
      "None\n"
     ]
    }
   ],
   "source": [
    "# Me aseguro que los datos de las columnas revenue y budget sean numericos\n",
    "\n",
    "movies_df_parquet['revenue'] = pd.to_numeric(movies_df_parquet['revenue'], errors='coerce')\n",
    "movies_df_parquet['budget'] = pd.to_numeric(movies_df_parquet['budget'], errors='coerce')\n",
    "\n",
    "# Creo la columna 'return' la cual va a calcular el retorno de la inversion entre las columnas 'revenue' y 'budget' usando numpy\n",
    "\n",
    "movies_df_parquet['return'] = np.where(\n",
    "    # creo la condicion\n",
    "    movies_df_parquet['budget'] > 0,\n",
    "    # valor si la condicion es True\n",
    "    movies_df_parquet['revenue']/movies_df_parquet['budget'],\n",
    "    # valor si la condicion es False\n",
    "    0\n",
    ")\n",
    "\n",
    "# guardo los datos en el dataset y compruebo los cambios y agregaciones correspondientes\n",
    "print(movies_df_parquet [['revenue', 'budget', 'return']].head())\n",
    "print(movies_df_parquet .info())"
   ]
  },
  {
   "cell_type": "markdown",
   "metadata": {},
   "source": [
    "### 6. Desanidado de Columnas del dataset movies"
   ]
  },
  {
   "cell_type": "code",
   "execution_count": 17,
   "metadata": {},
   "outputs": [
    {
     "data": {
      "text/plain": [
       "0    {'id': 10194, 'name': 'Toy Story Collection', ...\n",
       "Name: belongs_to_collection, dtype: object"
      ]
     },
     "execution_count": 17,
     "metadata": {},
     "output_type": "execute_result"
    }
   ],
   "source": [
    "# Confirmo los tipos de datos que puedo encontrar dentro de la columna belongs_to_collection\n",
    "movies_df_parquet ['belongs_to_collection'].head(1)"
   ]
  },
  {
   "cell_type": "code",
   "execution_count": 18,
   "metadata": {},
   "outputs": [],
   "source": [
    "# Realizo una función para desanidar los diccionarios de la columna belongs_to_collection\n",
    "\n",
    "def desanidar_belongs_to_collection(columna):\n",
    "    \"\"\"\n",
    "    Desanida la columna 'belongs_to_collection' del DataFrame movies_df_parquet_modificado, extrayendo los valores\n",
    "    de 'id' y 'name' de la columna 'belongs_to_collection' y creando nuevas columnas 'id_belongs_to_collection' y \n",
    "    'name_belongs_to_collection'.\n",
    "\n",
    "    Parametros:\n",
    "        columna: la columna 'belongs_to_collection' del DataFrame que contiene datos en formato diccionario.\n",
    "\n",
    "    Retorna:\n",
    "        Un DataFrame modificado con dos nuevas columnas:\n",
    "            * 'id_belongs_to_collection': El id de la colección a la que pertenece la película.\n",
    "            * 'name_belongs_to_collection': El nombre de la colección a la que pertenece la película.\n",
    "    \"\"\"\n",
    "\n",
    "    if pd.isna(columna) or not isinstance(columna, str): \n",
    "        return None, None\n",
    "    try:\n",
    "        # Intento convertir el string en un diccionario\n",
    "\n",
    "        columna_dict = ast.literal_eval(columna)\n",
    "\n",
    "        # Me aseguro de que sea un diccionario antes de extraer los valores\n",
    "\n",
    "        if isinstance(columna_dict, dict):\n",
    "            return columna_dict.get('id', None), columna_dict.get('name', None)\n",
    "        else:\n",
    "            return None, None\n",
    "        \n",
    "    # tengo en cuenta los errores que pueden ocurrir \n",
    "\n",
    "    except (ValueError, SyntaxError):\n",
    "        return None, None\n",
    "\n",
    "# Aplico la función para extraer 'id' y 'name'\n",
    "movies_df_parquet ['id_belongs_to_collection'], movies_df_parquet ['name_belongs_to_collection'] = zip(*movies_df_parquet ['belongs_to_collection'].apply(desanidar_belongs_to_collection))\n"
   ]
  },
  {
   "cell_type": "code",
   "execution_count": 19,
   "metadata": {},
   "outputs": [
    {
     "name": "stdout",
     "output_type": "stream",
     "text": [
      "   id_belongs_to_collection      name_belongs_to_collection\n",
      "0                   10194.0            Toy Story Collection\n",
      "1                       NaN                            None\n",
      "2                  119050.0       Grumpy Old Men Collection\n",
      "3                       NaN                            None\n",
      "4                   96871.0  Father of the Bride Collection\n",
      "<class 'pandas.core.frame.DataFrame'>\n",
      "Index: 45376 entries, 0 to 45465\n",
      "Data columns (total 22 columns):\n",
      " #   Column                      Non-Null Count  Dtype         \n",
      "---  ------                      --------------  -----         \n",
      " 0   belongs_to_collection       4488 non-null   object        \n",
      " 1   budget                      45376 non-null  int64         \n",
      " 2   genres                      45376 non-null  object        \n",
      " 3   id                          45376 non-null  object        \n",
      " 4   original_language           45365 non-null  object        \n",
      " 5   overview                    44435 non-null  object        \n",
      " 6   popularity                  45376 non-null  object        \n",
      " 7   production_companies        45376 non-null  object        \n",
      " 8   production_countries        45376 non-null  object        \n",
      " 9   release_date                45376 non-null  datetime64[ns]\n",
      " 10  revenue                     45376 non-null  float64       \n",
      " 11  runtime                     45130 non-null  float64       \n",
      " 12  spoken_languages            45376 non-null  object        \n",
      " 13  status                      45296 non-null  object        \n",
      " 14  tagline                     20398 non-null  object        \n",
      " 15  title                       45376 non-null  object        \n",
      " 16  vote_average                45376 non-null  float64       \n",
      " 17  vote_count                  45376 non-null  float64       \n",
      " 18  release_year                45376 non-null  float64       \n",
      " 19  return                      45376 non-null  float64       \n",
      " 20  id_belongs_to_collection    4488 non-null   float64       \n",
      " 21  name_belongs_to_collection  4488 non-null   object        \n",
      "dtypes: datetime64[ns](1), float64(7), int64(1), object(13)\n",
      "memory usage: 8.0+ MB\n",
      "None\n"
     ]
    }
   ],
   "source": [
    "# Verifico la existencia y el correcto guardado de las nuevas columnas\n",
    "\n",
    "print(movies_df_parquet [['id_belongs_to_collection', 'name_belongs_to_collection']].head())\n",
    "print(movies_df_parquet .info())"
   ]
  },
  {
   "cell_type": "code",
   "execution_count": 20,
   "metadata": {},
   "outputs": [
    {
     "name": "stdout",
     "output_type": "stream",
     "text": [
      "0    [{'name': 'Pixar Animation Studios', 'id': 3}]\n",
      "Name: production_companies, dtype: object\n"
     ]
    }
   ],
   "source": [
    "# Confirmo los tipos de datos que puedo encontrar dentro de la columna production_companies\n",
    "print(movies_df_parquet ['production_companies'].head(1))"
   ]
  },
  {
   "cell_type": "code",
   "execution_count": 21,
   "metadata": {},
   "outputs": [],
   "source": [
    "# Realizo una función para desanidar los diccionarios de la columna production_companies\n",
    "\n",
    "def desanidar_production_companies(columna):\n",
    "    \"\"\"\n",
    "    Desanida la columna 'production_companies', extrayendo los valores de 'id' y 'name' y creando\n",
    "    nuevas columnas 'id_production_companies' y 'name_production_companies'.\n",
    "\n",
    "    Parametros:\n",
    "        columna: La columna 'production_companies' del DataFrame que contiene datos en formato lista de diccionarios.\n",
    "\n",
    "    Retorna:\n",
    "        Tuplas con 'id_production_companies' y 'name_production_companies'.\n",
    "    \"\"\"\n",
    "    if pd.isna(columna) or not isinstance(columna, str):\n",
    "        return None, None\n",
    "    \n",
    "    try:\n",
    "        columna_list = ast.literal_eval(columna)\n",
    "        if isinstance(columna_list, list) and len(columna_list) > 0:\n",
    "            return columna_list[0].get('id', None), columna_list[0].get('name', None)\n",
    "        else:\n",
    "            return None, None\n",
    "    except (ValueError, SyntaxError):\n",
    "        return None, None\n",
    "\n",
    "# Aplico la función para extraer las tuplas\n",
    "movies_df_parquet ['id_production_companies'], movies_df_parquet ['name_production_companies'] = zip(*movies_df_parquet ['production_companies'].apply(desanidar_production_companies))\n"
   ]
  },
  {
   "cell_type": "code",
   "execution_count": 22,
   "metadata": {},
   "outputs": [
    {
     "name": "stdout",
     "output_type": "stream",
     "text": [
      "   id_production_companies               name_production_companies\n",
      "0                      3.0                 Pixar Animation Studios\n",
      "1                    559.0                        TriStar Pictures\n",
      "2                   6194.0                            Warner Bros.\n",
      "3                    306.0  Twentieth Century Fox Film Corporation\n",
      "4                   5842.0                   Sandollar Productions\n",
      "<class 'pandas.core.frame.DataFrame'>\n",
      "Index: 45376 entries, 0 to 45465\n",
      "Data columns (total 24 columns):\n",
      " #   Column                      Non-Null Count  Dtype         \n",
      "---  ------                      --------------  -----         \n",
      " 0   belongs_to_collection       4488 non-null   object        \n",
      " 1   budget                      45376 non-null  int64         \n",
      " 2   genres                      45376 non-null  object        \n",
      " 3   id                          45376 non-null  object        \n",
      " 4   original_language           45365 non-null  object        \n",
      " 5   overview                    44435 non-null  object        \n",
      " 6   popularity                  45376 non-null  object        \n",
      " 7   production_companies        45376 non-null  object        \n",
      " 8   production_countries        45376 non-null  object        \n",
      " 9   release_date                45376 non-null  datetime64[ns]\n",
      " 10  revenue                     45376 non-null  float64       \n",
      " 11  runtime                     45130 non-null  float64       \n",
      " 12  spoken_languages            45376 non-null  object        \n",
      " 13  status                      45296 non-null  object        \n",
      " 14  tagline                     20398 non-null  object        \n",
      " 15  title                       45376 non-null  object        \n",
      " 16  vote_average                45376 non-null  float64       \n",
      " 17  vote_count                  45376 non-null  float64       \n",
      " 18  release_year                45376 non-null  float64       \n",
      " 19  return                      45376 non-null  float64       \n",
      " 20  id_belongs_to_collection    4488 non-null   float64       \n",
      " 21  name_belongs_to_collection  4488 non-null   object        \n",
      " 22  id_production_companies     33580 non-null  float64       \n",
      " 23  name_production_companies   33580 non-null  object        \n",
      "dtypes: datetime64[ns](1), float64(8), int64(1), object(14)\n",
      "memory usage: 8.7+ MB\n",
      "None\n"
     ]
    }
   ],
   "source": [
    "# Verifico la existencia y el correcto guardado de las nuevas columnas\n",
    "\n",
    "print(movies_df_parquet [['id_production_companies', 'name_production_companies']].head())\n",
    "print(movies_df_parquet .info())"
   ]
  },
  {
   "cell_type": "code",
   "execution_count": 23,
   "metadata": {},
   "outputs": [
    {
     "name": "stdout",
     "output_type": "stream",
     "text": [
      "0    [{'iso_639_1': 'en', 'name': 'English'}]\n",
      "Name: spoken_languages, dtype: object\n"
     ]
    }
   ],
   "source": [
    "# Confirmo los tipos de datos que puedo encontrar dentro de la columna spoken_languages\n",
    "print(movies_df_parquet ['spoken_languages'].head(1))"
   ]
  },
  {
   "cell_type": "code",
   "execution_count": 24,
   "metadata": {},
   "outputs": [],
   "source": [
    "# Realizo una función para desanidar los diccionarios de la columna spoken_languages\n",
    "\n",
    "def desanidar_spoken_languages(columna):\n",
    "    \"\"\"\n",
    "    Desanida la columna 'spoken_languages', extrayendo los valores de 'iso_639_1' y 'name' y creando\n",
    "    nuevas columnas 'iso_spoken_language' y 'name_spoken_language'.\n",
    "\n",
    "    Parametros:\n",
    "        columna (pd.Series): Columna del DataFrame que contiene datos en formato lista de diccionarios.\n",
    "\n",
    "    Retorna:\n",
    "        Tuplas con 'iso_spoken_language' y 'name_spoken_language'.\n",
    "    \"\"\"\n",
    "    if pd.isna(columna) or not isinstance(columna, str):\n",
    "        return None, None\n",
    "    \n",
    "    try:\n",
    "        columna_list = ast.literal_eval(columna)\n",
    "        if isinstance(columna_list, list) and len(columna_list) > 0:\n",
    "            return columna_list[0].get('iso_639_1', None), columna_list[0].get('name', None)\n",
    "        else:\n",
    "            return None, None\n",
    "    except (ValueError, SyntaxError):\n",
    "        return None, None\n",
    "\n",
    "# Aplico la función\n",
    "movies_df_parquet ['iso_spoken_language'], movies_df_parquet ['name_spoken_language'] = zip(*movies_df_parquet ['spoken_languages'].apply(desanidar_spoken_languages))"
   ]
  },
  {
   "cell_type": "code",
   "execution_count": 25,
   "metadata": {},
   "outputs": [
    {
     "name": "stdout",
     "output_type": "stream",
     "text": [
      "  iso_spoken_language name_spoken_language\n",
      "0                  en              English\n",
      "1                  en              English\n",
      "2                  en              English\n",
      "3                  en              English\n",
      "4                  en              English\n",
      "<class 'pandas.core.frame.DataFrame'>\n",
      "Index: 45376 entries, 0 to 45465\n",
      "Data columns (total 26 columns):\n",
      " #   Column                      Non-Null Count  Dtype         \n",
      "---  ------                      --------------  -----         \n",
      " 0   belongs_to_collection       4488 non-null   object        \n",
      " 1   budget                      45376 non-null  int64         \n",
      " 2   genres                      45376 non-null  object        \n",
      " 3   id                          45376 non-null  object        \n",
      " 4   original_language           45365 non-null  object        \n",
      " 5   overview                    44435 non-null  object        \n",
      " 6   popularity                  45376 non-null  object        \n",
      " 7   production_companies        45376 non-null  object        \n",
      " 8   production_countries        45376 non-null  object        \n",
      " 9   release_date                45376 non-null  datetime64[ns]\n",
      " 10  revenue                     45376 non-null  float64       \n",
      " 11  runtime                     45130 non-null  float64       \n",
      " 12  spoken_languages            45376 non-null  object        \n",
      " 13  status                      45296 non-null  object        \n",
      " 14  tagline                     20398 non-null  object        \n",
      " 15  title                       45376 non-null  object        \n",
      " 16  vote_average                45376 non-null  float64       \n",
      " 17  vote_count                  45376 non-null  float64       \n",
      " 18  release_year                45376 non-null  float64       \n",
      " 19  return                      45376 non-null  float64       \n",
      " 20  id_belongs_to_collection    4488 non-null   float64       \n",
      " 21  name_belongs_to_collection  4488 non-null   object        \n",
      " 22  id_production_companies     33580 non-null  float64       \n",
      " 23  name_production_companies   33580 non-null  object        \n",
      " 24  iso_spoken_language         41608 non-null  object        \n",
      " 25  name_spoken_language        41608 non-null  object        \n",
      "dtypes: datetime64[ns](1), float64(8), int64(1), object(16)\n",
      "memory usage: 9.3+ MB\n",
      "None\n"
     ]
    }
   ],
   "source": [
    "# Verifico la existencia y correcto guardado de las nuevas columnas\n",
    "print(movies_df_parquet [['iso_spoken_language', 'name_spoken_language']].head())\n",
    "print(movies_df_parquet .info())"
   ]
  },
  {
   "cell_type": "code",
   "execution_count": 26,
   "metadata": {},
   "outputs": [
    {
     "name": "stdout",
     "output_type": "stream",
     "text": [
      "0    [{'iso_3166_1': 'US', 'name': 'United States o...\n",
      "Name: production_countries, dtype: object\n"
     ]
    }
   ],
   "source": [
    "# Confirmo los tipos de datos que puedo encontrar dentro de la columna production_countries\n",
    "print(movies_df_parquet ['production_countries'].head(1))"
   ]
  },
  {
   "cell_type": "code",
   "execution_count": 27,
   "metadata": {},
   "outputs": [],
   "source": [
    "# Creo una función para desanidar los diccionarios de la columna production_countries\n",
    "\n",
    "def desanidar_production_countries(columna):\n",
    "    \"\"\"\n",
    "    Desanida la columna 'production_countries', extrayendo los valores de 'iso_3166_1' y 'name' y creando\n",
    "    nuevas columnas 'iso_production_countries' y 'name_production_countries'.\n",
    "\n",
    "    Parametros:\n",
    "        columna: La Columna 'production_countries' del DataFrame que contiene datos en formato lista de diccionarios.\n",
    "\n",
    "    Retorna:\n",
    "        Tuplas con 'iso_country' y 'name_country'.\n",
    "    \"\"\"\n",
    "    if pd.isna(columna) or not isinstance(columna, str):\n",
    "        return None, None\n",
    "    \n",
    "    try:\n",
    "        columna_list = ast.literal_eval(columna)\n",
    "        if isinstance(columna_list, list) and len(columna_list) > 0:\n",
    "            return columna_list[0].get('iso_3166_1', None), columna_list[0].get('name', None)\n",
    "        else:\n",
    "            return None, None\n",
    "    except (ValueError, SyntaxError):\n",
    "        return None, None\n",
    "\n",
    "# Aplico la función\n",
    "movies_df_parquet ['iso_production_countries'], movies_df_parquet ['name_production_countries'] = zip(*movies_df_parquet ['production_countries'].apply(desanidar_production_countries))"
   ]
  },
  {
   "cell_type": "code",
   "execution_count": 28,
   "metadata": {},
   "outputs": [
    {
     "name": "stdout",
     "output_type": "stream",
     "text": [
      "  iso_production_countries name_production_countries\n",
      "0                       US  United States of America\n",
      "1                       US  United States of America\n",
      "2                       US  United States of America\n",
      "3                       US  United States of America\n",
      "4                       US  United States of America\n",
      "<class 'pandas.core.frame.DataFrame'>\n",
      "Index: 45376 entries, 0 to 45465\n",
      "Data columns (total 28 columns):\n",
      " #   Column                      Non-Null Count  Dtype         \n",
      "---  ------                      --------------  -----         \n",
      " 0   belongs_to_collection       4488 non-null   object        \n",
      " 1   budget                      45376 non-null  int64         \n",
      " 2   genres                      45376 non-null  object        \n",
      " 3   id                          45376 non-null  object        \n",
      " 4   original_language           45365 non-null  object        \n",
      " 5   overview                    44435 non-null  object        \n",
      " 6   popularity                  45376 non-null  object        \n",
      " 7   production_companies        45376 non-null  object        \n",
      " 8   production_countries        45376 non-null  object        \n",
      " 9   release_date                45376 non-null  datetime64[ns]\n",
      " 10  revenue                     45376 non-null  float64       \n",
      " 11  runtime                     45130 non-null  float64       \n",
      " 12  spoken_languages            45376 non-null  object        \n",
      " 13  status                      45296 non-null  object        \n",
      " 14  tagline                     20398 non-null  object        \n",
      " 15  title                       45376 non-null  object        \n",
      " 16  vote_average                45376 non-null  float64       \n",
      " 17  vote_count                  45376 non-null  float64       \n",
      " 18  release_year                45376 non-null  float64       \n",
      " 19  return                      45376 non-null  float64       \n",
      " 20  id_belongs_to_collection    4488 non-null   float64       \n",
      " 21  name_belongs_to_collection  4488 non-null   object        \n",
      " 22  id_production_companies     33580 non-null  float64       \n",
      " 23  name_production_companies   33580 non-null  object        \n",
      " 24  iso_spoken_language         41608 non-null  object        \n",
      " 25  name_spoken_language        41608 non-null  object        \n",
      " 26  iso_production_countries    39165 non-null  object        \n",
      " 27  name_production_countries   39165 non-null  object        \n",
      "dtypes: datetime64[ns](1), float64(8), int64(1), object(18)\n",
      "memory usage: 10.0+ MB\n",
      "None\n"
     ]
    }
   ],
   "source": [
    "# Verifico la existencia y el correcto guardado de las nuevas columnas\n",
    "print(movies_df_parquet [['iso_production_countries', 'name_production_countries']].head())\n",
    "print(movies_df_parquet .info())\n",
    "\n"
   ]
  },
  {
   "cell_type": "code",
   "execution_count": 29,
   "metadata": {},
   "outputs": [
    {
     "name": "stdout",
     "output_type": "stream",
     "text": [
      "0    [{'id': 16, 'name': 'Animation'}, {'id': 35, '...\n",
      "Name: genres, dtype: object\n"
     ]
    }
   ],
   "source": [
    "# Confirmo los tipos de datos que puedo encontrar dentro de la columna genres\n",
    "print(movies_df_parquet ['genres'].head(1))"
   ]
  },
  {
   "cell_type": "code",
   "execution_count": 30,
   "metadata": {},
   "outputs": [],
   "source": [
    "# Creo una función para desanidar los diccionarios de la columna genres\n",
    "def desanidar_genres(columna):\n",
    "    \"\"\"\n",
    "    Desanida la columna 'genres', extrayendo el primer valor de 'id' y 'name' y creando\n",
    "    nuevas columnas 'id_genre' y 'name_genre'.\n",
    "\n",
    "    Parametros:\n",
    "        columna: La Columna 'genres' del DataFrame que contiene datos en formato lista de diccionarios.\n",
    "\n",
    "    Retorna:\n",
    "        Tuplas con 'id_genre' y 'name_genre'.\n",
    "    \"\"\"\n",
    "    if pd.isna(columna) or not isinstance(columna, str):\n",
    "        return None, None\n",
    "    \n",
    "    try:\n",
    "        columna_list = ast.literal_eval(columna)\n",
    "        if isinstance(columna_list, list) and len(columna_list) > 0:\n",
    "            return columna_list[0].get('id', None), columna_list[0].get('name', None)\n",
    "        else:\n",
    "            return None, None\n",
    "    except (ValueError, SyntaxError):\n",
    "        return None, None\n",
    "\n",
    "# Aplico la función\n",
    "movies_df_parquet ['id_genre'], movies_df_parquet ['name_genre'] = zip(*movies_df_parquet ['genres'].apply(desanidar_genres))"
   ]
  },
  {
   "cell_type": "code",
   "execution_count": 31,
   "metadata": {},
   "outputs": [
    {
     "name": "stdout",
     "output_type": "stream",
     "text": [
      "  iso_production_countries name_production_countries\n",
      "0                       US  United States of America\n",
      "1                       US  United States of America\n",
      "2                       US  United States of America\n",
      "3                       US  United States of America\n",
      "4                       US  United States of America\n",
      "<class 'pandas.core.frame.DataFrame'>\n",
      "Index: 45376 entries, 0 to 45465\n",
      "Data columns (total 30 columns):\n",
      " #   Column                      Non-Null Count  Dtype         \n",
      "---  ------                      --------------  -----         \n",
      " 0   belongs_to_collection       4488 non-null   object        \n",
      " 1   budget                      45376 non-null  int64         \n",
      " 2   genres                      45376 non-null  object        \n",
      " 3   id                          45376 non-null  object        \n",
      " 4   original_language           45365 non-null  object        \n",
      " 5   overview                    44435 non-null  object        \n",
      " 6   popularity                  45376 non-null  object        \n",
      " 7   production_companies        45376 non-null  object        \n",
      " 8   production_countries        45376 non-null  object        \n",
      " 9   release_date                45376 non-null  datetime64[ns]\n",
      " 10  revenue                     45376 non-null  float64       \n",
      " 11  runtime                     45130 non-null  float64       \n",
      " 12  spoken_languages            45376 non-null  object        \n",
      " 13  status                      45296 non-null  object        \n",
      " 14  tagline                     20398 non-null  object        \n",
      " 15  title                       45376 non-null  object        \n",
      " 16  vote_average                45376 non-null  float64       \n",
      " 17  vote_count                  45376 non-null  float64       \n",
      " 18  release_year                45376 non-null  float64       \n",
      " 19  return                      45376 non-null  float64       \n",
      " 20  id_belongs_to_collection    4488 non-null   float64       \n",
      " 21  name_belongs_to_collection  4488 non-null   object        \n",
      " 22  id_production_companies     33580 non-null  float64       \n",
      " 23  name_production_companies   33580 non-null  object        \n",
      " 24  iso_spoken_language         41608 non-null  object        \n",
      " 25  name_spoken_language        41608 non-null  object        \n",
      " 26  iso_production_countries    39165 non-null  object        \n",
      " 27  name_production_countries   39165 non-null  object        \n",
      " 28  id_genre                    42992 non-null  float64       \n",
      " 29  name_genre                  42992 non-null  object        \n",
      "dtypes: datetime64[ns](1), float64(9), int64(1), object(19)\n",
      "memory usage: 10.7+ MB\n",
      "None\n"
     ]
    }
   ],
   "source": [
    "# Verifico la existencia de las nuevas columnas\n",
    "print(movies_df_parquet [['iso_production_countries', 'name_production_countries']].head())\n",
    "print(movies_df_parquet .info())\n"
   ]
  },
  {
   "cell_type": "markdown",
   "metadata": {},
   "source": [
    "### 7. Eliminacion de las columnas desanidadas"
   ]
  },
  {
   "cell_type": "code",
   "execution_count": 32,
   "metadata": {},
   "outputs": [
    {
     "name": "stdout",
     "output_type": "stream",
     "text": [
      "<class 'pandas.core.frame.DataFrame'>\n",
      "Index: 45376 entries, 0 to 45465\n",
      "Data columns (total 25 columns):\n",
      " #   Column                      Non-Null Count  Dtype         \n",
      "---  ------                      --------------  -----         \n",
      " 0   budget                      45376 non-null  int64         \n",
      " 1   id                          45376 non-null  object        \n",
      " 2   original_language           45365 non-null  object        \n",
      " 3   overview                    44435 non-null  object        \n",
      " 4   popularity                  45376 non-null  object        \n",
      " 5   release_date                45376 non-null  datetime64[ns]\n",
      " 6   revenue                     45376 non-null  float64       \n",
      " 7   runtime                     45130 non-null  float64       \n",
      " 8   status                      45296 non-null  object        \n",
      " 9   tagline                     20398 non-null  object        \n",
      " 10  title                       45376 non-null  object        \n",
      " 11  vote_average                45376 non-null  float64       \n",
      " 12  vote_count                  45376 non-null  float64       \n",
      " 13  release_year                45376 non-null  float64       \n",
      " 14  return                      45376 non-null  float64       \n",
      " 15  id_belongs_to_collection    4488 non-null   float64       \n",
      " 16  name_belongs_to_collection  4488 non-null   object        \n",
      " 17  id_production_companies     33580 non-null  float64       \n",
      " 18  name_production_companies   33580 non-null  object        \n",
      " 19  iso_spoken_language         41608 non-null  object        \n",
      " 20  name_spoken_language        41608 non-null  object        \n",
      " 21  iso_production_countries    39165 non-null  object        \n",
      " 22  name_production_countries   39165 non-null  object        \n",
      " 23  id_genre                    42992 non-null  float64       \n",
      " 24  name_genre                  42992 non-null  object        \n",
      "dtypes: datetime64[ns](1), float64(9), int64(1), object(14)\n",
      "memory usage: 9.0+ MB\n",
      "None\n"
     ]
    }
   ],
   "source": [
    "# Elimino las columnas desanidadas por que ya no van a tener ninguna relevancia\n",
    "movies_df_parquet = movies_df_parquet.drop(columns=['belongs_to_collection','production_companies','production_countries','spoken_languages','genres'])\n",
    "\n",
    "# Verifico que la eliminacion sea exitosa\n",
    "print(movies_df_parquet .info())"
   ]
  },
  {
   "cell_type": "markdown",
   "metadata": {},
   "source": [
    "### 8. Desanidado de Columnas del dataset credits"
   ]
  },
  {
   "cell_type": "code",
   "execution_count": 33,
   "metadata": {},
   "outputs": [
    {
     "name": "stdout",
     "output_type": "stream",
     "text": [
      "<class 'pandas.core.frame.DataFrame'>\n",
      "RangeIndex: 45476 entries, 0 to 45475\n",
      "Data columns (total 3 columns):\n",
      " #   Column  Non-Null Count  Dtype \n",
      "---  ------  --------------  ----- \n",
      " 0   cast    45476 non-null  object\n",
      " 1   crew    45476 non-null  object\n",
      " 2   id      45476 non-null  int64 \n",
      "dtypes: int64(1), object(2)\n",
      "memory usage: 1.0+ MB\n",
      "None\n"
     ]
    }
   ],
   "source": [
    "# Reviso las columnas y tipo de datos en credits_df_parquet\n",
    "print(credits_df_parquet.info())\n"
   ]
  },
  {
   "cell_type": "code",
   "execution_count": 34,
   "metadata": {},
   "outputs": [
    {
     "name": "stdout",
     "output_type": "stream",
     "text": [
      "0    [{'cast_id': 14, 'character': 'Woody (voice)',...\n",
      "Name: cast, dtype: object\n"
     ]
    }
   ],
   "source": [
    "# Observo los tipos de datos que puedo encontrar dentro de la columna cast\n",
    "print(credits_df_parquet['cast'].head(1))"
   ]
  },
  {
   "cell_type": "code",
   "execution_count": 35,
   "metadata": {},
   "outputs": [],
   "source": [
    "# Realizo una funcion para desanidar la columna cast\n",
    "\n",
    "def desanidar_columna_cast(columna):\n",
    "    \"\"\"\n",
    "    Desanida la columna 'cast' del DataFrame 'credits_df_parquet', que contiene información en listas de diccionarios.\n",
    "    La función extrae los valores de 'id', 'name', 'character', 'gender', y 'profile_path' de la primera entrada en la lista \n",
    "    de cada fila y crea nuevas columnas en el DataFrame con estos valores.\n",
    "\n",
    "    Parámetros:\n",
    "        columna: Una columna del DataFrame que tiene una lista de diccionarios.\n",
    "\n",
    "    Retorna:\n",
    "        Una tupla con los valores extraídos: cast_id, character, credit_id, gender, id, name y order.\n",
    "    \"\"\"\n",
    "    if pd.isna(columna) or not isinstance(columna, str):\n",
    "        return None, None, None, None, None, None, None\n",
    "\n",
    "    try:\n",
    "        lista_dicts = ast.literal_eval(columna)\n",
    "\n",
    "        if isinstance(lista_dicts, list) and lista_dicts and isinstance(lista_dicts[0], dict):\n",
    "            # Extraigo los primeros valores de la lista para simplificar\n",
    "            first_entry = lista_dicts[0]\n",
    "            return (\n",
    "                first_entry.get('cast_id', None),\n",
    "                first_entry.get('character', None),\n",
    "                first_entry.get('credit_id', None),\n",
    "                first_entry.get('gender', None),\n",
    "                first_entry.get('id', None),\n",
    "                first_entry.get('name', None),\n",
    "                first_entry.get('order', None),\n",
    "            )\n",
    "        else:\n",
    "            return None, None, None, None, None, None, None\n",
    "    except (ValueError, SyntaxError):\n",
    "        return None, None, None, None, None, None, None\n",
    "\n",
    "# Aplico la función para extraer 'cast_id', 'character', 'credit_id', 'gender', 'id', 'name' y 'order' de 'cast'\n",
    "credits_df_parquet[['cast_id', 'cast_character', 'cast_credit_id', 'cast_gender', 'cast_id_actor', 'cast_name_actor', 'cast_order_credit']] = credits_df_parquet['cast'].apply(desanidar_columna_cast).apply(pd.Series)\n",
    "\n",
    "\n"
   ]
  },
  {
   "cell_type": "code",
   "execution_count": 36,
   "metadata": {},
   "outputs": [
    {
     "name": "stdout",
     "output_type": "stream",
     "text": [
      "   cast_id             cast_character            cast_credit_id  cast_gender  \\\n",
      "0     14.0              Woody (voice)  52fe4284c3a36847f8024f95          2.0   \n",
      "1      1.0               Alan Parrish  52fe44bfc3a36847f80a7c73          2.0   \n",
      "2      2.0                Max Goldman  52fe466a9251416c75077a8d          2.0   \n",
      "3      1.0  Savannah 'Vannah' Jackson  52fe44779251416c91011aad          1.0   \n",
      "4      1.0               George Banks  52fe44959251416c75039eb9          2.0   \n",
      "\n",
      "   cast_id_actor  cast_name_actor  cast_order_credit  \n",
      "0           31.0        Tom Hanks                0.0  \n",
      "1         2157.0   Robin Williams                0.0  \n",
      "2         6837.0   Walter Matthau                0.0  \n",
      "3         8851.0  Whitney Houston                0.0  \n",
      "4        67773.0     Steve Martin                0.0  \n",
      "<class 'pandas.core.frame.DataFrame'>\n",
      "RangeIndex: 45476 entries, 0 to 45475\n",
      "Data columns (total 10 columns):\n",
      " #   Column             Non-Null Count  Dtype  \n",
      "---  ------             --------------  -----  \n",
      " 0   cast               45476 non-null  object \n",
      " 1   crew               45476 non-null  object \n",
      " 2   id                 45476 non-null  int64  \n",
      " 3   cast_id            43058 non-null  float64\n",
      " 4   cast_character     43058 non-null  object \n",
      " 5   cast_credit_id     43058 non-null  object \n",
      " 6   cast_gender        43058 non-null  float64\n",
      " 7   cast_id_actor      43058 non-null  float64\n",
      " 8   cast_name_actor    43058 non-null  object \n",
      " 9   cast_order_credit  43058 non-null  float64\n",
      "dtypes: float64(4), int64(1), object(5)\n",
      "memory usage: 3.5+ MB\n",
      "None\n"
     ]
    }
   ],
   "source": [
    "# Verifico la existencia de las nuevas columnas\n",
    "print(credits_df_parquet[['cast_id', 'cast_character', 'cast_credit_id', 'cast_gender', 'cast_id_actor', 'cast_name_actor', 'cast_order_credit']].head())\n",
    "print(credits_df_parquet.info())"
   ]
  },
  {
   "cell_type": "code",
   "execution_count": 37,
   "metadata": {},
   "outputs": [
    {
     "name": "stdout",
     "output_type": "stream",
     "text": [
      "0    [{'credit_id': '52fe4284c3a36847f8024f49', 'de...\n",
      "Name: crew, dtype: object\n"
     ]
    }
   ],
   "source": [
    "# Confirmo los tipos de datos que puedo encontrar dentro de la columna cast\n",
    "print(credits_df_parquet['crew'].head(1))"
   ]
  },
  {
   "cell_type": "code",
   "execution_count": 38,
   "metadata": {},
   "outputs": [],
   "source": [
    "# Realizo una funcion para desanidar la columna crew\n",
    "\n",
    "def desanidar_columna_crew(columna):\n",
    "    \"\"\"\n",
    "    Desanida la columna 'crew' del DataFrame 'credits_df_parquet', que contiene información en listas de diccionarios.\n",
    "    La función extrae los valores de 'credit_id', 'department', 'gender', 'id', 'job', 'name', y 'profile_path' \n",
    "    de la primera entrada en la lista de cada fila y crea nuevas columnas en el DataFrame con estos valores.\n",
    "\n",
    "    Parámetros:\n",
    "        columna: Una columna del DataFrame que tiene una lista de diccionarios.\n",
    "\n",
    "    Retorna:\n",
    "        Una tupla con los valores extraídos: credit_id, department, gender, id, job, name y profile_path.\n",
    "    \"\"\"\n",
    "    if pd.isna(columna) or not isinstance(columna, str):\n",
    "        return None, None, None, None, None, None, None\n",
    "\n",
    "    try:\n",
    "        lista_dicts = ast.literal_eval(columna)\n",
    "\n",
    "        if isinstance(lista_dicts, list) and lista_dicts and isinstance(lista_dicts[0], dict):\n",
    "            # Extraigo los primeros valores de la lista para simplificar\n",
    "            first_entry = lista_dicts[0]\n",
    "            return (\n",
    "                first_entry.get('credit_id', None),\n",
    "                first_entry.get('department', None),\n",
    "                first_entry.get('gender', None),\n",
    "                first_entry.get('id', None),\n",
    "                first_entry.get('job', None),\n",
    "                first_entry.get('name', None),\n",
    "                first_entry.get('profile_path', None),\n",
    "            )\n",
    "        else:\n",
    "            return None, None, None, None, None, None, None\n",
    "    except (ValueError, SyntaxError):\n",
    "        return None, None, None, None, None, None, None\n",
    "\n",
    "# Aplico la función para extraer 'credit_id', 'department', 'gender', 'id', 'job', 'name' y 'profile_path' de 'crew'\n",
    "credits_df_parquet[['crew_credit_id', 'crew_department', 'crew_gender', 'crew_id_member', 'crew_job', 'crew_name_member', 'crew_profile_path_member']] = credits_df_parquet['crew'].apply(desanidar_columna_crew).apply(pd.Series)\n",
    "\n"
   ]
  },
  {
   "cell_type": "code",
   "execution_count": 39,
   "metadata": {},
   "outputs": [
    {
     "name": "stdout",
     "output_type": "stream",
     "text": [
      "             crew_credit_id crew_department  crew_gender  crew_id_member  \\\n",
      "0  52fe4284c3a36847f8024f49       Directing          2.0          7879.0   \n",
      "1  52fe44bfc3a36847f80a7cd1      Production          2.0           511.0   \n",
      "2  52fe466a9251416c75077a89       Directing          2.0         26502.0   \n",
      "3  52fe44779251416c91011acb       Directing          2.0          2178.0   \n",
      "4  52fe44959251416c75039ed7           Sound          2.0            37.0   \n",
      "\n",
      "                  crew_job crew_name_member          crew_profile_path_member  \n",
      "0                 Director    John Lasseter  /7EdqiNbr4FRjIhKHyPPdFfEEEFG.jpg  \n",
      "1       Executive Producer  Larry J. Franco                              None  \n",
      "2                 Director    Howard Deutch  /68Vae1HkU1NxQZ6KEmuxIpno7c9.jpg  \n",
      "3                 Director  Forest Whitaker  /4pMQkelS5lK661m9Kz3oIxLYiyS.jpg  \n",
      "4  Original Music Composer   Alan Silvestri  /chEsfnDEtRmv1bfOaNAoVEzhCc6.jpg  \n",
      "<class 'pandas.core.frame.DataFrame'>\n",
      "RangeIndex: 45476 entries, 0 to 45475\n",
      "Data columns (total 17 columns):\n",
      " #   Column                    Non-Null Count  Dtype  \n",
      "---  ------                    --------------  -----  \n",
      " 0   cast                      45476 non-null  object \n",
      " 1   crew                      45476 non-null  object \n",
      " 2   id                        45476 non-null  int64  \n",
      " 3   cast_id                   43058 non-null  float64\n",
      " 4   cast_character            43058 non-null  object \n",
      " 5   cast_credit_id            43058 non-null  object \n",
      " 6   cast_gender               43058 non-null  float64\n",
      " 7   cast_id_actor             43058 non-null  float64\n",
      " 8   cast_name_actor           43058 non-null  object \n",
      " 9   cast_order_credit         43058 non-null  float64\n",
      " 10  crew_credit_id            44705 non-null  object \n",
      " 11  crew_department           44705 non-null  object \n",
      " 12  crew_gender               44705 non-null  float64\n",
      " 13  crew_id_member            44705 non-null  float64\n",
      " 14  crew_job                  44705 non-null  object \n",
      " 15  crew_name_member          44705 non-null  object \n",
      " 16  crew_profile_path_member  21465 non-null  object \n",
      "dtypes: float64(6), int64(1), object(10)\n",
      "memory usage: 5.9+ MB\n",
      "None\n"
     ]
    }
   ],
   "source": [
    "# Verifico las primeras filas con las nuevas columnas\n",
    "\n",
    "print(credits_df_parquet[['crew_credit_id', 'crew_department', 'crew_gender', 'crew_id_member', 'crew_job', 'crew_name_member', 'crew_profile_path_member']].head())\n",
    "print(credits_df_parquet.info())"
   ]
  },
  {
   "cell_type": "code",
   "execution_count": 40,
   "metadata": {},
   "outputs": [
    {
     "name": "stdout",
     "output_type": "stream",
     "text": [
      "<class 'pandas.core.frame.DataFrame'>\n",
      "RangeIndex: 45476 entries, 0 to 45475\n",
      "Data columns (total 15 columns):\n",
      " #   Column                    Non-Null Count  Dtype  \n",
      "---  ------                    --------------  -----  \n",
      " 0   id                        45476 non-null  int64  \n",
      " 1   cast_id                   43058 non-null  float64\n",
      " 2   cast_character            43058 non-null  object \n",
      " 3   cast_credit_id            43058 non-null  object \n",
      " 4   cast_gender               43058 non-null  float64\n",
      " 5   cast_id_actor             43058 non-null  float64\n",
      " 6   cast_name_actor           43058 non-null  object \n",
      " 7   cast_order_credit         43058 non-null  float64\n",
      " 8   crew_credit_id            44705 non-null  object \n",
      " 9   crew_department           44705 non-null  object \n",
      " 10  crew_gender               44705 non-null  float64\n",
      " 11  crew_id_member            44705 non-null  float64\n",
      " 12  crew_job                  44705 non-null  object \n",
      " 13  crew_name_member          44705 non-null  object \n",
      " 14  crew_profile_path_member  21465 non-null  object \n",
      "dtypes: float64(6), int64(1), object(8)\n",
      "memory usage: 5.2+ MB\n",
      "None\n"
     ]
    }
   ],
   "source": [
    "# Elimino las columnas desanidadas\n",
    "credits_df_parquet = credits_df_parquet.drop(columns=['cast','crew'])\n",
    "\n",
    "# Verifico la eliminacion exitosa\n",
    "print(credits_df_parquet.info())"
   ]
  },
  {
   "cell_type": "markdown",
   "metadata": {},
   "source": [
    "### 9. Ordenamiento de las columnas finales del dataset"
   ]
  },
  {
   "cell_type": "code",
   "execution_count": 41,
   "metadata": {},
   "outputs": [],
   "source": [
    "# Cambio el nombre de la columna id por id_credits para no crear confusion\n",
    "credits_df_parquet.rename(columns={'id': 'id_credits'}, inplace=True)\n",
    "\n",
    "# Cambio el nombre de la columna id por id_movies para no crear confusion\n",
    "movies_df_parquet.rename(columns={'id': 'id_movies'}, inplace=True)"
   ]
  },
  {
   "cell_type": "code",
   "execution_count": 42,
   "metadata": {},
   "outputs": [
    {
     "name": "stdout",
     "output_type": "stream",
     "text": [
      "<class 'pandas.core.frame.DataFrame'>\n",
      "Index: 45376 entries, 0 to 45465\n",
      "Data columns (total 25 columns):\n",
      " #   Column                      Non-Null Count  Dtype         \n",
      "---  ------                      --------------  -----         \n",
      " 0   budget                      45376 non-null  int64         \n",
      " 1   id_movies                   45376 non-null  object        \n",
      " 2   original_language           45365 non-null  object        \n",
      " 3   overview                    44435 non-null  object        \n",
      " 4   popularity                  45376 non-null  object        \n",
      " 5   release_date                45376 non-null  datetime64[ns]\n",
      " 6   revenue                     45376 non-null  float64       \n",
      " 7   runtime                     45130 non-null  float64       \n",
      " 8   status                      45296 non-null  object        \n",
      " 9   tagline                     20398 non-null  object        \n",
      " 10  title                       45376 non-null  object        \n",
      " 11  vote_average                45376 non-null  float64       \n",
      " 12  vote_count                  45376 non-null  float64       \n",
      " 13  release_year                45376 non-null  float64       \n",
      " 14  return                      45376 non-null  float64       \n",
      " 15  id_belongs_to_collection    4488 non-null   float64       \n",
      " 16  name_belongs_to_collection  4488 non-null   object        \n",
      " 17  id_production_companies     33580 non-null  float64       \n",
      " 18  name_production_companies   33580 non-null  object        \n",
      " 19  iso_spoken_language         41608 non-null  object        \n",
      " 20  name_spoken_language        41608 non-null  object        \n",
      " 21  iso_production_countries    39165 non-null  object        \n",
      " 22  name_production_countries   39165 non-null  object        \n",
      " 23  id_genre                    42992 non-null  float64       \n",
      " 24  name_genre                  42992 non-null  object        \n",
      "dtypes: datetime64[ns](1), float64(9), int64(1), object(14)\n",
      "memory usage: 9.0+ MB\n",
      "None\n"
     ]
    }
   ],
   "source": [
    "# reviso que las columnas de movies_df_parquet esten en el formato correcto\n",
    "print(movies_df_parquet.info())\n"
   ]
  },
  {
   "cell_type": "code",
   "execution_count": 43,
   "metadata": {},
   "outputs": [],
   "source": [
    "# Modifico el tipo de dato de algunas columnas\n",
    "movies_df_parquet['id_movies'] = movies_df_parquet['id_movies'].astype('int64', errors='ignore')\n",
    "movies_df_parquet['popularity'] = movies_df_parquet['popularity'].astype('float64', errors='ignore')\n",
    "movies_df_parquet['popularity'] = movies_df_parquet['popularity'].round(2)  # Limitar a 2 decimales"
   ]
  },
  {
   "cell_type": "code",
   "execution_count": 44,
   "metadata": {},
   "outputs": [
    {
     "name": "stdout",
     "output_type": "stream",
     "text": [
      "<class 'pandas.core.frame.DataFrame'>\n",
      "Index: 45376 entries, 0 to 45465\n",
      "Data columns (total 25 columns):\n",
      " #   Column                      Non-Null Count  Dtype         \n",
      "---  ------                      --------------  -----         \n",
      " 0   budget                      45376 non-null  int64         \n",
      " 1   id_movies                   45376 non-null  int64         \n",
      " 2   original_language           45365 non-null  object        \n",
      " 3   overview                    44435 non-null  object        \n",
      " 4   popularity                  45376 non-null  float64       \n",
      " 5   release_date                45376 non-null  datetime64[ns]\n",
      " 6   revenue                     45376 non-null  float64       \n",
      " 7   runtime                     45130 non-null  float64       \n",
      " 8   status                      45296 non-null  object        \n",
      " 9   tagline                     20398 non-null  object        \n",
      " 10  title                       45376 non-null  object        \n",
      " 11  vote_average                45376 non-null  float64       \n",
      " 12  vote_count                  45376 non-null  float64       \n",
      " 13  release_year                45376 non-null  float64       \n",
      " 14  return                      45376 non-null  float64       \n",
      " 15  id_belongs_to_collection    4488 non-null   float64       \n",
      " 16  name_belongs_to_collection  4488 non-null   object        \n",
      " 17  id_production_companies     33580 non-null  float64       \n",
      " 18  name_production_companies   33580 non-null  object        \n",
      " 19  iso_spoken_language         41608 non-null  object        \n",
      " 20  name_spoken_language        41608 non-null  object        \n",
      " 21  iso_production_countries    39165 non-null  object        \n",
      " 22  name_production_countries   39165 non-null  object        \n",
      " 23  id_genre                    42992 non-null  float64       \n",
      " 24  name_genre                  42992 non-null  object        \n",
      "dtypes: datetime64[ns](1), float64(10), int64(2), object(12)\n",
      "memory usage: 9.0+ MB\n",
      "None\n"
     ]
    }
   ],
   "source": [
    "# reviso que se haya realizado el cambio\n",
    "print(movies_df_parquet.info())"
   ]
  },
  {
   "cell_type": "code",
   "execution_count": 45,
   "metadata": {},
   "outputs": [
    {
     "name": "stdout",
     "output_type": "stream",
     "text": [
      "<class 'pandas.core.frame.DataFrame'>\n",
      "RangeIndex: 45476 entries, 0 to 45475\n",
      "Data columns (total 15 columns):\n",
      " #   Column                    Non-Null Count  Dtype  \n",
      "---  ------                    --------------  -----  \n",
      " 0   id_credits                45476 non-null  int64  \n",
      " 1   cast_id                   43058 non-null  float64\n",
      " 2   cast_character            43058 non-null  object \n",
      " 3   cast_credit_id            43058 non-null  object \n",
      " 4   cast_gender               43058 non-null  float64\n",
      " 5   cast_id_actor             43058 non-null  float64\n",
      " 6   cast_name_actor           43058 non-null  object \n",
      " 7   cast_order_credit         43058 non-null  float64\n",
      " 8   crew_credit_id            44705 non-null  object \n",
      " 9   crew_department           44705 non-null  object \n",
      " 10  crew_gender               44705 non-null  float64\n",
      " 11  crew_id_member            44705 non-null  float64\n",
      " 12  crew_job                  44705 non-null  object \n",
      " 13  crew_name_member          44705 non-null  object \n",
      " 14  crew_profile_path_member  21465 non-null  object \n",
      "dtypes: float64(6), int64(1), object(8)\n",
      "memory usage: 5.2+ MB\n",
      "None\n"
     ]
    }
   ],
   "source": [
    "# reviso que las columnas de credits_df_parquet esten en el formato correcto\n",
    "print(credits_df_parquet.info())"
   ]
  },
  {
   "cell_type": "code",
   "execution_count": 46,
   "metadata": {},
   "outputs": [],
   "source": [
    "# Modifico los tipos de datos necesarios\n",
    "credits_df_parquet['id_credits'] = credits_df_parquet['id_credits'].astype('int64', errors='ignore')\n"
   ]
  },
  {
   "cell_type": "code",
   "execution_count": 47,
   "metadata": {},
   "outputs": [
    {
     "name": "stdout",
     "output_type": "stream",
     "text": [
      "<class 'pandas.core.frame.DataFrame'>\n",
      "RangeIndex: 45476 entries, 0 to 45475\n",
      "Data columns (total 15 columns):\n",
      " #   Column                    Non-Null Count  Dtype  \n",
      "---  ------                    --------------  -----  \n",
      " 0   id_credits                45476 non-null  int64  \n",
      " 1   cast_id                   43058 non-null  float64\n",
      " 2   cast_character            43058 non-null  object \n",
      " 3   cast_credit_id            43058 non-null  object \n",
      " 4   cast_gender               43058 non-null  float64\n",
      " 5   cast_id_actor             43058 non-null  float64\n",
      " 6   cast_name_actor           43058 non-null  object \n",
      " 7   cast_order_credit         43058 non-null  float64\n",
      " 8   crew_credit_id            44705 non-null  object \n",
      " 9   crew_department           44705 non-null  object \n",
      " 10  crew_gender               44705 non-null  float64\n",
      " 11  crew_id_member            44705 non-null  float64\n",
      " 12  crew_job                  44705 non-null  object \n",
      " 13  crew_name_member          44705 non-null  object \n",
      " 14  crew_profile_path_member  21465 non-null  object \n",
      "dtypes: float64(6), int64(1), object(8)\n",
      "memory usage: 5.2+ MB\n",
      "None\n"
     ]
    }
   ],
   "source": [
    "# reviso que las columnas de credits_df_parquet esten en el formato correcto\n",
    "print(credits_df_parquet.info())"
   ]
  },
  {
   "cell_type": "markdown",
   "metadata": {},
   "source": [
    "### 10. Revision de datos nulos con las nuevas columnas"
   ]
  },
  {
   "cell_type": "code",
   "execution_count": 48,
   "metadata": {},
   "outputs": [
    {
     "data": {
      "text/plain": [
       "budget                            0\n",
       "id_movies                         0\n",
       "original_language                11\n",
       "overview                        941\n",
       "popularity                        0\n",
       "release_date                      0\n",
       "revenue                           0\n",
       "runtime                         246\n",
       "status                           80\n",
       "tagline                       24978\n",
       "title                             0\n",
       "vote_average                      0\n",
       "vote_count                        0\n",
       "release_year                      0\n",
       "return                            0\n",
       "id_belongs_to_collection      40888\n",
       "name_belongs_to_collection    40888\n",
       "id_production_companies       11796\n",
       "name_production_companies     11796\n",
       "iso_spoken_language            3768\n",
       "name_spoken_language           3768\n",
       "iso_production_countries       6211\n",
       "name_production_countries      6211\n",
       "id_genre                       2384\n",
       "name_genre                     2384\n",
       "dtype: int64"
      ]
     },
     "execution_count": 48,
     "metadata": {},
     "output_type": "execute_result"
    }
   ],
   "source": [
    "# compruebo los datos nulos en movies_df_parquet\n",
    "movies_df_parquet.isnull().sum()"
   ]
  },
  {
   "cell_type": "code",
   "execution_count": 49,
   "metadata": {},
   "outputs": [],
   "source": [
    "# Modifico los datos nulos necesarios\n",
    "movies_df_parquet['name_genre'] = movies_df_parquet['name_genre'].fillna('Genero no especificado')\n",
    "movies_df_parquet['name_spoken_language'] = movies_df_parquet['name_spoken_language'].fillna('No Language')\n",
    "movies_df_parquet['iso_spoken_language'] = movies_df_parquet['iso_spoken_language'].fillna('xx')\n",
    "movies_df_parquet['id_genre'] = movies_df_parquet['id_genre'].fillna(0)"
   ]
  },
  {
   "cell_type": "code",
   "execution_count": 50,
   "metadata": {},
   "outputs": [
    {
     "data": {
      "text/plain": [
       "budget                            0\n",
       "id_movies                         0\n",
       "original_language                11\n",
       "overview                        941\n",
       "popularity                        0\n",
       "release_date                      0\n",
       "revenue                           0\n",
       "runtime                         246\n",
       "status                           80\n",
       "tagline                       24978\n",
       "title                             0\n",
       "vote_average                      0\n",
       "vote_count                        0\n",
       "release_year                      0\n",
       "return                            0\n",
       "id_belongs_to_collection      40888\n",
       "name_belongs_to_collection    40888\n",
       "id_production_companies       11796\n",
       "name_production_companies     11796\n",
       "iso_spoken_language               0\n",
       "name_spoken_language              0\n",
       "iso_production_countries       6211\n",
       "name_production_countries      6211\n",
       "id_genre                          0\n",
       "name_genre                        0\n",
       "dtype: int64"
      ]
     },
     "execution_count": 50,
     "metadata": {},
     "output_type": "execute_result"
    }
   ],
   "source": [
    "# compruebo que los cambios realizados sobre los datos nulos de las columnas de movies_df_parquet se hayan realizado\n",
    "movies_df_parquet.isnull().sum()"
   ]
  },
  {
   "cell_type": "code",
   "execution_count": 51,
   "metadata": {},
   "outputs": [
    {
     "data": {
      "text/plain": [
       "id_credits                      0\n",
       "cast_id                      2418\n",
       "cast_character               2418\n",
       "cast_credit_id               2418\n",
       "cast_gender                  2418\n",
       "cast_id_actor                2418\n",
       "cast_name_actor              2418\n",
       "cast_order_credit            2418\n",
       "crew_credit_id                771\n",
       "crew_department               771\n",
       "crew_gender                   771\n",
       "crew_id_member                771\n",
       "crew_job                      771\n",
       "crew_name_member              771\n",
       "crew_profile_path_member    24011\n",
       "dtype: int64"
      ]
     },
     "execution_count": 51,
     "metadata": {},
     "output_type": "execute_result"
    }
   ],
   "source": [
    "# compruebo los datos nulos en el dataframe de credits_df_parquet\n",
    "credits_df_parquet.isnull().sum()"
   ]
  },
  {
   "cell_type": "code",
   "execution_count": 52,
   "metadata": {},
   "outputs": [],
   "source": [
    "# Modifico los valores nulos del dataframe credits_df_parquet\n",
    "credits_df_parquet['cast_gender'] = credits_df_parquet['cast_gender'].fillna(0)\n",
    "credits_df_parquet['crew_gender'] = credits_df_parquet['crew_gender'].fillna(0)\n"
   ]
  },
  {
   "cell_type": "code",
   "execution_count": 53,
   "metadata": {},
   "outputs": [
    {
     "data": {
      "text/plain": [
       "id_credits                      0\n",
       "cast_id                      2418\n",
       "cast_character               2418\n",
       "cast_credit_id               2418\n",
       "cast_gender                     0\n",
       "cast_id_actor                2418\n",
       "cast_name_actor              2418\n",
       "cast_order_credit            2418\n",
       "crew_credit_id                771\n",
       "crew_department               771\n",
       "crew_gender                     0\n",
       "crew_id_member                771\n",
       "crew_job                      771\n",
       "crew_name_member              771\n",
       "crew_profile_path_member    24011\n",
       "dtype: int64"
      ]
     },
     "execution_count": 53,
     "metadata": {},
     "output_type": "execute_result"
    }
   ],
   "source": [
    "# comprobacion de los cambios realizados sobre los datos nulos de las columnas de credits_df_parquet\n",
    "credits_df_parquet.isnull().sum()"
   ]
  },
  {
   "cell_type": "markdown",
   "metadata": {},
   "source": [
    "#### No se realiza ningun cambio sobre los valores de tipo float para realizar una revision de los datos nulos en el EDA conservando los datos numericos"
   ]
  },
  {
   "cell_type": "markdown",
   "metadata": {},
   "source": [
    "### 10. Eliminacion de datos duplicados"
   ]
  },
  {
   "cell_type": "code",
   "execution_count": 54,
   "metadata": {},
   "outputs": [
    {
     "name": "stdout",
     "output_type": "stream",
     "text": [
      "59\n",
      "\n",
      "'id_movies' repetidos:\n",
      "id_movies\n",
      "141971    3\n",
      "97995     2\n",
      "10991     2\n",
      "109962    2\n",
      "119916    2\n",
      "159849    2\n",
      "84198     2\n",
      "132641    2\n",
      "168538    2\n",
      "99080     2\n",
      "18440     2\n",
      "12600     2\n",
      "5511      2\n",
      "105045    2\n",
      "14788     2\n",
      "22649     2\n",
      "15028     2\n",
      "152795    2\n",
      "11115     2\n",
      "298721    2\n",
      "13209     2\n",
      "23305     2\n",
      "110428    2\n",
      "77221     2\n",
      "42495     2\n",
      "25541     2\n",
      "265189    2\n",
      "4912      2\n",
      "69234     2\n",
      "Name: count, dtype: int64\n",
      "(45376, 25)\n"
     ]
    }
   ],
   "source": [
    "# Tomo la columna id_movies para realizar la eliminacion de los duplicados ya que los id son unicos por pelicula\n",
    "\n",
    "print(movies_df_parquet['id_movies'].duplicated(keep=False).sum())\n",
    "\n",
    "# Cuento la frecuencia de cada 'id_movies'\n",
    "frecuencia_id = movies_df_parquet['id_movies'].value_counts()\n",
    "\n",
    "# Filtro solo los 'id_movies' que se repiten\n",
    "id_repetidos = frecuencia_id[frecuencia_id > 1]\n",
    "\n",
    "print(\"\\n'id_movies' repetidos:\")\n",
    "print(id_repetidos)\n",
    "print(movies_df_parquet.shape)\n"
   ]
  },
  {
   "cell_type": "code",
   "execution_count": 55,
   "metadata": {},
   "outputs": [
    {
     "name": "stdout",
     "output_type": "stream",
     "text": [
      "(45346, 25)\n"
     ]
    }
   ],
   "source": [
    "# Elimino las filas duplicadas basadas en la columna 'id_movies', manteniendo la primera aparicion\n",
    "\n",
    "movies_df_parquet = movies_df_parquet.drop_duplicates(subset='id_movies', keep='first') # movies_df_parquet sin duplicados\n",
    "print(movies_df_parquet.shape)"
   ]
  },
  {
   "cell_type": "code",
   "execution_count": 56,
   "metadata": {},
   "outputs": [
    {
     "name": "stdout",
     "output_type": "stream",
     "text": [
      "87\n",
      "\n",
      "'id_credits' repetidos:\n",
      "id_credits\n",
      "141971    3\n",
      "298721    2\n",
      "9755      2\n",
      "10991     2\n",
      "99080     2\n",
      "152795    2\n",
      "22649     2\n",
      "18440     2\n",
      "5511      2\n",
      "132641    2\n",
      "105045    2\n",
      "159849    2\n",
      "187156    2\n",
      "43629     2\n",
      "8767      2\n",
      "123634    2\n",
      "157301    2\n",
      "4912      2\n",
      "142563    2\n",
      "42495     2\n",
      "11752     2\n",
      "84198     2\n",
      "24026     2\n",
      "110428    2\n",
      "24023     2\n",
      "199591    2\n",
      "125458    2\n",
      "3057      2\n",
      "116723    2\n",
      "23305     2\n",
      "97995     2\n",
      "168538    2\n",
      "12600     2\n",
      "14788     2\n",
      "69234     2\n",
      "13209     2\n",
      "15028     2\n",
      "109962    2\n",
      "265189    2\n",
      "25541     2\n",
      "119916    2\n",
      "11115     2\n",
      "77221     2\n",
      "Name: count, dtype: int64\n",
      "(45476, 15)\n"
     ]
    }
   ],
   "source": [
    "# Tomo la columna id_credits para realizar la eliminacion de los duplicados ya que los id son unicos por pelicula\n",
    "\n",
    "print(credits_df_parquet['id_credits'].duplicated(keep=False).sum())\n",
    "\n",
    "# Cuento la frecuencia de cada 'id_credits'\n",
    "frecuencia_id = credits_df_parquet['id_credits'].value_counts()\n",
    "\n",
    "# Filtro solo los 'id_credits' que se repiten\n",
    "id_repetidos = frecuencia_id[frecuencia_id > 1]\n",
    "\n",
    "print(\"\\n'id_credits' repetidos:\")\n",
    "print(id_repetidos)\n",
    "print(credits_df_parquet.shape)\n"
   ]
  },
  {
   "cell_type": "code",
   "execution_count": 57,
   "metadata": {},
   "outputs": [
    {
     "name": "stdout",
     "output_type": "stream",
     "text": [
      "(45432, 15)\n"
     ]
    }
   ],
   "source": [
    "# Elimino las filas duplicadas basadas en la columna 'id_credits', manteniendo la primera aparicion\n",
    "\n",
    "credits_df_parquet = credits_df_parquet.drop_duplicates(subset='id_credits', keep='first') # credits_df_parquet sin duplicados\n",
    "print(credits_df_parquet.shape)"
   ]
  },
  {
   "cell_type": "markdown",
   "metadata": {},
   "source": [
    "# Eliminacion de filas por lenguaje para optimizacion del dataset"
   ]
  },
  {
   "cell_type": "code",
   "execution_count": 58,
   "metadata": {},
   "outputs": [
    {
     "data": {
      "text/plain": [
       "array(['en', 'fr', 'zh', 'it', 'fa', 'nl', 'de', 'cn', 'ar', 'es', 'ru',\n",
       "       'sv', 'ja', 'ko', 'sr', 'bn', 'he', 'pt', 'wo', 'ro', 'hu', 'cy',\n",
       "       'vi', 'cs', 'da', 'no', 'nb', 'pl', 'el', 'sh', 'xx', 'mk', 'bo',\n",
       "       'ca', 'fi', 'th', 'sk', 'bs', 'hi', 'tr', 'is', 'ps', 'ab', 'eo',\n",
       "       'ka', 'mn', 'bm', 'zu', 'uk', 'af', 'la', 'et', 'ku', 'fy', 'lv',\n",
       "       'ta', 'sl', 'tl', 'ur', 'rw', 'id', 'bg', 'mr', 'lt', 'kk', 'ms',\n",
       "       'sq', None, 'qu', 'te', 'am', 'jv', 'tg', 'ml', 'hr', 'lo', 'ay',\n",
       "       'kn', 'eu', 'ne', 'pa', 'ky', 'gl', 'uz', 'sm', 'mt', 'hy', 'iu',\n",
       "       'lb', 'si'], dtype=object)"
      ]
     },
     "execution_count": 58,
     "metadata": {},
     "output_type": "execute_result"
    }
   ],
   "source": [
    "movies_df_parquet['original_language'].unique()"
   ]
  },
  {
   "cell_type": "code",
   "execution_count": 59,
   "metadata": {},
   "outputs": [
    {
     "data": {
      "text/plain": [
       "(45346, 25)"
      ]
     },
     "execution_count": 59,
     "metadata": {},
     "output_type": "execute_result"
    }
   ],
   "source": [
    "# Observar el tamaño del dataset antes de la optimizacion\n",
    "movies_df_parquet.shape"
   ]
  },
  {
   "cell_type": "code",
   "execution_count": 60,
   "metadata": {},
   "outputs": [
    {
     "name": "stdout",
     "output_type": "stream",
     "text": [
      "['en' 'es']\n",
      "(33176, 25)\n"
     ]
    }
   ],
   "source": [
    "# Definicion de los idiomas a mantener\n",
    "idiomas_permitidos = ['en', 'es']\n",
    "\n",
    "# Filtrar el DataFrame para mantener solo las filas donde el idioma este en la lista de idiomas permitidos\n",
    "movies_df_parquet = movies_df_parquet[movies_df_parquet['original_language'].isin(idiomas_permitidos)]\n",
    "\n",
    "# Verificar los resultados\n",
    "print(movies_df_parquet['original_language'].unique())\n",
    "\n",
    "# Observar el tamaño del dataset despues de la optimizacion\n",
    "print(movies_df_parquet.shape)"
   ]
  },
  {
   "cell_type": "code",
   "execution_count": 61,
   "metadata": {},
   "outputs": [
    {
     "data": {
      "text/plain": [
       "(45432, 15)"
      ]
     },
     "execution_count": 61,
     "metadata": {},
     "output_type": "execute_result"
    }
   ],
   "source": [
    "# Observo el tamaño del dataset antes de la optimizacion\n",
    "credits_df_parquet.shape"
   ]
  },
  {
   "cell_type": "code",
   "execution_count": 62,
   "metadata": {},
   "outputs": [
    {
     "name": "stdout",
     "output_type": "stream",
     "text": [
      "(33175, 15)\n"
     ]
    }
   ],
   "source": [
    "# Filtro el DataFrame de credits para que contenga solo los ids que están en movies\n",
    "credits_df_parquet = credits_df_parquet[credits_df_parquet['id_credits'].isin(movies_df_parquet['id_movies'])]\n",
    "\n",
    "# Verifico el resultado\n",
    "print(credits_df_parquet.shape)"
   ]
  },
  {
   "cell_type": "code",
   "execution_count": 63,
   "metadata": {},
   "outputs": [],
   "source": [
    "# Guardo los cambios realizados en el dataset\n",
    "movies_df_parquet.to_parquet('../Datasets/movies_dataset_parquet', index=False)\n",
    "credits_df_parquet.to_parquet('../Datasets/credits_dataset_parquet', index=False)"
   ]
  }
 ],
 "metadata": {
  "kernelspec": {
   "display_name": "Python 3",
   "language": "python",
   "name": "python3"
  },
  "language_info": {
   "codemirror_mode": {
    "name": "ipython",
    "version": 3
   },
   "file_extension": ".py",
   "mimetype": "text/x-python",
   "name": "python",
   "nbconvert_exporter": "python",
   "pygments_lexer": "ipython3",
   "version": "3.12.2"
  }
 },
 "nbformat": 4,
 "nbformat_minor": 2
}
