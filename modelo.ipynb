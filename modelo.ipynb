{
 "cells": [
  {
   "cell_type": "markdown",
   "metadata": {},
   "source": [
    "# Creacion del modelo "
   ]
  },
  {
   "cell_type": "code",
   "execution_count": 1,
   "metadata": {},
   "outputs": [],
   "source": [
    "# Importo las librerias correspondientes para la creacion del modelo\n",
    "\n",
    "import numpy as np\n",
    "import pandas as pd\n",
    "import seaborn as sns\n",
    "import matplotlib.pyplot as plt\n",
    "from scipy.sparse import hstack, csr_matrix\n",
    "from sklearn.decomposition import TruncatedSVD\n",
    "from sklearn.preprocessing import StandardScaler\n",
    "from sklearn.feature_extraction.text import TfidfVectorizer\n",
    "from sklearn.metrics.pairwise import cosine_similarity\n",
    "\n"
   ]
  },
  {
   "cell_type": "markdown",
   "metadata": {},
   "source": [
    "### 1. Obtencion y organizacion de los datos"
   ]
  },
  {
   "cell_type": "code",
   "execution_count": 2,
   "metadata": {},
   "outputs": [
    {
     "name": "stdout",
     "output_type": "stream",
     "text": [
      "Dimensiones del DataFrame: (24004, 12)\n"
     ]
    }
   ],
   "source": [
    "# Cargo el dataset modificado en el EDA\n",
    "\n",
    "dataframe_unido_modelo = pd.read_parquet('Datasets/dataset_unido_modelo')\n",
    "print(f\"Dimensiones del DataFrame: {dataframe_unido_modelo.shape}\")\n"
   ]
  },
  {
   "cell_type": "markdown",
   "metadata": {},
   "source": [
    "### 2. Vectorizacion de las características numericas"
   ]
  },
  {
   "cell_type": "code",
   "execution_count": 3,
   "metadata": {},
   "outputs": [],
   "source": [
    "# Vectorizo las características numéricas\n",
    "\n",
    "caracteristicas_numericas = ['budget', 'revenue', 'vote_count', 'popularity']\n",
    "escala = StandardScaler()\n",
    "caracteristicas_numericas_normalizadas = escala.fit_transform(dataframe_unido_modelo[caracteristicas_numericas])\n",
    "matrix_numerica_escalada = csr_matrix(caracteristicas_numericas_normalizadas)\n"
   ]
  },
  {
   "cell_type": "markdown",
   "metadata": {},
   "source": [
    "### 3. Vectorización de las características categóricas"
   ]
  },
  {
   "cell_type": "code",
   "execution_count": 4,
   "metadata": {},
   "outputs": [],
   "source": [
    "# Vectorizo el género y aplico un peso mayor a esta matriz\n",
    "\n",
    "vectorizar_genero = TfidfVectorizer(stop_words='english')\n",
    "matrix_tfidf_genero = vectorizar_genero.fit_transform(dataframe_unido_modelo['name_genre'])\n",
    "peso_del_genero = 6.0\n",
    "matrix_tfidf_genero_ponderado = peso_del_genero * matrix_tfidf_genero\n",
    "\n",
    "# Combino las columnas relevantes en una sola columna para la vectorización\n",
    "\n",
    "dataframe_unido_modelo['texto_combinado'] = (\n",
    "    dataframe_unido_modelo['cast_name_actor'] + ' ' +\n",
    "    dataframe_unido_modelo['crew_name_member'] + ' ' +\n",
    "    dataframe_unido_modelo['overview']\n",
    ")\n",
    "\n",
    "# Reemplazo valores nulos en la columna combinada con una cadena vacía\n",
    "dataframe_unido_modelo['texto_combinado'] = dataframe_unido_modelo['texto_combinado'].fillna('')\n",
    "\n",
    "# Elimino caracteres no deseados como comas\n",
    "dataframe_unido_modelo['texto_combinado'] = dataframe_unido_modelo['texto_combinado'].str.replace(',', ' ')\n",
    "\n",
    "# Vectorizo el texto combinado (actores, directores, overview)\n",
    "\n",
    "vectorizar_texto_combinado = TfidfVectorizer(stop_words='english')\n",
    "matrix_tfidf_combinado = vectorizar_texto_combinado.fit_transform(dataframe_unido_modelo['texto_combinado'])\n"
   ]
  },
  {
   "cell_type": "markdown",
   "metadata": {},
   "source": [
    "### 4. Combinación de características:\n"
   ]
  },
  {
   "cell_type": "code",
   "execution_count": 5,
   "metadata": {},
   "outputs": [],
   "source": [
    "# Combino la matriz numérica, la matriz ponderada de géneros y la matriz de texto combinado\n",
    "caracteristicas_combinadas = hstack([matrix_numerica_escalada, matrix_tfidf_genero_ponderado, matrix_tfidf_combinado])"
   ]
  },
  {
   "cell_type": "markdown",
   "metadata": {},
   "source": [
    "### 5. Realizar el calculo de la similitud del coseno"
   ]
  },
  {
   "cell_type": "code",
   "execution_count": 6,
   "metadata": {},
   "outputs": [],
   "source": [
    "# Aseguro que la matriz combinada es de tipo csr_matrix\n",
    "if not isinstance(caracteristicas_combinadas, csr_matrix):\n",
    "    caracteristicas_combinadas = csr_matrix(caracteristicas_combinadas)\n",
    "\n",
    "# Reduzco la dimensionalidad con SVD\n",
    "svd = TruncatedSVD(n_components=100)\n",
    "caracteristicas_reducidas = svd.fit_transform(caracteristicas_combinadas)\n",
    "\n",
    "# Calculo la matriz de similitud del coseno\n",
    "similitud_del_coseno = cosine_similarity(caracteristicas_reducidas)"
   ]
  },
  {
   "cell_type": "code",
   "execution_count": 7,
   "metadata": {},
   "outputs": [],
   "source": [
    "# Preproceso los titulos en minusculas solo una vez fuera de la funcion\n",
    "dataframe_unido_modelo['title_lower'] = dataframe_unido_modelo['title'].str.lower()\n",
    "\n",
    "def recomendacion(title: str):\n",
    "    \"\"\"\n",
    "    Recomienda peliculas similares a una pelicula dada basada en la similitud del coseno.\n",
    "\n",
    "    Parametros:\n",
    "        title: El título de la película para la cual se desean obtener recomendaciones.\n",
    "        similitud_del_coseno: La matriz de similitud del coseno entre peliculas.\n",
    "\n",
    "    Retorna:\n",
    "        Si el titulo es valido retorna una lista de 5 títulos de películas recomendadas que son más similares a la película dada.\n",
    "        Si el titulo no es valido retorna un mensaje indicando que el título no se encuentra disponible en la base de datos.\n",
    "    \"\"\"\n",
    "    # Normalizo el título para comparar sin importar mayúsculas/minúsculas\n",
    "    title = title.lower()\n",
    "\n",
    "    # Verifico si el título está en el DataFrame\n",
    "    if title not in dataframe_unido_modelo['title_lower'].values:\n",
    "        return {\"error\": f\"La película '{title}' no se encuentra dentro de la muestra de datos.\"}\n",
    "    \n",
    "    # Obtengo el índice de la película dada\n",
    "    idx = dataframe_unido_modelo[dataframe_unido_modelo['title_lower'] == title].index[0]\n",
    "    \n",
    "    # Si la matriz de similitud es dispersa, trabajo directamente con ella sin convertir a densa\n",
    "    if isinstance(similitud_del_coseno, csr_matrix):\n",
    "        sim_scores = similitud_del_coseno[idx].toarray().flatten()\n",
    "    else:\n",
    "        sim_scores = similitud_del_coseno[idx]\n",
    "    \n",
    "    # Obtener los índices de las 5 películas más similares\n",
    "    sim_scores_idx = np.argsort(sim_scores)[::-1]\n",
    "    sim_scores_idx = sim_scores_idx[sim_scores_idx != idx]  # Excluir la película misma\n",
    "    \n",
    "    top_5_indices = sim_scores_idx[:5]  # Obtener los 5 primeros índices\n",
    "    \n",
    "    # Obtener los títulos de las películas recomendadas\n",
    "    top_5_titles = dataframe_unido_modelo.iloc[top_5_indices]['title'].tolist()\n",
    "    \n",
    "    return {\"recomendaciones\": top_5_titles}"
   ]
  },
  {
   "cell_type": "code",
   "execution_count": 8,
   "metadata": {},
   "outputs": [
    {
     "name": "stdout",
     "output_type": "stream",
     "text": [
      "Recomendaciones para 'The Avengers':\n",
      "{'recomendaciones': ['Out of Time', 'The Missing', 'Hard Rain', 'U.S. Marshals', 'Original Sin']}\n",
      "\n",
      "Recomendaciones para 'Men in Black':\n",
      "{'recomendaciones': ['The Incredibles', 'Terminator 2: Judgment Day', 'Sherlock Holmes', 'The Bourne Ultimatum', 'Captain America: The Winter Soldier']}\n",
      "\n",
      "Recomendaciones para 'toy story':\n",
      "{'recomendaciones': ['Despicable Me', 'Ice Age', 'Monsters, Inc.', 'Aladdin', 'Toy Story 2']}\n",
      "\n",
      "Recomendaciones para 'john wick:\n",
      "{'recomendaciones': ['Baby Driver', 'Wonder Woman', 'Minions', 'Deadpool', 'Gone Girl']}\n",
      "\n",
      "Recomendaciones para 'titanic':\n",
      "{'recomendaciones': ['Star Wars: The Force Awakens', 'Inside Out', 'Jurassic World', 'Harry Potter and the Deathly Hallows: Part 2', 'Frozen']}\n",
      "\n",
      "Recomendaciones para 'saw':\n",
      "{'recomendaciones': ['The Purge: Anarchy', '28 Days Later', 'Insidious', 'It Follows', 'Shaun of the Dead']}\n",
      "{'error': \"La película 'bee' no se encuentra dentro de la muestra de datos.\"}\n"
     ]
    }
   ],
   "source": [
    "# Realizo una verificacion con distintos titulos de peliculas para observar el funcionamiento del modelo\n",
    "\n",
    "print(\"Recomendaciones para 'The Avengers':\")\n",
    "print(recomendacion('The Avengers'))\n",
    "\n",
    "print(\"\\nRecomendaciones para 'Men in Black':\")\n",
    "print(recomendacion('Men in Black'))\n",
    "\n",
    "print(\"\\nRecomendaciones para 'toy story':\")\n",
    "print(recomendacion('toy story'))\n",
    "\n",
    "print(\"\\nRecomendaciones para 'john wick:\")\n",
    "print(recomendacion('john wick'))\n",
    "\n",
    "print(\"\\nRecomendaciones para 'titanic':\")\n",
    "print(recomendacion('titanic'))\n",
    "\n",
    "print(\"\\nRecomendaciones para 'saw':\")\n",
    "print(recomendacion('saw'))\n",
    "\n",
    "print(recomendacion('bee'))"
   ]
  },
  {
   "cell_type": "code",
   "execution_count": 9,
   "metadata": {},
   "outputs": [
    {
     "data": {
      "image/png": "[encoded data removed]",
      "text/plain": [
       "<Figure size 1000x600 with 1 Axes>"
      ]
     },
     "metadata": {},
     "output_type": "display_data"
    }
   ],
   "source": [
    "import numpy as np\n",
    "import seaborn as sns\n",
    "import matplotlib.pyplot as plt\n",
    "\n",
    "# Extraer una muestra aleatoria del 1% de los elementos de la matriz\n",
    "sample_size = int(similitud_del_coseno.size * 0.01)\n",
    "sample_indices = np.random.choice(similitud_del_coseno.size, sample_size, replace=False)\n",
    "similitud_sampled = similitud_del_coseno.flatten()[sample_indices]\n",
    "\n",
    "plt.figure(figsize=(10, 6))\n",
    "sns.histplot(similitud_sampled, bins=50, kde=True)\n",
    "plt.title('Distribución de Similitud del Coseno (Muestra Aleatoria)')\n",
    "plt.xlabel('Similitud del Coseno')\n",
    "plt.ylabel('Frecuencia')\n",
    "plt.show()"
   ]
  }
 ],
 "metadata": {
  "kernelspec": {
   "display_name": "entorno_virtual",
   "language": "python",
   "name": "python3"
  },
  "language_info": {
   "codemirror_mode": {
    "name": "ipython",
    "version": 3
   },
   "file_extension": ".py",
   "mimetype": "text/x-python",
   "name": "python",
   "nbconvert_exporter": "python",
   "pygments_lexer": "ipython3",
   "version": "3.12.2"
  }
 },
 "nbformat": 4,
 "nbformat_minor": 2
}
