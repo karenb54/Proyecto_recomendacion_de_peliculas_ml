{
 "cells": [
  {
   "cell_type": "markdown",
   "metadata": {},
   "source": [
    "# Creacion del modelo "
   ]
  },
  {
   "cell_type": "code",
   "execution_count": 1,
   "metadata": {},
   "outputs": [],
   "source": [
    "# Importo las librerias correspondientes para realizar el analisis\n",
    "\n",
    "import numpy as np\n",
    "import pandas as pd\n",
    "import matplotlib.pyplot as plt\n",
    "from scipy.sparse import hstack, csr_matrix\n",
    "from sklearn.decomposition import TruncatedSVD\n",
    "from sklearn.preprocessing import StandardScaler\n",
    "from sklearn.metrics.pairwise import cosine_similarity\n",
    "from sklearn.feature_extraction.text import TfidfVectorizer\n"
   ]
  },
  {
   "cell_type": "code",
   "execution_count": null,
   "metadata": {},
   "outputs": [],
   "source": []
  },
  {
   "cell_type": "markdown",
   "metadata": {},
   "source": [
    "### 1. Obtencion y organizacion de los datos"
   ]
  },
  {
   "cell_type": "code",
   "execution_count": 2,
   "metadata": {},
   "outputs": [],
   "source": [
    "# Obtengo los datos del dataset creado en el EDA\n",
    "dataframe_unido_modelo = pd.read_parquet('Datasets/dataset_unido_EDA')\n",
    "\n",
    "# Reemplazo los valores nulos en las columnas que voy a vectorizar\n",
    "dataframe_unido_modelo['name_genre'] = dataframe_unido_modelo['name_genre'].fillna('')\n",
    "dataframe_unido_modelo['cast_name_actor'] = dataframe_unido_modelo['cast_name_actor'].fillna('')\n",
    "dataframe_unido_modelo['crew_name_member'] = dataframe_unido_modelo['crew_name_member'].fillna('')\n",
    "dataframe_unido_modelo['overview'] = dataframe_unido_modelo['overview'].fillna('')"
   ]
  },
  {
   "cell_type": "markdown",
   "metadata": {},
   "source": [
    "### 2. Vectorización de las características numéricas"
   ]
  },
  {
   "cell_type": "code",
   "execution_count": 3,
   "metadata": {},
   "outputs": [],
   "source": [
    "# Normalizo las características numéricas que voy a usar\n",
    "caracteristicas_numericas = ['budget', 'revenue', 'vote_count', 'popularity',]\n",
    "escala = StandardScaler()\n",
    "caracteristicas_numericas_normalizadas = escala.fit_transform(dataframe_unido_modelo[caracteristicas_numericas])\n"
   ]
  },
  {
   "cell_type": "markdown",
   "metadata": {},
   "source": [
    "### 3. Vectorización de las características categóricas"
   ]
  },
  {
   "cell_type": "code",
   "execution_count": 4,
   "metadata": {},
   "outputs": [
    {
     "name": "stderr",
     "output_type": "stream",
     "text": [
      "d:\\DOCUMENTOS\\DATA_SCIENCE\\Proyecto Machine Learning\\entorno_virtual\\Lib\\site-packages\\sklearn\\feature_extraction\\text.py:521: UserWarning: The parameter 'token_pattern' will not be used since 'tokenizer' is not None'\n",
      "  warnings.warn(\n",
      "d:\\DOCUMENTOS\\DATA_SCIENCE\\Proyecto Machine Learning\\entorno_virtual\\Lib\\site-packages\\sklearn\\feature_extraction\\text.py:521: UserWarning: The parameter 'token_pattern' will not be used since 'tokenizer' is not None'\n",
      "  warnings.warn(\n"
     ]
    }
   ],
   "source": [
    "# Realizo la vectorizacion del género de la película\n",
    "vectorizar_genero = TfidfVectorizer(tokenizer=lambda x: x.split(','))\n",
    "matrix_tfidf_genero = vectorizar_genero.fit_transform(dataframe_unido_modelo['name_genre'])\n",
    "\n",
    "# Realizo la vectorizacion de los actores \n",
    "vectorizar_actor = TfidfVectorizer(tokenizer=lambda x: x.split(','))\n",
    "matrix_tfidf_actor = vectorizar_actor.fit_transform(dataframe_unido_modelo['cast_name_actor'])\n",
    "\n",
    "# Filtro solo los directores y vectorizo\n",
    "dataframe_unido_modelo['director'] = dataframe_unido_modelo.apply(lambda x: x['crew_name_member'] if x['crew_job'] == 'Director' else '', axis=1)\n",
    "vectorizar_director = TfidfVectorizer(tokenizer=lambda x: x.split(','))\n",
    "matrix_tfidf_director = vectorizar_director.fit_transform(dataframe_unido_modelo['director'])\n",
    "\n",
    "# Realizo la vectorizacion del overview\n",
    "vectorizar_overview = TfidfVectorizer(stop_words='english')\n",
    "matrix_tfidf_overview = vectorizar_overview.fit_transform(dataframe_unido_modelo['overview'])\n"
   ]
  },
  {
   "cell_type": "markdown",
   "metadata": {},
   "source": [
    "### 4. Combinación de características:\n"
   ]
  },
  {
   "cell_type": "code",
   "execution_count": 5,
   "metadata": {},
   "outputs": [],
   "source": [
    "# primero convierto la matriz numerica escalada a una matriz dispersa\n",
    "matrix_numerica_escalada = csr_matrix(caracteristicas_numericas_normalizadas)\n",
    "\n",
    "# Pondero las matrices para agregar mas peso a algunas caracteristicas\n",
    "peso_del_genero = 6.0\n",
    "peso_del_actor = 3.0\n",
    "peso_del_director = 2.0\n",
    "peso_del_overview = 3.0\n",
    "\n",
    "peso_del_genero_matrix = peso_del_genero * matrix_tfidf_genero\n",
    "peso_del_actor_matrix = peso_del_actor * matrix_tfidf_actor\n",
    "peso_del_director_matrix = peso_del_director * matrix_tfidf_director\n",
    "peso_del_overview_matrix = peso_del_overview * matrix_tfidf_overview\n",
    "\n",
    "# Combino todas las matrices ponderadas\n",
    "caracteristicas_combinadas = hstack([\n",
    "    matrix_numerica_escalada,\n",
    "    peso_del_genero_matrix,\n",
    "    peso_del_actor_matrix,\n",
    "    peso_del_director_matrix,\n",
    "    peso_del_overview_matrix\n",
    "])"
   ]
  },
  {
   "cell_type": "markdown",
   "metadata": {},
   "source": [
    "### 5. Realizar el calculo de la similitud del coseno"
   ]
  },
  {
   "cell_type": "code",
   "execution_count": 6,
   "metadata": {},
   "outputs": [],
   "source": [
    "# Me aseguro de que 'features_combined' es una matriz dispersa (csr_matrix)\n",
    "if not isinstance(caracteristicas_combinadas, csr_matrix):\n",
    "    caracteristicas_combinadas = csr_matrix(caracteristicas_combinadas)\n",
    "\n",
    "# Reducir la dimensionalidad\n",
    "svd = TruncatedSVD(n_components=100)  # Ajusta el número de componentes según sea necesario\n",
    "caracteristicas_reducidas = svd.fit_transform(caracteristicas_combinadas)\n",
    "\n",
    "# Calcular similitud del coseno con la versión reducida\n",
    "similitud_del_coseno = cosine_similarity(caracteristicas_reducidas)"
   ]
  },
  {
   "cell_type": "code",
   "execution_count": 7,
   "metadata": {},
   "outputs": [],
   "source": [
    "def recommend_movies(title, similitud_del_coseno=similitud_del_coseno):\n",
    "    \"\"\"\n",
    "    Recomienda peliculas similares a una pelicula dada basada en la similitud del coseno.\n",
    "\n",
    "    Args:\n",
    "        title: El título de la película para la cual se desean obtener recomendaciones.\n",
    "        similitud_del_coseno: La matriz de similitud del coseno entre películas.\n",
    "\n",
    "    Returns:\n",
    "       \n",
    "        Una serie de 5 títulos de películas recomendadas que son más similares a la película dada,\n",
    "        o un mensaje indicando que el título no se encuentra disponible.\n",
    "    \"\"\"\n",
    "    # Normalizar el título para comparar sin importar mayúsculas/minúsculas\n",
    "    title = title.lower()\n",
    "    \n",
    "    # Convertir todos los títulos en minúsculas para la comparación\n",
    "    dataframe_unido_modelo['title_lower'] = dataframe_unido_modelo['title'].str.lower()\n",
    "    \n",
    "    # Verificar la existencia del título en el DataFrame\n",
    "    if title not in dataframe_unido_modelo['title_lower'].values:\n",
    "        return f\"El título '{title}' no se encuentra disponible en la base de datos.\"\n",
    "    \n",
    "    # Obtener el índice de la película dada\n",
    "    idx = dataframe_unido_modelo[dataframe_unido_modelo['title_lower'] == title].index[0]\n",
    "    \n",
    "    # Manejar matrices dispersas y densas\n",
    "    if isinstance(similitud_del_coseno, csr_matrix):\n",
    "        # Convertir a denso si es necesario\n",
    "        sim_scores = similitud_del_coseno[idx].toarray().flatten()\n",
    "    else:\n",
    "        # Si ya es denso, simplemente usa el índice\n",
    "        sim_scores = similitud_del_coseno[idx]\n",
    "    \n",
    "    # Enumerar y ordenar las similitudes\n",
    "    sim_scores = list(enumerate(sim_scores))\n",
    "    sim_scores = sorted(sim_scores, key=lambda x: x[1], reverse=True)\n",
    "    \n",
    "    # Tomar las 5 películas más similares\n",
    "    sim_scores = sim_scores[1:6]  # Excluye la película misma\n",
    "    \n",
    "    # Obtener los índices de las películas recomendadas\n",
    "    movie_indices = [i[0] for i in sim_scores]\n",
    "    \n",
    "    # Retornar los títulos de las películas recomendadas\n",
    "    return dataframe_unido_modelo[['title']].iloc[movie_indices]\n",
    "\n",
    "\n",
    "\n"
   ]
  },
  {
   "cell_type": "code",
   "execution_count": 8,
   "metadata": {},
   "outputs": [
    {
     "name": "stdout",
     "output_type": "stream",
     "text": [
      "Recomendaciones para 'The Avengers':\n",
      "               title\n",
      "6024     The Missing\n",
      "9807     The Reaping\n",
      "4136    Original Sin\n",
      "2893  Reindeer Games\n",
      "1261       The Saint\n",
      "\n",
      "Recomendaciones para 'Avatar':\n",
      "                              title\n",
      "14220                  The Avengers\n",
      "20812    Captain America: Civil War\n",
      "19650                Jurassic World\n",
      "32238               Despicable Me 3\n",
      "30528  Rogue One: A Star Wars Story\n",
      "\n",
      "Recomendaciones para 'Men in Black':\n",
      "                                     title\n",
      "7223                       The Incredibles\n",
      "3129                             Gladiator\n",
      "11958                      Sherlock Holmes\n",
      "18074  Captain America: The Winter Soldier\n",
      "15268                              Skyfall\n",
      "\n",
      "Recomendaciones para 'toy story':\n",
      "                title\n",
      "12595   Despicable Me\n",
      "4578          Ice Age\n",
      "2705      Toy Story 2\n",
      "4300   Monsters, Inc.\n",
      "541           Aladdin\n",
      "\n",
      "Recomendaciones para 'john wick: chapter 2':\n",
      "                                title\n",
      "267                      Pulp Fiction\n",
      "14052  Rise of the Planet of the Apes\n",
      "29914                         Arrival\n",
      "13805                         Super 8\n",
      "27192             10 Cloverfield Lane\n",
      "\n",
      "Recomendaciones para 'titanic':\n",
      "                                              title\n",
      "20800                  Star Wars: The Force Awakens\n",
      "23476                                    Inside Out\n",
      "19650                                Jurassic World\n",
      "13946  Harry Potter and the Deathly Hallows: Part 2\n",
      "17431                                        Frozen\n",
      "\n",
      "Recomendaciones para 'saw':\n",
      "                    title\n",
      "18630  The Purge: Anarchy\n",
      "13569           Insidious\n",
      "20349          It Follows\n",
      "1029               Aliens\n",
      "16341           Evil Dead\n",
      "\n",
      "La pelicula buscada no se encuentra en la base de datos:\n",
      "El título 'bee' no se encuentra disponible en la base de datos.\n"
     ]
    }
   ],
   "source": [
    "# Verificacion en diferentes peliculas \n",
    "\n",
    "print(\"Recomendaciones para 'The Avengers':\")\n",
    "print(recommend_movies('The Avengers'))\n",
    "\n",
    "print(\"\\nRecomendaciones para 'Avatar':\")\n",
    "print(recommend_movies('Avatar'))\n",
    "\n",
    "print(\"\\nRecomendaciones para 'Men in Black':\")\n",
    "print(recommend_movies('Men in Black'))\n",
    "\n",
    "print(\"\\nRecomendaciones para 'toy story':\")\n",
    "print(recommend_movies('toy story'))\n",
    "\n",
    "print(\"\\nRecomendaciones para 'john wick: chapter 2':\")\n",
    "print(recommend_movies('john wick: chapter 2'))\n",
    "\n",
    "print(\"\\nRecomendaciones para 'titanic':\")\n",
    "print(recommend_movies('titanic'))\n",
    "\n",
    "print(\"\\nRecomendaciones para 'saw':\")\n",
    "print(recommend_movies('saw'))\n",
    "\n",
    "print(\"\\nLa pelicula buscada no se encuentra en la base de datos:\")\n",
    "print(recommend_movies('bee'))\n",
    "\n"
   ]
  }
 ],
 "metadata": {
  "kernelspec": {
   "display_name": "entorno_virtual",
   "language": "python",
   "name": "python3"
  },
  "language_info": {
   "codemirror_mode": {
    "name": "ipython",
    "version": 3
   },
   "file_extension": ".py",
   "mimetype": "text/x-python",
   "name": "python",
   "nbconvert_exporter": "python",
   "pygments_lexer": "ipython3",
   "version": "3.12.2"
  }
 },
 "nbformat": 4,
 "nbformat_minor": 2
}
